{
  "nbformat": 4,
  "nbformat_minor": 0,
  "metadata": {
    "colab": {
      "provenance": [],
      "authorship_tag": "ABX9TyPH5mlFBWLue++hGJmBF0cd",
      "include_colab_link": true
    },
    "kernelspec": {
      "name": "python3",
      "display_name": "Python 3"
    },
    "language_info": {
      "name": "python"
    }
  },
  "cells": [
    {
      "cell_type": "markdown",
      "metadata": {
        "id": "view-in-github",
        "colab_type": "text"
      },
      "source": [
        "<a href=\"https://colab.research.google.com/github/jh6695/study/blob/main/%EC%9E%90%EC%97%B0%EC%96%B4_2_%ED%85%8D%EC%8A%A4%ED%8A%B8_%EC%A0%84%EC%B2%98%EB%A6%AC(%EC%A0%95%EA%B7%9C_%ED%91%9C%ED%98%84%EC%8B%9D).ipynb\" target=\"_parent\"><img src=\"https://colab.research.google.com/assets/colab-badge.svg\" alt=\"Open In Colab\"/></a>"
      ]
    },
    {
      "cell_type": "code",
      "source": [
        "import tensorflow as tf"
      ],
      "metadata": {
        "id": "OrrK0CLrw5ce"
      },
      "execution_count": 1,
      "outputs": []
    },
    {
      "cell_type": "code",
      "source": [
        "import keras"
      ],
      "metadata": {
        "id": "6mXQcqqWxBZN"
      },
      "execution_count": 2,
      "outputs": []
    },
    {
      "cell_type": "code",
      "source": [
        "import gensim"
      ],
      "metadata": {
        "id": "pgnOlO25xDyE"
      },
      "execution_count": 3,
      "outputs": []
    },
    {
      "cell_type": "code",
      "source": [
        "import sklearn"
      ],
      "metadata": {
        "id": "uDHmPFJkxG8H"
      },
      "execution_count": 4,
      "outputs": []
    },
    {
      "cell_type": "code",
      "source": [
        "import nltk\n",
        "nltk.download()"
      ],
      "metadata": {
        "colab": {
          "base_uri": "https://localhost:8080/"
        },
        "id": "EAkxVDLoxR0H",
        "outputId": "c201d8b8-21d4-4825-e82a-7d6846d8221c"
      },
      "execution_count": 5,
      "outputs": [
        {
          "name": "stdout",
          "output_type": "stream",
          "text": [
            "NLTK Downloader\n",
            "---------------------------------------------------------------------------\n",
            "    d) Download   l) List    u) Update   c) Config   h) Help   q) Quit\n",
            "---------------------------------------------------------------------------\n",
            "Downloader> d\n",
            "\n",
            "Download which package (l=list; x=cancel)?\n",
            "  Identifier> all\n"
          ]
        },
        {
          "output_type": "stream",
          "name": "stderr",
          "text": [
            "    Downloading collection 'all'\n",
            "       | \n",
            "       | Downloading package abc to /root/nltk_data...\n",
            "       |   Unzipping corpora/abc.zip.\n",
            "       | Downloading package alpino to /root/nltk_data...\n",
            "       |   Unzipping corpora/alpino.zip.\n",
            "       | Downloading package averaged_perceptron_tagger to\n",
            "       |     /root/nltk_data...\n",
            "       |   Unzipping taggers/averaged_perceptron_tagger.zip.\n",
            "       | Downloading package averaged_perceptron_tagger_ru to\n",
            "       |     /root/nltk_data...\n",
            "       |   Unzipping taggers/averaged_perceptron_tagger_ru.zip.\n",
            "       | Downloading package basque_grammars to /root/nltk_data...\n",
            "       |   Unzipping grammars/basque_grammars.zip.\n",
            "       | Downloading package bcp47 to /root/nltk_data...\n",
            "       | Downloading package biocreative_ppi to /root/nltk_data...\n",
            "       |   Unzipping corpora/biocreative_ppi.zip.\n",
            "       | Downloading package bllip_wsj_no_aux to /root/nltk_data...\n",
            "       |   Unzipping models/bllip_wsj_no_aux.zip.\n",
            "       | Downloading package book_grammars to /root/nltk_data...\n",
            "       |   Unzipping grammars/book_grammars.zip.\n",
            "       | Downloading package brown to /root/nltk_data...\n",
            "       |   Unzipping corpora/brown.zip.\n",
            "       | Downloading package brown_tei to /root/nltk_data...\n",
            "       |   Unzipping corpora/brown_tei.zip.\n",
            "       | Downloading package cess_cat to /root/nltk_data...\n",
            "       |   Unzipping corpora/cess_cat.zip.\n",
            "       | Downloading package cess_esp to /root/nltk_data...\n",
            "       |   Unzipping corpora/cess_esp.zip.\n",
            "       | Downloading package chat80 to /root/nltk_data...\n",
            "       |   Unzipping corpora/chat80.zip.\n",
            "       | Downloading package city_database to /root/nltk_data...\n",
            "       |   Unzipping corpora/city_database.zip.\n",
            "       | Downloading package cmudict to /root/nltk_data...\n",
            "       |   Unzipping corpora/cmudict.zip.\n",
            "       | Downloading package comparative_sentences to\n",
            "       |     /root/nltk_data...\n",
            "       |   Unzipping corpora/comparative_sentences.zip.\n",
            "       | Downloading package comtrans to /root/nltk_data...\n",
            "       | Downloading package conll2000 to /root/nltk_data...\n",
            "       |   Unzipping corpora/conll2000.zip.\n",
            "       | Downloading package conll2002 to /root/nltk_data...\n",
            "       |   Unzipping corpora/conll2002.zip.\n",
            "       | Downloading package conll2007 to /root/nltk_data...\n",
            "       | Downloading package crubadan to /root/nltk_data...\n",
            "       |   Unzipping corpora/crubadan.zip.\n",
            "       | Downloading package dependency_treebank to /root/nltk_data...\n",
            "       |   Unzipping corpora/dependency_treebank.zip.\n",
            "       | Downloading package dolch to /root/nltk_data...\n",
            "       |   Unzipping corpora/dolch.zip.\n",
            "       | Downloading package europarl_raw to /root/nltk_data...\n",
            "       |   Unzipping corpora/europarl_raw.zip.\n",
            "       | Downloading package extended_omw to /root/nltk_data...\n",
            "       | Downloading package floresta to /root/nltk_data...\n",
            "       |   Unzipping corpora/floresta.zip.\n",
            "       | Downloading package framenet_v15 to /root/nltk_data...\n",
            "       |   Unzipping corpora/framenet_v15.zip.\n",
            "       | Downloading package framenet_v17 to /root/nltk_data...\n",
            "       |   Unzipping corpora/framenet_v17.zip.\n",
            "       | Downloading package gazetteers to /root/nltk_data...\n",
            "       |   Unzipping corpora/gazetteers.zip.\n",
            "       | Downloading package genesis to /root/nltk_data...\n",
            "       |   Unzipping corpora/genesis.zip.\n",
            "       | Downloading package gutenberg to /root/nltk_data...\n",
            "       |   Unzipping corpora/gutenberg.zip.\n",
            "       | Downloading package ieer to /root/nltk_data...\n",
            "       |   Unzipping corpora/ieer.zip.\n",
            "       | Downloading package inaugural to /root/nltk_data...\n",
            "       |   Unzipping corpora/inaugural.zip.\n",
            "       | Downloading package indian to /root/nltk_data...\n",
            "       |   Unzipping corpora/indian.zip.\n",
            "       | Downloading package jeita to /root/nltk_data...\n",
            "       | Downloading package kimmo to /root/nltk_data...\n",
            "       |   Unzipping corpora/kimmo.zip.\n",
            "       | Downloading package knbc to /root/nltk_data...\n",
            "       | Downloading package large_grammars to /root/nltk_data...\n",
            "       |   Unzipping grammars/large_grammars.zip.\n",
            "       | Downloading package lin_thesaurus to /root/nltk_data...\n",
            "       |   Unzipping corpora/lin_thesaurus.zip.\n",
            "       | Downloading package mac_morpho to /root/nltk_data...\n",
            "       |   Unzipping corpora/mac_morpho.zip.\n",
            "       | Downloading package machado to /root/nltk_data...\n",
            "       | Downloading package masc_tagged to /root/nltk_data...\n",
            "       | Downloading package maxent_ne_chunker to /root/nltk_data...\n",
            "       |   Unzipping chunkers/maxent_ne_chunker.zip.\n",
            "       | Downloading package maxent_treebank_pos_tagger to\n",
            "       |     /root/nltk_data...\n",
            "       |   Unzipping taggers/maxent_treebank_pos_tagger.zip.\n",
            "       | Downloading package moses_sample to /root/nltk_data...\n",
            "       |   Unzipping models/moses_sample.zip.\n",
            "       | Downloading package movie_reviews to /root/nltk_data...\n",
            "       |   Unzipping corpora/movie_reviews.zip.\n",
            "       | Downloading package mte_teip5 to /root/nltk_data...\n",
            "       |   Unzipping corpora/mte_teip5.zip.\n",
            "       | Downloading package mwa_ppdb to /root/nltk_data...\n",
            "       |   Unzipping misc/mwa_ppdb.zip.\n",
            "       | Downloading package names to /root/nltk_data...\n",
            "       |   Unzipping corpora/names.zip.\n",
            "       | Downloading package nombank.1.0 to /root/nltk_data...\n",
            "       | Downloading package nonbreaking_prefixes to\n",
            "       |     /root/nltk_data...\n",
            "       |   Unzipping corpora/nonbreaking_prefixes.zip.\n",
            "       | Downloading package nps_chat to /root/nltk_data...\n",
            "       |   Unzipping corpora/nps_chat.zip.\n",
            "       | Downloading package omw to /root/nltk_data...\n",
            "       | Downloading package omw-1.4 to /root/nltk_data...\n",
            "       | Downloading package opinion_lexicon to /root/nltk_data...\n",
            "       |   Unzipping corpora/opinion_lexicon.zip.\n",
            "       | Downloading package panlex_swadesh to /root/nltk_data...\n",
            "       | Downloading package paradigms to /root/nltk_data...\n",
            "       |   Unzipping corpora/paradigms.zip.\n",
            "       | Downloading package pe08 to /root/nltk_data...\n",
            "       |   Unzipping corpora/pe08.zip.\n",
            "       | Downloading package perluniprops to /root/nltk_data...\n",
            "       |   Unzipping misc/perluniprops.zip.\n",
            "       | Downloading package pil to /root/nltk_data...\n",
            "       |   Unzipping corpora/pil.zip.\n",
            "       | Downloading package pl196x to /root/nltk_data...\n",
            "       |   Unzipping corpora/pl196x.zip.\n",
            "       | Downloading package porter_test to /root/nltk_data...\n",
            "       |   Unzipping stemmers/porter_test.zip.\n",
            "       | Downloading package ppattach to /root/nltk_data...\n",
            "       |   Unzipping corpora/ppattach.zip.\n",
            "       | Downloading package problem_reports to /root/nltk_data...\n",
            "       |   Unzipping corpora/problem_reports.zip.\n",
            "       | Downloading package product_reviews_1 to /root/nltk_data...\n",
            "       |   Unzipping corpora/product_reviews_1.zip.\n",
            "       | Downloading package product_reviews_2 to /root/nltk_data...\n",
            "       |   Unzipping corpora/product_reviews_2.zip.\n",
            "       | Downloading package propbank to /root/nltk_data...\n",
            "       | Downloading package pros_cons to /root/nltk_data...\n",
            "       |   Unzipping corpora/pros_cons.zip.\n",
            "       | Downloading package ptb to /root/nltk_data...\n",
            "       |   Unzipping corpora/ptb.zip.\n",
            "       | Downloading package punkt to /root/nltk_data...\n",
            "       |   Unzipping tokenizers/punkt.zip.\n",
            "       | Downloading package qc to /root/nltk_data...\n",
            "       |   Unzipping corpora/qc.zip.\n",
            "       | Downloading package reuters to /root/nltk_data...\n",
            "       | Downloading package rslp to /root/nltk_data...\n",
            "       |   Unzipping stemmers/rslp.zip.\n",
            "       | Downloading package rte to /root/nltk_data...\n",
            "       |   Unzipping corpora/rte.zip.\n",
            "       | Downloading package sample_grammars to /root/nltk_data...\n",
            "       |   Unzipping grammars/sample_grammars.zip.\n",
            "       | Downloading package semcor to /root/nltk_data...\n",
            "       | Downloading package senseval to /root/nltk_data...\n",
            "       |   Unzipping corpora/senseval.zip.\n",
            "       | Downloading package sentence_polarity to /root/nltk_data...\n",
            "       |   Unzipping corpora/sentence_polarity.zip.\n",
            "       | Downloading package sentiwordnet to /root/nltk_data...\n",
            "       |   Unzipping corpora/sentiwordnet.zip.\n",
            "       | Downloading package shakespeare to /root/nltk_data...\n",
            "       |   Unzipping corpora/shakespeare.zip.\n",
            "       | Downloading package sinica_treebank to /root/nltk_data...\n",
            "       |   Unzipping corpora/sinica_treebank.zip.\n",
            "       | Downloading package smultron to /root/nltk_data...\n",
            "       |   Unzipping corpora/smultron.zip.\n",
            "       | Downloading package snowball_data to /root/nltk_data...\n",
            "       | Downloading package spanish_grammars to /root/nltk_data...\n",
            "       |   Unzipping grammars/spanish_grammars.zip.\n",
            "       | Downloading package state_union to /root/nltk_data...\n",
            "       |   Unzipping corpora/state_union.zip.\n",
            "       | Downloading package stopwords to /root/nltk_data...\n",
            "       |   Unzipping corpora/stopwords.zip.\n",
            "       | Downloading package subjectivity to /root/nltk_data...\n",
            "       |   Unzipping corpora/subjectivity.zip.\n",
            "       | Downloading package swadesh to /root/nltk_data...\n",
            "       |   Unzipping corpora/swadesh.zip.\n",
            "       | Downloading package switchboard to /root/nltk_data...\n",
            "       |   Unzipping corpora/switchboard.zip.\n",
            "       | Downloading package tagsets to /root/nltk_data...\n",
            "       |   Unzipping help/tagsets.zip.\n",
            "       | Downloading package timit to /root/nltk_data...\n",
            "       |   Unzipping corpora/timit.zip.\n",
            "       | Downloading package toolbox to /root/nltk_data...\n",
            "       |   Unzipping corpora/toolbox.zip.\n",
            "       | Downloading package treebank to /root/nltk_data...\n",
            "       |   Unzipping corpora/treebank.zip.\n",
            "       | Downloading package twitter_samples to /root/nltk_data...\n",
            "       |   Unzipping corpora/twitter_samples.zip.\n",
            "       | Downloading package udhr to /root/nltk_data...\n",
            "       |   Unzipping corpora/udhr.zip.\n",
            "       | Downloading package udhr2 to /root/nltk_data...\n",
            "       |   Unzipping corpora/udhr2.zip.\n",
            "       | Downloading package unicode_samples to /root/nltk_data...\n",
            "       |   Unzipping corpora/unicode_samples.zip.\n",
            "       | Downloading package universal_tagset to /root/nltk_data...\n",
            "       |   Unzipping taggers/universal_tagset.zip.\n",
            "       | Downloading package universal_treebanks_v20 to\n",
            "       |     /root/nltk_data...\n",
            "       | Downloading package vader_lexicon to /root/nltk_data...\n",
            "       | Downloading package verbnet to /root/nltk_data...\n",
            "       |   Unzipping corpora/verbnet.zip.\n",
            "       | Downloading package verbnet3 to /root/nltk_data...\n",
            "       |   Unzipping corpora/verbnet3.zip.\n",
            "       | Downloading package webtext to /root/nltk_data...\n",
            "       |   Unzipping corpora/webtext.zip.\n",
            "       | Downloading package wmt15_eval to /root/nltk_data...\n",
            "       |   Unzipping models/wmt15_eval.zip.\n",
            "       | Downloading package word2vec_sample to /root/nltk_data...\n",
            "       |   Unzipping models/word2vec_sample.zip.\n",
            "       | Downloading package wordnet to /root/nltk_data...\n",
            "       | Downloading package wordnet2021 to /root/nltk_data...\n",
            "       | Downloading package wordnet2022 to /root/nltk_data...\n",
            "       |   Unzipping corpora/wordnet2022.zip.\n",
            "       | Downloading package wordnet31 to /root/nltk_data...\n",
            "       | Downloading package wordnet_ic to /root/nltk_data...\n",
            "       |   Unzipping corpora/wordnet_ic.zip.\n",
            "       | Downloading package words to /root/nltk_data...\n",
            "       |   Unzipping corpora/words.zip.\n",
            "       | Downloading package ycoe to /root/nltk_data...\n",
            "       |   Unzipping corpora/ycoe.zip.\n",
            "       | \n",
            "     Done downloading collection all\n"
          ]
        },
        {
          "name": "stdout",
          "output_type": "stream",
          "text": [
            "\n",
            "---------------------------------------------------------------------------\n",
            "    d) Download   l) List    u) Update   c) Config   h) Help   q) Quit\n",
            "---------------------------------------------------------------------------\n",
            "Downloader> ㅂ\n",
            "Command 'ㅂ' unrecognized\n",
            "\n",
            "---------------------------------------------------------------------------\n",
            "    d) Download   l) List    u) Update   c) Config   h) Help   q) Quit\n",
            "---------------------------------------------------------------------------\n",
            "Downloader> q\n"
          ]
        },
        {
          "output_type": "execute_result",
          "data": {
            "text/plain": [
              "True"
            ]
          },
          "metadata": {},
          "execution_count": 5
        }
      ]
    },
    {
      "cell_type": "code",
      "source": [
        "pip install konlpy"
      ],
      "metadata": {
        "colab": {
          "base_uri": "https://localhost:8080/"
        },
        "id": "Q6uPdiCUxaqS",
        "outputId": "c753b05b-3b3d-4fa1-d613-e9ab44d979ab"
      },
      "execution_count": 6,
      "outputs": [
        {
          "output_type": "stream",
          "name": "stdout",
          "text": [
            "Collecting konlpy\n",
            "  Downloading konlpy-0.6.0-py2.py3-none-any.whl (19.4 MB)\n",
            "\u001b[2K     \u001b[90m━━━━━━━━━━━━━━━━━━━━━━━━━━━━━━━━━━━━━━━━\u001b[0m \u001b[32m19.4/19.4 MB\u001b[0m \u001b[31m27.8 MB/s\u001b[0m eta \u001b[36m0:00:00\u001b[0m\n",
            "\u001b[?25hCollecting JPype1>=0.7.0 (from konlpy)\n",
            "  Downloading JPype1-1.5.0-cp310-cp310-manylinux_2_17_x86_64.manylinux2014_x86_64.whl (488 kB)\n",
            "\u001b[2K     \u001b[90m━━━━━━━━━━━━━━━━━━━━━━━━━━━━━━━━━━━━━━━━\u001b[0m \u001b[32m488.6/488.6 kB\u001b[0m \u001b[31m41.4 MB/s\u001b[0m eta \u001b[36m0:00:00\u001b[0m\n",
            "\u001b[?25hRequirement already satisfied: lxml>=4.1.0 in /usr/local/lib/python3.10/dist-packages (from konlpy) (4.9.4)\n",
            "Requirement already satisfied: numpy>=1.6 in /usr/local/lib/python3.10/dist-packages (from konlpy) (1.25.2)\n",
            "Requirement already satisfied: packaging in /usr/local/lib/python3.10/dist-packages (from JPype1>=0.7.0->konlpy) (24.0)\n",
            "Installing collected packages: JPype1, konlpy\n",
            "Successfully installed JPype1-1.5.0 konlpy-0.6.0\n"
          ]
        }
      ]
    },
    {
      "cell_type": "code",
      "source": [
        "import konlpy"
      ],
      "metadata": {
        "id": "KKVYCWBb0E-T"
      },
      "execution_count": 7,
      "outputs": []
    },
    {
      "cell_type": "code",
      "source": [
        "import pandas as pd"
      ],
      "metadata": {
        "id": "SOyNMD8b0Yh4"
      },
      "execution_count": 8,
      "outputs": []
    },
    {
      "cell_type": "markdown",
      "source": [
        "![image.png](data:image/png;base64,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)"
      ],
      "metadata": {
        "id": "J1HnOE5Eftol"
      }
    },
    {
      "cell_type": "markdown",
      "source": [
        "![image.png](data:image/png;base64,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)"
      ],
      "metadata": {
        "id": "wjaX6IO2vAG6"
      }
    },
    {
      "cell_type": "markdown",
      "source": [
        "![image.png](data:image/png;base64,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)"
      ],
      "metadata": {
        "id": "u21sfmawvC7e"
      }
    },
    {
      "cell_type": "markdown",
      "source": [
        "#1. '.' 기호\n",
        "\n",
        "한 개의 임의의 문자\n",
        "\n",
        "a.b = ahb, a5b, a?b"
      ],
      "metadata": {
        "id": "qB1rHypGcyqj"
      }
    },
    {
      "cell_type": "code",
      "source": [
        "r = re.compile(\"a.b\")\n",
        "r.search(\"kkk\")\n",
        "#매치되지 않음. 아무것도 출력되지 않는다."
      ],
      "metadata": {
        "id": "2DP0C1Q2dLK2"
      },
      "execution_count": 10,
      "outputs": []
    },
    {
      "cell_type": "code",
      "source": [
        "r.search(\"a>b\")\n",
        "#매치 완료"
      ],
      "metadata": {
        "colab": {
          "base_uri": "https://localhost:8080/"
        },
        "id": "GioSfkYMdTIv",
        "outputId": "ff9504c1-ef80-4f3a-d5fc-3430454f5bd7"
      },
      "execution_count": 11,
      "outputs": [
        {
          "output_type": "execute_result",
          "data": {
            "text/plain": [
              "<re.Match object; span=(0, 3), match='a>b'>"
            ]
          },
          "metadata": {},
          "execution_count": 11
        }
      ]
    },
    {
      "cell_type": "markdown",
      "source": [
        "# 2. '?' 기호\n",
        "\n",
        "? 앞의 문자가 있을 수도, 없을 수도 있음\n",
        "\n",
        "ab?c = abc , ac"
      ],
      "metadata": {
        "id": "7IfmkvwHdjRp"
      }
    },
    {
      "cell_type": "code",
      "source": [
        "r = re.compile(\"ab?c\")\n",
        "r.search(\"abbc\")\n",
        "#아무것도 출력되지 않음"
      ],
      "metadata": {
        "id": "VF7EKwHNdXI4"
      },
      "execution_count": 12,
      "outputs": []
    },
    {
      "cell_type": "code",
      "source": [
        "r.search(\"abc\")"
      ],
      "metadata": {
        "colab": {
          "base_uri": "https://localhost:8080/"
        },
        "id": "j7r5AAeMd4if",
        "outputId": "8ba507ae-fc8a-4ffd-cc3e-6bdde3579d7c"
      },
      "execution_count": 13,
      "outputs": [
        {
          "output_type": "execute_result",
          "data": {
            "text/plain": [
              "<re.Match object; span=(0, 3), match='abc'>"
            ]
          },
          "metadata": {},
          "execution_count": 13
        }
      ]
    },
    {
      "cell_type": "code",
      "source": [
        "r.search(\"ac\")"
      ],
      "metadata": {
        "colab": {
          "base_uri": "https://localhost:8080/"
        },
        "id": "ibJPolECd8aG",
        "outputId": "fec573ef-1ac5-4e3e-df36-75abde697d09"
      },
      "execution_count": 14,
      "outputs": [
        {
          "output_type": "execute_result",
          "data": {
            "text/plain": [
              "<re.Match object; span=(0, 2), match='ac'>"
            ]
          },
          "metadata": {},
          "execution_count": 14
        }
      ]
    },
    {
      "cell_type": "markdown",
      "source": [
        "# 3. '*' 기호\n",
        "\n",
        "'*' 앞에 기호가 없을 수도, 무수히 많을 수도 있음\n",
        "\n",
        "ab*c = abc, ac, abbbbc"
      ],
      "metadata": {
        "id": "4wbkyk9hesu_"
      }
    },
    {
      "cell_type": "code",
      "source": [
        "r = re.compile(\"ab*c\")\n",
        "r.search(\"adc\")"
      ],
      "metadata": {
        "id": "n42owv8ld9t1"
      },
      "execution_count": 16,
      "outputs": []
    },
    {
      "cell_type": "code",
      "source": [
        "r.search(\"ac\")"
      ],
      "metadata": {
        "colab": {
          "base_uri": "https://localhost:8080/"
        },
        "id": "tg7E25EmfABB",
        "outputId": "c5b911ad-1be3-41ad-83f3-74f39a30da9d"
      },
      "execution_count": 17,
      "outputs": [
        {
          "output_type": "execute_result",
          "data": {
            "text/plain": [
              "<re.Match object; span=(0, 2), match='ac'>"
            ]
          },
          "metadata": {},
          "execution_count": 17
        }
      ]
    },
    {
      "cell_type": "code",
      "source": [
        "r.search(\"abbbbbbbbbbc\")"
      ],
      "metadata": {
        "colab": {
          "base_uri": "https://localhost:8080/"
        },
        "id": "2DWH4ZYXfDk0",
        "outputId": "ccc85f68-a7ab-493b-b23d-c69ad467e478"
      },
      "execution_count": 18,
      "outputs": [
        {
          "output_type": "execute_result",
          "data": {
            "text/plain": [
              "<re.Match object; span=(0, 12), match='abbbbbbbbbbc'>"
            ]
          },
          "metadata": {},
          "execution_count": 18
        }
      ]
    },
    {
      "cell_type": "markdown",
      "source": [
        "# 4. '+'\n",
        "\n",
        "'+' 앞에 문자가 하나 이상이어야 함\n",
        "\n",
        "ab+c = abc, abbbc"
      ],
      "metadata": {
        "id": "dkQ2LNx5fJNR"
      }
    },
    {
      "cell_type": "code",
      "source": [
        "r = re.compile(\"ab+c\")\n",
        "r.search(\"ac\")"
      ],
      "metadata": {
        "id": "7bqv28hMfF9z"
      },
      "execution_count": 19,
      "outputs": []
    },
    {
      "cell_type": "code",
      "source": [
        "r.search(\"abc\")"
      ],
      "metadata": {
        "colab": {
          "base_uri": "https://localhost:8080/"
        },
        "id": "LvgH2XXDfWug",
        "outputId": "dcc818b6-394f-401d-b7b7-41ab3d330fba"
      },
      "execution_count": 20,
      "outputs": [
        {
          "output_type": "execute_result",
          "data": {
            "text/plain": [
              "<re.Match object; span=(0, 3), match='abc'>"
            ]
          },
          "metadata": {},
          "execution_count": 20
        }
      ]
    },
    {
      "cell_type": "code",
      "source": [
        "r.search(\"abbbbbbc\")"
      ],
      "metadata": {
        "colab": {
          "base_uri": "https://localhost:8080/"
        },
        "id": "8fEENB4ufYvU",
        "outputId": "4f3e374f-082c-4e55-91c9-a6c46fcda712"
      },
      "execution_count": 21,
      "outputs": [
        {
          "output_type": "execute_result",
          "data": {
            "text/plain": [
              "<re.Match object; span=(0, 8), match='abbbbbbc'>"
            ]
          },
          "metadata": {},
          "execution_count": 21
        }
      ]
    },
    {
      "cell_type": "markdown",
      "source": [
        "# 5. '^'\n",
        "\n",
        "시작 문자열 지정\n",
        "\n",
        "^ab = abz, abdddf"
      ],
      "metadata": {
        "id": "XPu6XzKXffQ-"
      }
    },
    {
      "cell_type": "code",
      "source": [
        "r = re.compile(\"^ab\")\n",
        "r.search(\"cab\")"
      ],
      "metadata": {
        "id": "-vCFUojCfa83"
      },
      "execution_count": 22,
      "outputs": []
    },
    {
      "cell_type": "code",
      "source": [
        "r.search(\"ab\")"
      ],
      "metadata": {
        "colab": {
          "base_uri": "https://localhost:8080/"
        },
        "id": "UHopUPr-f0M4",
        "outputId": "27d0734b-083c-4cd8-ff48-12c853fd680b"
      },
      "execution_count": 23,
      "outputs": [
        {
          "output_type": "execute_result",
          "data": {
            "text/plain": [
              "<re.Match object; span=(0, 2), match='ab'>"
            ]
          },
          "metadata": {},
          "execution_count": 23
        }
      ]
    },
    {
      "cell_type": "code",
      "source": [
        "r.search(\"abdenifej\")"
      ],
      "metadata": {
        "colab": {
          "base_uri": "https://localhost:8080/"
        },
        "id": "R4GOuRrtf16Y",
        "outputId": "124d2482-e726-4daf-ebe3-be509e46df67"
      },
      "execution_count": 24,
      "outputs": [
        {
          "output_type": "execute_result",
          "data": {
            "text/plain": [
              "<re.Match object; span=(0, 2), match='ab'>"
            ]
          },
          "metadata": {},
          "execution_count": 24
        }
      ]
    },
    {
      "cell_type": "markdown",
      "source": [
        "# {숫자}\n",
        "\n",
        "{숫자}만큼 앞 문자 반복\n",
        "\n",
        "ab{2}c = abbc"
      ],
      "metadata": {
        "id": "XPSk9XiHf_gW"
      }
    },
    {
      "cell_type": "code",
      "source": [
        "r = re.compile(\"ab{2}c\")\n",
        "r.search(\"abc\")\n",
        "r.search(\"abbbc\")"
      ],
      "metadata": {
        "id": "WapBy9ylf3XA"
      },
      "execution_count": 25,
      "outputs": []
    },
    {
      "cell_type": "code",
      "source": [
        "r.search(\"abbc\")"
      ],
      "metadata": {
        "colab": {
          "base_uri": "https://localhost:8080/"
        },
        "id": "grR0NJDlgR5y",
        "outputId": "f93e12d0-98e1-4bb7-e406-28b61482e063"
      },
      "execution_count": 26,
      "outputs": [
        {
          "output_type": "execute_result",
          "data": {
            "text/plain": [
              "<re.Match object; span=(0, 4), match='abbc'>"
            ]
          },
          "metadata": {},
          "execution_count": 26
        }
      ]
    },
    {
      "cell_type": "markdown",
      "source": [
        "# {숫자1, 숫자2}\n",
        "\n",
        "앞 문자를 숫자1에서 숫자2까지 반복"
      ],
      "metadata": {
        "id": "5vlnL2RBgX_O"
      }
    },
    {
      "cell_type": "code",
      "source": [
        "r = re.compile(\"ab{2,8}c\")\n",
        "r.search(\"abc\")"
      ],
      "metadata": {
        "id": "S52E_slMgS4o"
      },
      "execution_count": 27,
      "outputs": []
    },
    {
      "cell_type": "code",
      "source": [
        "r.search(\"abbc\")"
      ],
      "metadata": {
        "colab": {
          "base_uri": "https://localhost:8080/"
        },
        "id": "GBoXNQGegqft",
        "outputId": "ae5feebe-c51c-4418-ce1c-3c54fe84079e"
      },
      "execution_count": 28,
      "outputs": [
        {
          "output_type": "execute_result",
          "data": {
            "text/plain": [
              "<re.Match object; span=(0, 4), match='abbc'>"
            ]
          },
          "metadata": {},
          "execution_count": 28
        }
      ]
    },
    {
      "cell_type": "code",
      "source": [
        "r.search(\"abbbbbbbbc\")"
      ],
      "metadata": {
        "colab": {
          "base_uri": "https://localhost:8080/"
        },
        "id": "o_mfEeNMgsQ9",
        "outputId": "95d974f5-fc55-4501-de7e-4f0970a62625"
      },
      "execution_count": 29,
      "outputs": [
        {
          "output_type": "execute_result",
          "data": {
            "text/plain": [
              "<re.Match object; span=(0, 10), match='abbbbbbbbc'>"
            ]
          },
          "metadata": {},
          "execution_count": 29
        }
      ]
    },
    {
      "cell_type": "markdown",
      "source": [
        "# 8. {숫자,}\n",
        "\n",
        "숫자 이상 만큼 반복"
      ],
      "metadata": {
        "id": "yFAQL-ZBmxJE"
      }
    },
    {
      "cell_type": "code",
      "source": [
        "r = re.compile(\"ab{1,}c\")\n",
        "r.search(\"ac\")"
      ],
      "metadata": {
        "id": "CAId8hs7gt5u"
      },
      "execution_count": 30,
      "outputs": []
    },
    {
      "cell_type": "code",
      "source": [
        "r.search(\"abc\")"
      ],
      "metadata": {
        "colab": {
          "base_uri": "https://localhost:8080/"
        },
        "id": "zF8OYPb0m8nw",
        "outputId": "d2687a94-e4ca-4d35-ffd1-24710f21bb29"
      },
      "execution_count": 31,
      "outputs": [
        {
          "output_type": "execute_result",
          "data": {
            "text/plain": [
              "<re.Match object; span=(0, 3), match='abc'>"
            ]
          },
          "metadata": {},
          "execution_count": 31
        }
      ]
    },
    {
      "cell_type": "code",
      "source": [
        "r.search(\"abbbc\")"
      ],
      "metadata": {
        "colab": {
          "base_uri": "https://localhost:8080/"
        },
        "id": "v_3PzCPCm-33",
        "outputId": "aeb87a46-f962-44e5-b241-0ff328d1b488"
      },
      "execution_count": 32,
      "outputs": [
        {
          "output_type": "execute_result",
          "data": {
            "text/plain": [
              "<re.Match object; span=(0, 5), match='abbbc'>"
            ]
          },
          "metadata": {},
          "execution_count": 32
        }
      ]
    },
    {
      "cell_type": "markdown",
      "source": [
        "# 9. []\n",
        "\n",
        "[abc]: a, b, c 중 한 개의 문자와 매치\n"
      ],
      "metadata": {
        "id": "OTlZrQ7angzI"
      }
    },
    {
      "cell_type": "code",
      "source": [
        "r = re.compile(\"[abc]\")\n",
        "r.search(\"z\")"
      ],
      "metadata": {
        "id": "ODDESM4QnzQm"
      },
      "execution_count": 33,
      "outputs": []
    },
    {
      "cell_type": "code",
      "source": [
        "r.search(\"abc\")"
      ],
      "metadata": {
        "colab": {
          "base_uri": "https://localhost:8080/"
        },
        "id": "6HY40Lggn3OL",
        "outputId": "1071492d-00ed-4878-e8f1-1eb22ff5a9af"
      },
      "execution_count": 34,
      "outputs": [
        {
          "output_type": "execute_result",
          "data": {
            "text/plain": [
              "<re.Match object; span=(0, 1), match='a'>"
            ]
          },
          "metadata": {},
          "execution_count": 34
        }
      ]
    },
    {
      "cell_type": "code",
      "source": [
        "r.search(\"aaaabbb\")"
      ],
      "metadata": {
        "colab": {
          "base_uri": "https://localhost:8080/"
        },
        "id": "RnfOoRczn3v3",
        "outputId": "aa4da371-9db4-4d07-9def-29d6af07c55d"
      },
      "execution_count": 35,
      "outputs": [
        {
          "output_type": "execute_result",
          "data": {
            "text/plain": [
              "<re.Match object; span=(0, 1), match='a'>"
            ]
          },
          "metadata": {},
          "execution_count": 35
        }
      ]
    },
    {
      "cell_type": "code",
      "source": [
        "r.search(\"azz\")\n",
        "#하나만 포함되어도 매치"
      ],
      "metadata": {
        "colab": {
          "base_uri": "https://localhost:8080/"
        },
        "id": "M9EA0JU_n4zH",
        "outputId": "86684195-8ac7-4679-e219-3dc818be26f9"
      },
      "execution_count": 36,
      "outputs": [
        {
          "output_type": "execute_result",
          "data": {
            "text/plain": [
              "<re.Match object; span=(0, 1), match='a'>"
            ]
          },
          "metadata": {},
          "execution_count": 36
        }
      ]
    },
    {
      "cell_type": "code",
      "source": [
        "#알파벳 소문자에 대해 매치\n",
        "r = re.compile(\"[a-z]\")\n",
        "r.search(\"ABC\")\n",
        "r.search(\"111\")"
      ],
      "metadata": {
        "id": "MX9grzIgoDZF"
      },
      "execution_count": 40,
      "outputs": []
    },
    {
      "cell_type": "code",
      "source": [
        "r.search(\"abc\")"
      ],
      "metadata": {
        "colab": {
          "base_uri": "https://localhost:8080/"
        },
        "id": "JP0CLATqoNOy",
        "outputId": "c6b92488-7c66-42b4-dfe2-adaf1402db8d"
      },
      "execution_count": 38,
      "outputs": [
        {
          "output_type": "execute_result",
          "data": {
            "text/plain": [
              "<re.Match object; span=(0, 1), match='a'>"
            ]
          },
          "metadata": {},
          "execution_count": 38
        }
      ]
    },
    {
      "cell_type": "code",
      "source": [
        "r.search(\"aBc\")"
      ],
      "metadata": {
        "colab": {
          "base_uri": "https://localhost:8080/"
        },
        "id": "SKj0KUwkoObA",
        "outputId": "3d9383b8-58ee-48e1-ef91-fdf4bfc33c46"
      },
      "execution_count": 39,
      "outputs": [
        {
          "output_type": "execute_result",
          "data": {
            "text/plain": [
              "<re.Match object; span=(0, 1), match='a'>"
            ]
          },
          "metadata": {},
          "execution_count": 39
        }
      ]
    },
    {
      "cell_type": "markdown",
      "source": [
        "# 10. [^문자}\n",
        "\n",
        "^ 뒤 문자를 제외하고 매치"
      ],
      "metadata": {
        "id": "1HGbPG9yob2j"
      }
    },
    {
      "cell_type": "code",
      "source": [
        "r = re.compile(\"[^abc]\")\n",
        "r.search(\"abc\")\n",
        "r.search(\"a\")"
      ],
      "metadata": {
        "id": "vQjico_CoPSy"
      },
      "execution_count": 44,
      "outputs": []
    },
    {
      "cell_type": "code",
      "source": [
        "r.search(\"def\")"
      ],
      "metadata": {
        "colab": {
          "base_uri": "https://localhost:8080/"
        },
        "id": "aBB5WKbQokLt",
        "outputId": "3c9225e5-b378-41e2-ffd0-f0dd05cc835f"
      },
      "execution_count": 43,
      "outputs": [
        {
          "output_type": "execute_result",
          "data": {
            "text/plain": [
              "<re.Match object; span=(0, 1), match='d'>"
            ]
          },
          "metadata": {},
          "execution_count": 43
        }
      ]
    },
    {
      "cell_type": "code",
      "source": [
        "r.search(\"111\")"
      ],
      "metadata": {
        "colab": {
          "base_uri": "https://localhost:8080/"
        },
        "id": "W9ZRwwi4onMu",
        "outputId": "c3041fe7-9ccc-4827-b89b-7aca76b089b4"
      },
      "execution_count": 45,
      "outputs": [
        {
          "output_type": "execute_result",
          "data": {
            "text/plain": [
              "<re.Match object; span=(0, 1), match='1'>"
            ]
          },
          "metadata": {},
          "execution_count": 45
        }
      ]
    },
    {
      "cell_type": "markdown",
      "source": [
        "# 정규 표현식 모듈 함수\n",
        "# re.match()\n",
        "\n",
        "search와 다름. match는 문자열 첫부분부터 매치하는지 확인"
      ],
      "metadata": {
        "id": "-7UAYOBDoyBz"
      }
    },
    {
      "cell_type": "code",
      "source": [
        "r = re.compile(\"ab.\")\n",
        "r.match(\"ddab\")"
      ],
      "metadata": {
        "id": "mdX9sWqsor5-"
      },
      "execution_count": 46,
      "outputs": []
    },
    {
      "cell_type": "code",
      "source": [
        "r.search(\"ddabc\")"
      ],
      "metadata": {
        "colab": {
          "base_uri": "https://localhost:8080/"
        },
        "id": "V0irAbhUwGeG",
        "outputId": "34aeca6a-f3a7-4e00-d3b9-f3d40987647a"
      },
      "execution_count": 48,
      "outputs": [
        {
          "output_type": "execute_result",
          "data": {
            "text/plain": [
              "<re.Match object; span=(2, 5), match='abc'>"
            ]
          },
          "metadata": {},
          "execution_count": 48
        }
      ]
    },
    {
      "cell_type": "code",
      "source": [
        "r.match(\"abddc\")"
      ],
      "metadata": {
        "colab": {
          "base_uri": "https://localhost:8080/"
        },
        "id": "48Ax2scFwIah",
        "outputId": "645d90bc-e836-4c55-a40a-6dabd97ed19a"
      },
      "execution_count": 49,
      "outputs": [
        {
          "output_type": "execute_result",
          "data": {
            "text/plain": [
              "<re.Match object; span=(0, 3), match='abd'>"
            ]
          },
          "metadata": {},
          "execution_count": 49
        }
      ]
    },
    {
      "cell_type": "markdown",
      "source": [
        "# re.split()\n",
        "\n",
        "문자열을 분리하여 리스트로 리턴. 토큰화에 잘 쓰임."
      ],
      "metadata": {
        "id": "zfOVbjTHwn-z"
      }
    },
    {
      "cell_type": "code",
      "source": [
        "#공백 기준 분리\n",
        "text = \"사과 딸기 수박 메론 바나나\"\n",
        "re.split(\" \", text)"
      ],
      "metadata": {
        "colab": {
          "base_uri": "https://localhost:8080/"
        },
        "id": "3xGYjroiwN8R",
        "outputId": "aa5e31eb-e5fb-48f4-deac-ea025cd24f89"
      },
      "execution_count": 50,
      "outputs": [
        {
          "output_type": "execute_result",
          "data": {
            "text/plain": [
              "['사과', '딸기', '수박', '메론', '바나나']"
            ]
          },
          "metadata": {},
          "execution_count": 50
        }
      ]
    },
    {
      "cell_type": "code",
      "source": [
        "#줄바꿈 기준 분리\n",
        "#줄 바꿀 때는 \"\"\" 세 개\n",
        "text = \"\"\"사과\n",
        "딸기\n",
        "수박\n",
        "메론\n",
        "바나나\"\"\"\n",
        "re.split(\"\\n\", text)"
      ],
      "metadata": {
        "colab": {
          "base_uri": "https://localhost:8080/"
        },
        "id": "VTwkDKt9w5B1",
        "outputId": "7c4a9036-1761-44a6-88e6-133c7c244434"
      },
      "execution_count": 52,
      "outputs": [
        {
          "output_type": "execute_result",
          "data": {
            "text/plain": [
              "['사과', '딸기', '수박', '메론', '바나나']"
            ]
          },
          "metadata": {},
          "execution_count": 52
        }
      ]
    },
    {
      "cell_type": "code",
      "source": [
        "# '+'를 기준으로 분리\n",
        "# \\ - 이스케이프\n",
        "text = \"사과+딸기+수박+메론+바나나\"\n",
        "re.split(\"\\+\", text)"
      ],
      "metadata": {
        "colab": {
          "base_uri": "https://localhost:8080/"
        },
        "id": "VZ7mreF7xDyo",
        "outputId": "ae437405-5adf-416c-af50-1113121f47e5"
      },
      "execution_count": 55,
      "outputs": [
        {
          "output_type": "execute_result",
          "data": {
            "text/plain": [
              "['사과', '딸기', '수박', '메론', '바나나']"
            ]
          },
          "metadata": {},
          "execution_count": 55
        }
      ]
    },
    {
      "cell_type": "markdown",
      "source": [
        "# re.findall()\n",
        "\n",
        "정규 표현식과 매치되는 모든 문자열 반환. 매치되지 않으면 빈 문자열 [] 반환.\n",
        "\n",
        "숫자를 의미하는 규칙으로 실행하면 숫자만 반환."
      ],
      "metadata": {
        "id": "_xEyJ7pqx6Mn"
      }
    },
    {
      "cell_type": "code",
      "source": [
        "text = \"\"\"이름 : 김철수\n",
        "전화번호 : 010 - 1234 - 1234\n",
        "나이 : 30\n",
        "성별 : 남\"\"\"\n",
        "\n",
        "re.findall(\"\\d+\", text)\n",
        "# \\d: 문자열. +: 앞 문자 하나 이상 반복"
      ],
      "metadata": {
        "colab": {
          "base_uri": "https://localhost:8080/"
        },
        "id": "jCSp1qcDxI2a",
        "outputId": "332e3531-3a1e-4952-e665-8ac255900908"
      },
      "execution_count": 60,
      "outputs": [
        {
          "output_type": "execute_result",
          "data": {
            "text/plain": [
              "['010', '1234', '1234', '30']"
            ]
          },
          "metadata": {},
          "execution_count": 60
        }
      ]
    },
    {
      "cell_type": "code",
      "source": [
        "re.findall(\"\\d+\", \"문자열\")"
      ],
      "metadata": {
        "colab": {
          "base_uri": "https://localhost:8080/"
        },
        "id": "dNBzrBKgyijD",
        "outputId": "ef13b97a-06c9-4582-d6f4-48f5031ab582"
      },
      "execution_count": 61,
      "outputs": [
        {
          "output_type": "execute_result",
          "data": {
            "text/plain": [
              "[]"
            ]
          },
          "metadata": {},
          "execution_count": 61
        }
      ]
    },
    {
      "cell_type": "markdown",
      "source": [
        "# re.sub()\n",
        "\n",
        "정규 표현식 패턴과 일치하는 문자열을 찾아 다른 문자열로 대체\n",
        "\n",
        "정제 작업에 많이 사용됨. 특수문자 제거와 같은 방식."
      ],
      "metadata": {
        "id": "j4_b629gzOGr"
      }
    },
    {
      "cell_type": "code",
      "source": [
        "text = \"Regular expression : A regular expression, regex or regexp[1] (sometimes called a rational expression)[2][3] is, in theoretical computer science and formal language theory, a sequence of characters that define a search pattern.\"\n",
        "preprocessed_text = re.sub(\"[^a-zA-z]\", \" \", text)\n",
        "print(preprocessed_text)"
      ],
      "metadata": {
        "colab": {
          "base_uri": "https://localhost:8080/"
        },
        "id": "V1QVbqTiy7_s",
        "outputId": "1982b06d-b5b6-4a31-c502-f30933dcbfe4"
      },
      "execution_count": 62,
      "outputs": [
        {
          "output_type": "stream",
          "name": "stdout",
          "text": [
            "Regular expression   A regular expression  regex or regexp[ ]  sometimes called a rational expression [ ][ ] is  in theoretical computer science and formal language theory  a sequence of characters that define a search pattern \n"
          ]
        }
      ]
    },
    {
      "cell_type": "markdown",
      "source": [
        "\n",
        "# 정규 표현식 텍스트 전처리 예제"
      ],
      "metadata": {
        "id": "oCW3D334z1t2"
      }
    },
    {
      "cell_type": "code",
      "source": [
        "text = \"\"\"100 John    PROF\n",
        "101 James   STUD\n",
        "102 Mac   STUD\"\"\""
      ],
      "metadata": {
        "id": "Jl2OQs0KzltB"
      },
      "execution_count": 63,
      "outputs": []
    },
    {
      "cell_type": "code",
      "source": [
        "re.split(\"\\s+\", text)\n",
        "# \\s+ - 최소 1개 이상의 공백"
      ],
      "metadata": {
        "colab": {
          "base_uri": "https://localhost:8080/"
        },
        "id": "Bwt5668H0Efi",
        "outputId": "b3f65e20-a3f2-4f15-fde9-49dc401b75e0"
      },
      "execution_count": 65,
      "outputs": [
        {
          "output_type": "execute_result",
          "data": {
            "text/plain": [
              "['100', 'John', 'PROF', '101', 'James', 'STUD', '102', 'Mac', 'STUD']"
            ]
          },
          "metadata": {},
          "execution_count": 65
        }
      ]
    },
    {
      "cell_type": "code",
      "source": [
        "#숫자만 찾기\n",
        "re.findall(\"\\d+\", text)"
      ],
      "metadata": {
        "colab": {
          "base_uri": "https://localhost:8080/"
        },
        "id": "rNbbtYLW0NJN",
        "outputId": "ddf4590c-d870-4b6c-c985-a8e367e70263"
      },
      "execution_count": 66,
      "outputs": [
        {
          "output_type": "execute_result",
          "data": {
            "text/plain": [
              "['100', '101', '102']"
            ]
          },
          "metadata": {},
          "execution_count": 66
        }
      ]
    },
    {
      "cell_type": "code",
      "source": [
        "#대문자인 값만 가져오기 틀린 버전\n",
        "re.findall(\"[A-Z]\", text)"
      ],
      "metadata": {
        "colab": {
          "base_uri": "https://localhost:8080/"
        },
        "id": "_-LVFH5h0jx9",
        "outputId": "fdf24af6-c0c4-4c62-faf2-b0e4bd020b52"
      },
      "execution_count": 67,
      "outputs": [
        {
          "output_type": "execute_result",
          "data": {
            "text/plain": [
              "['J', 'P', 'R', 'O', 'F', 'J', 'S', 'T', 'U', 'D', 'M', 'S', 'T', 'U', 'D']"
            ]
          },
          "metadata": {},
          "execution_count": 67
        }
      ]
    },
    {
      "cell_type": "code",
      "source": [
        "#대문자만 가져오기 맞는 버전\n",
        "#연속 네번 등장하는 조건 추가\n",
        "re.findall(\"[A-Z]{4}\", text)"
      ],
      "metadata": {
        "colab": {
          "base_uri": "https://localhost:8080/"
        },
        "id": "vp9_dLsI0vQe",
        "outputId": "4cd7edf1-d938-465e-f231-1026de8106af"
      },
      "execution_count": 68,
      "outputs": [
        {
          "output_type": "execute_result",
          "data": {
            "text/plain": [
              "['PROF', 'STUD', 'STUD']"
            ]
          },
          "metadata": {},
          "execution_count": 68
        }
      ]
    },
    {
      "cell_type": "code",
      "source": [
        "#이름 가져오기\n",
        "#이름은 대문자와 소문자의 결합\n",
        "re.findall(\"[A-Z][a-z]+\", text)"
      ],
      "metadata": {
        "colab": {
          "base_uri": "https://localhost:8080/"
        },
        "id": "bEVsDAPJ06QH",
        "outputId": "012b2c81-9dbb-4a20-dd94-1710bc78713b"
      },
      "execution_count": 70,
      "outputs": [
        {
          "output_type": "execute_result",
          "data": {
            "text/plain": [
              "['John', 'James', 'Mac']"
            ]
          },
          "metadata": {},
          "execution_count": 70
        }
      ]
    },
    {
      "cell_type": "markdown",
      "source": [
        "# 정규 표현식을 이용한 토큰화\n",
        "\n",
        "RegexpTokenizer()\n",
        "\n",
        "괄호 안에 기준이 될 정규식을 넣어 토큰화"
      ],
      "metadata": {
        "id": "fjq70MQ-1Pge"
      }
    },
    {
      "cell_type": "code",
      "source": [
        "from nltk.tokenize import RegexpTokenizer\n",
        "\n",
        "text = \"Don't be fooled by the dark sounding name, Mr. Jone's Orphanage is as cheery as cheery goes for a pastry shop\"\n",
        "\n",
        "tokenizer1 = RegexpTokenizer(\"[\\w]+\") #문자나 숫자 1개 이상\n",
        "tokenizer2 = RegexpTokenizer(\"\\s+\", gaps = True) #공백 기준으로 토큰화. gaps = True - 해당 식을 토큰화 기준으로 사용함\n",
        "\n",
        "print(tokenizer1.tokenize(text))\n",
        "print(tokenizer2.tokenize(text))"
      ],
      "metadata": {
        "colab": {
          "base_uri": "https://localhost:8080/"
        },
        "id": "rKvjvSaL1Lkh",
        "outputId": "faa981c0-bb22-4c45-c80e-75ac5aaca2d9"
      },
      "execution_count": 73,
      "outputs": [
        {
          "output_type": "stream",
          "name": "stdout",
          "text": [
            "['Don', 't', 'be', 'fooled', 'by', 'the', 'dark', 'sounding', 'name', 'Mr', 'Jone', 's', 'Orphanage', 'is', 'as', 'cheery', 'as', 'cheery', 'goes', 'for', 'a', 'pastry', 'shop']\n",
            "[\"Don't\", 'be', 'fooled', 'by', 'the', 'dark', 'sounding', 'name,', 'Mr.', \"Jone's\", 'Orphanage', 'is', 'as', 'cheery', 'as', 'cheery', 'goes', 'for', 'a', 'pastry', 'shop']\n"
          ]
        }
      ]
    },
    {
      "cell_type": "markdown",
      "source": [
        "2는 1과 달리 어퍼스트로피나 온점을 포함하여 토큰화함"
      ],
      "metadata": {
        "id": "hOK03pFkAKyr"
      }
    },
    {
      "cell_type": "code",
      "source": [],
      "metadata": {
        "id": "--C3wtOy_qCM"
      },
      "execution_count": null,
      "outputs": []
    }
  ]
}