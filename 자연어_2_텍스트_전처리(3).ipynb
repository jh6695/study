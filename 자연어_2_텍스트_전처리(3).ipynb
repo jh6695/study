{
  "nbformat": 4,
  "nbformat_minor": 0,
  "metadata": {
    "colab": {
      "provenance": [],
      "authorship_tag": "ABX9TyO+ZaaKL0acBQ4sdJl6gmh/",
      "include_colab_link": true
    },
    "kernelspec": {
      "name": "python3",
      "display_name": "Python 3"
    },
    "language_info": {
      "name": "python"
    }
  },
  "cells": [
    {
      "cell_type": "markdown",
      "metadata": {
        "id": "view-in-github",
        "colab_type": "text"
      },
      "source": [
        "<a href=\"https://colab.research.google.com/github/jh6695/study/blob/main/%EC%9E%90%EC%97%B0%EC%96%B4_2_%ED%85%8D%EC%8A%A4%ED%8A%B8_%EC%A0%84%EC%B2%98%EB%A6%AC(3).ipynb\" target=\"_parent\"><img src=\"https://colab.research.google.com/assets/colab-badge.svg\" alt=\"Open In Colab\"/></a>"
      ]
    },
    {
      "cell_type": "markdown",
      "source": [
        "#한국어 전처리 패키지\n",
        "\n",
        "#1. PyKoSpacing\n",
        "\n",
        "띄어쓰기가 되어 있지 않은 문장을 띄어쓰기 형태로 바꿔 주는 패키지"
      ],
      "metadata": {
        "id": "XxigmopwNxFc"
      }
    },
    {
      "cell_type": "code",
      "source": [
        "pip install git+https://github.com/haven-jeon/PyKoSpacing.git"
      ],
      "metadata": {
        "colab": {
          "base_uri": "https://localhost:8080/",
          "height": 1000
        },
        "id": "0_0fdHJuDquF",
        "outputId": "3916ca34-71b0-4ed2-91c2-ac8d41729338"
      },
      "execution_count": 34,
      "outputs": [
        {
          "output_type": "stream",
          "name": "stdout",
          "text": [
            "Collecting git+https://github.com/haven-jeon/PyKoSpacing.git\n",
            "  Cloning https://github.com/haven-jeon/PyKoSpacing.git to /tmp/pip-req-build-kgxkw01y\n",
            "  Running command git clone --filter=blob:none --quiet https://github.com/haven-jeon/PyKoSpacing.git /tmp/pip-req-build-kgxkw01y\n",
            "  Resolved https://github.com/haven-jeon/PyKoSpacing.git to commit 04aeebcbe26b109486a642e57dc58665c4818cf3\n",
            "  Preparing metadata (setup.py) ... \u001b[?25l\u001b[?25hdone\n",
            "Requirement already satisfied: tensorflow==2.11.1 in /usr/local/lib/python3.10/dist-packages (from pykospacing==0.5) (2.11.1)\n",
            "Requirement already satisfied: h5py==3.10.0 in /usr/local/lib/python3.10/dist-packages (from pykospacing==0.5) (3.10.0)\n",
            "Collecting argparse>=1.4.0 (from pykospacing==0.5)\n",
            "  Using cached argparse-1.4.0-py2.py3-none-any.whl (23 kB)\n",
            "Requirement already satisfied: numpy>=1.17.3 in /usr/local/lib/python3.10/dist-packages (from h5py==3.10.0->pykospacing==0.5) (1.25.2)\n",
            "Requirement already satisfied: absl-py>=1.0.0 in /usr/local/lib/python3.10/dist-packages (from tensorflow==2.11.1->pykospacing==0.5) (1.4.0)\n",
            "Requirement already satisfied: astunparse>=1.6.0 in /usr/local/lib/python3.10/dist-packages (from tensorflow==2.11.1->pykospacing==0.5) (1.6.3)\n",
            "Requirement already satisfied: flatbuffers>=2.0 in /usr/local/lib/python3.10/dist-packages (from tensorflow==2.11.1->pykospacing==0.5) (24.3.25)\n",
            "Requirement already satisfied: gast<=0.4.0,>=0.2.1 in /usr/local/lib/python3.10/dist-packages (from tensorflow==2.11.1->pykospacing==0.5) (0.4.0)\n",
            "Requirement already satisfied: google-pasta>=0.1.1 in /usr/local/lib/python3.10/dist-packages (from tensorflow==2.11.1->pykospacing==0.5) (0.2.0)\n",
            "Requirement already satisfied: grpcio<2.0,>=1.24.3 in /usr/local/lib/python3.10/dist-packages (from tensorflow==2.11.1->pykospacing==0.5) (1.62.2)\n",
            "Requirement already satisfied: keras<2.12,>=2.11.0 in /usr/local/lib/python3.10/dist-packages (from tensorflow==2.11.1->pykospacing==0.5) (2.11.0)\n",
            "Requirement already satisfied: libclang>=13.0.0 in /usr/local/lib/python3.10/dist-packages (from tensorflow==2.11.1->pykospacing==0.5) (18.1.1)\n",
            "Requirement already satisfied: opt-einsum>=2.3.2 in /usr/local/lib/python3.10/dist-packages (from tensorflow==2.11.1->pykospacing==0.5) (3.3.0)\n",
            "Requirement already satisfied: packaging in /usr/local/lib/python3.10/dist-packages (from tensorflow==2.11.1->pykospacing==0.5) (24.0)\n",
            "Requirement already satisfied: protobuf<3.20,>=3.9.2 in /usr/local/lib/python3.10/dist-packages (from tensorflow==2.11.1->pykospacing==0.5) (3.19.6)\n",
            "Requirement already satisfied: setuptools in /usr/local/lib/python3.10/dist-packages (from tensorflow==2.11.1->pykospacing==0.5) (67.7.2)\n",
            "Requirement already satisfied: six>=1.12.0 in /usr/local/lib/python3.10/dist-packages (from tensorflow==2.11.1->pykospacing==0.5) (1.16.0)\n",
            "Requirement already satisfied: tensorboard<2.12,>=2.11 in /usr/local/lib/python3.10/dist-packages (from tensorflow==2.11.1->pykospacing==0.5) (2.11.2)\n",
            "Requirement already satisfied: tensorflow-estimator<2.12,>=2.11.0 in /usr/local/lib/python3.10/dist-packages (from tensorflow==2.11.1->pykospacing==0.5) (2.11.0)\n",
            "Requirement already satisfied: termcolor>=1.1.0 in /usr/local/lib/python3.10/dist-packages (from tensorflow==2.11.1->pykospacing==0.5) (2.4.0)\n",
            "Requirement already satisfied: typing-extensions>=3.6.6 in /usr/local/lib/python3.10/dist-packages (from tensorflow==2.11.1->pykospacing==0.5) (4.11.0)\n",
            "Requirement already satisfied: wrapt>=1.11.0 in /usr/local/lib/python3.10/dist-packages (from tensorflow==2.11.1->pykospacing==0.5) (1.14.1)\n",
            "Requirement already satisfied: tensorflow-io-gcs-filesystem>=0.23.1 in /usr/local/lib/python3.10/dist-packages (from tensorflow==2.11.1->pykospacing==0.5) (0.36.0)\n",
            "Requirement already satisfied: wheel<1.0,>=0.23.0 in /usr/local/lib/python3.10/dist-packages (from astunparse>=1.6.0->tensorflow==2.11.1->pykospacing==0.5) (0.43.0)\n",
            "Requirement already satisfied: google-auth<3,>=1.6.3 in /usr/local/lib/python3.10/dist-packages (from tensorboard<2.12,>=2.11->tensorflow==2.11.1->pykospacing==0.5) (2.27.0)\n",
            "Requirement already satisfied: google-auth-oauthlib<0.5,>=0.4.1 in /usr/local/lib/python3.10/dist-packages (from tensorboard<2.12,>=2.11->tensorflow==2.11.1->pykospacing==0.5) (0.4.6)\n",
            "Requirement already satisfied: markdown>=2.6.8 in /usr/local/lib/python3.10/dist-packages (from tensorboard<2.12,>=2.11->tensorflow==2.11.1->pykospacing==0.5) (3.6)\n",
            "Requirement already satisfied: requests<3,>=2.21.0 in /usr/local/lib/python3.10/dist-packages (from tensorboard<2.12,>=2.11->tensorflow==2.11.1->pykospacing==0.5) (2.31.0)\n",
            "Requirement already satisfied: tensorboard-data-server<0.7.0,>=0.6.0 in /usr/local/lib/python3.10/dist-packages (from tensorboard<2.12,>=2.11->tensorflow==2.11.1->pykospacing==0.5) (0.6.1)\n",
            "Requirement already satisfied: tensorboard-plugin-wit>=1.6.0 in /usr/local/lib/python3.10/dist-packages (from tensorboard<2.12,>=2.11->tensorflow==2.11.1->pykospacing==0.5) (1.8.1)\n",
            "Requirement already satisfied: werkzeug>=1.0.1 in /usr/local/lib/python3.10/dist-packages (from tensorboard<2.12,>=2.11->tensorflow==2.11.1->pykospacing==0.5) (3.0.2)\n",
            "Requirement already satisfied: cachetools<6.0,>=2.0.0 in /usr/local/lib/python3.10/dist-packages (from google-auth<3,>=1.6.3->tensorboard<2.12,>=2.11->tensorflow==2.11.1->pykospacing==0.5) (5.3.3)\n",
            "Requirement already satisfied: pyasn1-modules>=0.2.1 in /usr/local/lib/python3.10/dist-packages (from google-auth<3,>=1.6.3->tensorboard<2.12,>=2.11->tensorflow==2.11.1->pykospacing==0.5) (0.4.0)\n",
            "Requirement already satisfied: rsa<5,>=3.1.4 in /usr/local/lib/python3.10/dist-packages (from google-auth<3,>=1.6.3->tensorboard<2.12,>=2.11->tensorflow==2.11.1->pykospacing==0.5) (4.9)\n",
            "Requirement already satisfied: requests-oauthlib>=0.7.0 in /usr/local/lib/python3.10/dist-packages (from google-auth-oauthlib<0.5,>=0.4.1->tensorboard<2.12,>=2.11->tensorflow==2.11.1->pykospacing==0.5) (1.3.1)\n",
            "Requirement already satisfied: charset-normalizer<4,>=2 in /usr/local/lib/python3.10/dist-packages (from requests<3,>=2.21.0->tensorboard<2.12,>=2.11->tensorflow==2.11.1->pykospacing==0.5) (3.3.2)\n",
            "Requirement already satisfied: idna<4,>=2.5 in /usr/local/lib/python3.10/dist-packages (from requests<3,>=2.21.0->tensorboard<2.12,>=2.11->tensorflow==2.11.1->pykospacing==0.5) (3.7)\n",
            "Requirement already satisfied: urllib3<3,>=1.21.1 in /usr/local/lib/python3.10/dist-packages (from requests<3,>=2.21.0->tensorboard<2.12,>=2.11->tensorflow==2.11.1->pykospacing==0.5) (2.0.7)\n",
            "Requirement already satisfied: certifi>=2017.4.17 in /usr/local/lib/python3.10/dist-packages (from requests<3,>=2.21.0->tensorboard<2.12,>=2.11->tensorflow==2.11.1->pykospacing==0.5) (2024.2.2)\n",
            "Requirement already satisfied: MarkupSafe>=2.1.1 in /usr/local/lib/python3.10/dist-packages (from werkzeug>=1.0.1->tensorboard<2.12,>=2.11->tensorflow==2.11.1->pykospacing==0.5) (2.1.5)\n",
            "Requirement already satisfied: pyasn1<0.7.0,>=0.4.6 in /usr/local/lib/python3.10/dist-packages (from pyasn1-modules>=0.2.1->google-auth<3,>=1.6.3->tensorboard<2.12,>=2.11->tensorflow==2.11.1->pykospacing==0.5) (0.6.0)\n",
            "Requirement already satisfied: oauthlib>=3.0.0 in /usr/local/lib/python3.10/dist-packages (from requests-oauthlib>=0.7.0->google-auth-oauthlib<0.5,>=0.4.1->tensorboard<2.12,>=2.11->tensorflow==2.11.1->pykospacing==0.5) (3.2.2)\n",
            "Installing collected packages: argparse\n",
            "Successfully installed argparse-1.4.0\n"
          ]
        },
        {
          "output_type": "display_data",
          "data": {
            "application/vnd.colab-display-data+json": {
              "pip_warning": {
                "packages": [
                  "argparse"
                ]
              },
              "id": "df61d65d1e9844bc81c389dcf6c03203"
            }
          },
          "metadata": {}
        }
      ]
    },
    {
      "cell_type": "code",
      "source": [
        "sent = '김철수는 극중 두 인격의 사나이 이광수 역을 맡았다. 철수는 한국 유일의 태권도 전승자를 가리는 결전의 날을 앞두고 10년간 함께 훈련한 사형인 유연재(김광수 분)를 찾으러 속세로 내려온 인물이다.'"
      ],
      "metadata": {
        "id": "QdJO3fXMN-75"
      },
      "execution_count": 35,
      "outputs": []
    },
    {
      "cell_type": "code",
      "source": [
        "new_sent = sent.replace(\" \", '')\n",
        "print(new_sent)"
      ],
      "metadata": {
        "colab": {
          "base_uri": "https://localhost:8080/"
        },
        "id": "25HJRoeBPQin",
        "outputId": "3aaa5d04-7409-47e5-d3c3-767b7f6a6d34"
      },
      "execution_count": 36,
      "outputs": [
        {
          "output_type": "stream",
          "name": "stdout",
          "text": [
            "김철수는극중두인격의사나이이광수역을맡았다.철수는한국유일의태권도전승자를가리는결전의날을앞두고10년간함께훈련한사형인유연재(김광수분)를찾으러속세로내려온인물이다.\n"
          ]
        }
      ]
    },
    {
      "cell_type": "code",
      "source": [
        "from pykospacing import Spacing\n",
        "spacing = Spacing()\n",
        "\n",
        "spacing_sent = spacing(new_sent)\n",
        "print(sent)\n",
        "print(spacing_sent) #원 문장과 비교. 정확하게 일치함."
      ],
      "metadata": {
        "colab": {
          "base_uri": "https://localhost:8080/"
        },
        "id": "Gv4w6PbMPV36",
        "outputId": "3a2cd120-42c0-4cdf-c1e4-ff492cb22644"
      },
      "execution_count": 37,
      "outputs": [
        {
          "output_type": "stream",
          "name": "stdout",
          "text": [
            "김철수는 극중 두 인격의 사나이 이광수 역을 맡았다. 철수는 한국 유일의 태권도 전승자를 가리는 결전의 날을 앞두고 10년간 함께 훈련한 사형인 유연재(김광수 분)를 찾으러 속세로 내려온 인물이다.\n",
            "김철수는 극중 두 인격의 사나이 이광수 역을 맡았다. 철수는 한국 유일의 태권도 전승자를 가리는 결전의 날을 앞두고 10년간 함께 훈련한 사형인 유연재(김광수 분)를 찾으러 속세로 내려온 인물이다.\n"
          ]
        }
      ]
    },
    {
      "cell_type": "markdown",
      "source": [
        "# 2. ph-hanspell\n",
        "\n",
        "네이버 한글 맞춤법 검사 패키지 (현재 작동하지 않음 24.03.03)"
      ],
      "metadata": {
        "id": "pXAH4M0tSa92"
      }
    },
    {
      "cell_type": "code",
      "source": [
        "pip install git+https://github.com/ssut/py-hanspell.git"
      ],
      "metadata": {
        "colab": {
          "base_uri": "https://localhost:8080/"
        },
        "id": "TrbtrxkePiTw",
        "outputId": "95efd94d-0a6c-42c1-e33d-41e68295f6e7"
      },
      "execution_count": 38,
      "outputs": [
        {
          "output_type": "stream",
          "name": "stdout",
          "text": [
            "Collecting git+https://github.com/ssut/py-hanspell.git\n",
            "  Cloning https://github.com/ssut/py-hanspell.git to /tmp/pip-req-build-5rc76w6g\n",
            "  Running command git clone --filter=blob:none --quiet https://github.com/ssut/py-hanspell.git /tmp/pip-req-build-5rc76w6g\n",
            "  Resolved https://github.com/ssut/py-hanspell.git to commit fdc6ca50c19f1c85971437a072d89d4e5ce024b8\n",
            "  Preparing metadata (setup.py) ... \u001b[?25l\u001b[?25hdone\n",
            "Requirement already satisfied: requests in /usr/local/lib/python3.10/dist-packages (from py-hanspell==1.1) (2.31.0)\n",
            "Requirement already satisfied: charset-normalizer<4,>=2 in /usr/local/lib/python3.10/dist-packages (from requests->py-hanspell==1.1) (3.3.2)\n",
            "Requirement already satisfied: idna<4,>=2.5 in /usr/local/lib/python3.10/dist-packages (from requests->py-hanspell==1.1) (3.7)\n",
            "Requirement already satisfied: urllib3<3,>=1.21.1 in /usr/local/lib/python3.10/dist-packages (from requests->py-hanspell==1.1) (2.0.7)\n",
            "Requirement already satisfied: certifi>=2017.4.17 in /usr/local/lib/python3.10/dist-packages (from requests->py-hanspell==1.1) (2024.2.2)\n"
          ]
        }
      ]
    },
    {
      "cell_type": "code",
      "source": [
        "from hanspell import spell_checker\n",
        "\n",
        "sent = \"맞춤법 틀리면 외 않되? 쓰고싶은대로쓰면돼지 \"\n",
        "spelled_sent = spell_checker.check(sent)\n",
        "\n",
        "hanspell_sent = spelled_sent.checked\n",
        "print(hanspell_sent)"
      ],
      "metadata": {
        "colab": {
          "base_uri": "https://localhost:8080/",
          "height": 341
        },
        "id": "TcCB0t3QSeS_",
        "outputId": "304e8a17-e653-4a8e-a600-a4586d375ff1"
      },
      "execution_count": 39,
      "outputs": [
        {
          "output_type": "error",
          "ename": "KeyError",
          "evalue": "'result'",
          "traceback": [
            "\u001b[0;31m---------------------------------------------------------------------------\u001b[0m",
            "\u001b[0;31mKeyError\u001b[0m                                  Traceback (most recent call last)",
            "\u001b[0;32m<ipython-input-39-9f42d597179c>\u001b[0m in \u001b[0;36m<cell line: 4>\u001b[0;34m()\u001b[0m\n\u001b[1;32m      2\u001b[0m \u001b[0;34m\u001b[0m\u001b[0m\n\u001b[1;32m      3\u001b[0m \u001b[0msent\u001b[0m \u001b[0;34m=\u001b[0m \u001b[0;34m\"맞춤법 틀리면 외 않되? 쓰고싶은대로쓰면돼지 \"\u001b[0m\u001b[0;34m\u001b[0m\u001b[0;34m\u001b[0m\u001b[0m\n\u001b[0;32m----> 4\u001b[0;31m \u001b[0mspelled_sent\u001b[0m \u001b[0;34m=\u001b[0m \u001b[0mspell_checker\u001b[0m\u001b[0;34m.\u001b[0m\u001b[0mcheck\u001b[0m\u001b[0;34m(\u001b[0m\u001b[0msent\u001b[0m\u001b[0;34m)\u001b[0m\u001b[0;34m\u001b[0m\u001b[0;34m\u001b[0m\u001b[0m\n\u001b[0m\u001b[1;32m      5\u001b[0m \u001b[0;34m\u001b[0m\u001b[0m\n\u001b[1;32m      6\u001b[0m \u001b[0mhanspell_sent\u001b[0m \u001b[0;34m=\u001b[0m \u001b[0mspelled_sent\u001b[0m\u001b[0;34m.\u001b[0m\u001b[0mchecked\u001b[0m\u001b[0;34m\u001b[0m\u001b[0;34m\u001b[0m\u001b[0m\n",
            "\u001b[0;32m/usr/local/lib/python3.10/dist-packages/hanspell/spell_checker.py\u001b[0m in \u001b[0;36mcheck\u001b[0;34m(text)\u001b[0m\n\u001b[1;32m     60\u001b[0m \u001b[0;34m\u001b[0m\u001b[0m\n\u001b[1;32m     61\u001b[0m     \u001b[0mdata\u001b[0m \u001b[0;34m=\u001b[0m \u001b[0mjson\u001b[0m\u001b[0;34m.\u001b[0m\u001b[0mloads\u001b[0m\u001b[0;34m(\u001b[0m\u001b[0mr\u001b[0m\u001b[0;34m.\u001b[0m\u001b[0mtext\u001b[0m\u001b[0;34m)\u001b[0m\u001b[0;34m\u001b[0m\u001b[0;34m\u001b[0m\u001b[0m\n\u001b[0;32m---> 62\u001b[0;31m     \u001b[0mhtml\u001b[0m \u001b[0;34m=\u001b[0m \u001b[0mdata\u001b[0m\u001b[0;34m[\u001b[0m\u001b[0;34m'message'\u001b[0m\u001b[0;34m]\u001b[0m\u001b[0;34m[\u001b[0m\u001b[0;34m'result'\u001b[0m\u001b[0;34m]\u001b[0m\u001b[0;34m[\u001b[0m\u001b[0;34m'html'\u001b[0m\u001b[0;34m]\u001b[0m\u001b[0;34m\u001b[0m\u001b[0;34m\u001b[0m\u001b[0m\n\u001b[0m\u001b[1;32m     63\u001b[0m     result = {\n\u001b[1;32m     64\u001b[0m         \u001b[0;34m'result'\u001b[0m\u001b[0;34m:\u001b[0m \u001b[0;32mTrue\u001b[0m\u001b[0;34m,\u001b[0m\u001b[0;34m\u001b[0m\u001b[0;34m\u001b[0m\u001b[0m\n",
            "\u001b[0;31mKeyError\u001b[0m: 'result'"
          ]
        }
      ]
    },
    {
      "cell_type": "code",
      "source": [
        "#띄어쓰기도 보정\n",
        "spelled_sent = spell_checker.check(new_sent)\n",
        "hanspell_sent = spelled_sent.checked\n",
        "\n",
        "print(hanspell_sent)\n",
        "print(kospacing_sent) #앞에 사용한 kospacing 패키지에서 얻은 결과"
      ],
      "metadata": {
        "colab": {
          "base_uri": "https://localhost:8080/",
          "height": 341
        },
        "id": "k5q34wDlTeHR",
        "outputId": "4970f15d-1682-41c3-c04c-489c58188b45"
      },
      "execution_count": 40,
      "outputs": [
        {
          "output_type": "error",
          "ename": "KeyError",
          "evalue": "'result'",
          "traceback": [
            "\u001b[0;31m---------------------------------------------------------------------------\u001b[0m",
            "\u001b[0;31mKeyError\u001b[0m                                  Traceback (most recent call last)",
            "\u001b[0;32m<ipython-input-40-aaabc90f8c78>\u001b[0m in \u001b[0;36m<cell line: 2>\u001b[0;34m()\u001b[0m\n\u001b[1;32m      1\u001b[0m \u001b[0;31m#띄어쓰기도 보정\u001b[0m\u001b[0;34m\u001b[0m\u001b[0;34m\u001b[0m\u001b[0m\n\u001b[0;32m----> 2\u001b[0;31m \u001b[0mspelled_sent\u001b[0m \u001b[0;34m=\u001b[0m \u001b[0mspell_checker\u001b[0m\u001b[0;34m.\u001b[0m\u001b[0mcheck\u001b[0m\u001b[0;34m(\u001b[0m\u001b[0mnew_sent\u001b[0m\u001b[0;34m)\u001b[0m\u001b[0;34m\u001b[0m\u001b[0;34m\u001b[0m\u001b[0m\n\u001b[0m\u001b[1;32m      3\u001b[0m \u001b[0mhanspell_sent\u001b[0m \u001b[0;34m=\u001b[0m \u001b[0mspelled_sent\u001b[0m\u001b[0;34m.\u001b[0m\u001b[0mchecked\u001b[0m\u001b[0;34m\u001b[0m\u001b[0;34m\u001b[0m\u001b[0m\n\u001b[1;32m      4\u001b[0m \u001b[0;34m\u001b[0m\u001b[0m\n\u001b[1;32m      5\u001b[0m \u001b[0mprint\u001b[0m\u001b[0;34m(\u001b[0m\u001b[0mhanspell_sent\u001b[0m\u001b[0;34m)\u001b[0m\u001b[0;34m\u001b[0m\u001b[0;34m\u001b[0m\u001b[0m\n",
            "\u001b[0;32m/usr/local/lib/python3.10/dist-packages/hanspell/spell_checker.py\u001b[0m in \u001b[0;36mcheck\u001b[0;34m(text)\u001b[0m\n\u001b[1;32m     60\u001b[0m \u001b[0;34m\u001b[0m\u001b[0m\n\u001b[1;32m     61\u001b[0m     \u001b[0mdata\u001b[0m \u001b[0;34m=\u001b[0m \u001b[0mjson\u001b[0m\u001b[0;34m.\u001b[0m\u001b[0mloads\u001b[0m\u001b[0;34m(\u001b[0m\u001b[0mr\u001b[0m\u001b[0;34m.\u001b[0m\u001b[0mtext\u001b[0m\u001b[0;34m)\u001b[0m\u001b[0;34m\u001b[0m\u001b[0;34m\u001b[0m\u001b[0m\n\u001b[0;32m---> 62\u001b[0;31m     \u001b[0mhtml\u001b[0m \u001b[0;34m=\u001b[0m \u001b[0mdata\u001b[0m\u001b[0;34m[\u001b[0m\u001b[0;34m'message'\u001b[0m\u001b[0;34m]\u001b[0m\u001b[0;34m[\u001b[0m\u001b[0;34m'result'\u001b[0m\u001b[0;34m]\u001b[0m\u001b[0;34m[\u001b[0m\u001b[0;34m'html'\u001b[0m\u001b[0;34m]\u001b[0m\u001b[0;34m\u001b[0m\u001b[0;34m\u001b[0m\u001b[0m\n\u001b[0m\u001b[1;32m     63\u001b[0m     result = {\n\u001b[1;32m     64\u001b[0m         \u001b[0;34m'result'\u001b[0m\u001b[0;34m:\u001b[0m \u001b[0;32mTrue\u001b[0m\u001b[0;34m,\u001b[0m\u001b[0;34m\u001b[0m\u001b[0;34m\u001b[0m\u001b[0m\n",
            "\u001b[0;31mKeyError\u001b[0m: 'result'"
          ]
        }
      ]
    },
    {
      "cell_type": "markdown",
      "source": [
        "# 3. soynlp를 이용한 단어 토큰화\n",
        "\n",
        "- 품사 태깅, 단어 토큰화를 지원하는 단어 토크나이저\n",
        "- 비지도학습\n",
        "- 데이터에 자주 등장하는 단어들을 단어로 분석\n",
        "- 내부 단어 점수 표로 동작\n",
        "- 응집 확률, 브랜칭 엔트로피"
      ],
      "metadata": {
        "id": "NBimc3Q8WCAs"
      }
    },
    {
      "cell_type": "code",
      "source": [
        "!pip install soynlp"
      ],
      "metadata": {
        "colab": {
          "base_uri": "https://localhost:8080/"
        },
        "id": "dmHLVk30Tbhn",
        "outputId": "a0f07764-ee3e-4e80-f9b5-38f27d736613"
      },
      "execution_count": 41,
      "outputs": [
        {
          "output_type": "stream",
          "name": "stdout",
          "text": [
            "Requirement already satisfied: soynlp in /usr/local/lib/python3.10/dist-packages (0.0.493)\n",
            "Requirement already satisfied: numpy>=1.12.1 in /usr/local/lib/python3.10/dist-packages (from soynlp) (1.25.2)\n",
            "Requirement already satisfied: psutil>=5.0.1 in /usr/local/lib/python3.10/dist-packages (from soynlp) (5.9.5)\n",
            "Requirement already satisfied: scipy>=1.1.0 in /usr/local/lib/python3.10/dist-packages (from soynlp) (1.11.4)\n",
            "Requirement already satisfied: scikit-learn>=0.20.0 in /usr/local/lib/python3.10/dist-packages (from soynlp) (1.2.2)\n",
            "Requirement already satisfied: joblib>=1.1.1 in /usr/local/lib/python3.10/dist-packages (from scikit-learn>=0.20.0->soynlp) (1.4.0)\n",
            "Requirement already satisfied: threadpoolctl>=2.0.0 in /usr/local/lib/python3.10/dist-packages (from scikit-learn>=0.20.0->soynlp) (3.4.0)\n"
          ]
        }
      ]
    },
    {
      "cell_type": "markdown",
      "source": [
        "#1) 신조어 문제"
      ],
      "metadata": {
        "id": "lkSGX1hc3EPW"
      }
    },
    {
      "cell_type": "code",
      "source": [
        "#okt와 비교\n",
        "#okt는 분석기에 등록되지 않은 단어는 인식 못함\n",
        "from konlpy.tag import Okt\n",
        "\n",
        "okt = Okt()\n",
        "print(okt.morphs('에이비식스 이대휘 1월 최애돌 기부 요정'))"
      ],
      "metadata": {
        "colab": {
          "base_uri": "https://localhost:8080/"
        },
        "id": "_6PHwMBDWiIV",
        "outputId": "41a2376b-c009-47a5-dd64-bf3433c9daf5"
      },
      "execution_count": 42,
      "outputs": [
        {
          "output_type": "stream",
          "name": "stdout",
          "text": [
            "['에이', '비식스', '이대', '휘', '1월', '최애', '돌', '기부', '요정']\n"
          ]
        }
      ]
    },
    {
      "cell_type": "markdown",
      "source": [
        "soynlp는 단어가 자주 등장하거나 앞뒤로 조사나 완전히 다른 단어가 등장하면 형태소라고 판단함\n",
        "\n",
        "ex) 최고, 가수, 실력 + 에이비식스\n",
        "\n",
        "#2) 학습하기\n"
      ],
      "metadata": {
        "id": "OAchVSZuXnjs"
      }
    },
    {
      "cell_type": "code",
      "source": [
        "import urllib.request\n",
        "from soynlp import DoublespaceLineCorpus\n",
        "from soynlp.word import WordExtractor"
      ],
      "metadata": {
        "id": "Ua09tSI1XDEL"
      },
      "execution_count": 43,
      "outputs": []
    },
    {
      "cell_type": "code",
      "source": [
        "urllib.request.urlretrieve(\"https://raw.githubusercontent.com/lovit/soynlp/master/tutorials/2016-10-20.txt\", filename=\"2016-10-20.txt\")"
      ],
      "metadata": {
        "colab": {
          "base_uri": "https://localhost:8080/"
        },
        "id": "Z8IyIu8iZLiE",
        "outputId": "f87fa65b-b6d2-4d4f-9fcd-f4fbfc3ffd73"
      },
      "execution_count": 45,
      "outputs": [
        {
          "output_type": "execute_result",
          "data": {
            "text/plain": [
              "('2016-10-20.txt', <http.client.HTTPMessage at 0x7fac82fe1720>)"
            ]
          },
          "metadata": {},
          "execution_count": 45
        }
      ]
    },
    {
      "cell_type": "code",
      "source": [
        "#훈련 데이터를 다수의 문서로 분리\n",
        "corpus = DoublespaceLineCorpus(\"2016-10-20.txt\")\n",
        "len(corpus)"
      ],
      "metadata": {
        "colab": {
          "base_uri": "https://localhost:8080/"
        },
        "id": "ehDgJGtWoE0_",
        "outputId": "729de5d3-f809-436c-8119-3336c439ab8f"
      },
      "execution_count": 47,
      "outputs": [
        {
          "output_type": "execute_result",
          "data": {
            "text/plain": [
              "30091"
            ]
          },
          "metadata": {},
          "execution_count": 47
        }
      ]
    },
    {
      "cell_type": "code",
      "source": [
        "#상위 3개 문서 추출\n",
        "i = 0\n",
        "for doc in corpus:\n",
        "  if len(doc) > 0: #문서가 비어있지 않은지 확인\n",
        "    print(doc)\n",
        "    i = i + 1\n",
        "    if i == 3:\n",
        "      break\n"
      ],
      "metadata": {
        "colab": {
          "base_uri": "https://localhost:8080/"
        },
        "id": "ky730FOOonSa",
        "outputId": "eda06217-68db-42a2-aac2-8357ad187419"
      },
      "execution_count": 49,
      "outputs": [
        {
          "output_type": "stream",
          "name": "stdout",
          "text": [
            "19  1990  52 1 22\n",
            "오패산터널 총격전 용의자 검거 서울 연합뉴스 경찰 관계자들이 19일 오후 서울 강북구 오패산 터널 인근에서 사제 총기를 발사해 경찰을 살해한 용의자 성모씨를 검거하고 있다 성씨는 검거 당시 서바이벌 게임에서 쓰는 방탄조끼에 헬멧까지 착용한 상태였다 독자제공 영상 캡처 연합뉴스  서울 연합뉴스 김은경 기자 사제 총기로 경찰을 살해한 범인 성모 46 씨는 주도면밀했다  경찰에 따르면 성씨는 19일 오후 강북경찰서 인근 부동산 업소 밖에서 부동산업자 이모 67 씨가 나오기를 기다렸다 이씨와는 평소에도 말다툼을 자주 한 것으로 알려졌다  이씨가 나와 걷기 시작하자 성씨는 따라가면서 미리 준비해온 사제 총기를 이씨에게 발사했다 총알이 빗나가면서 이씨는 도망갔다 그 빗나간 총알은 지나가던 행인 71 씨의 배를 스쳤다  성씨는 강북서 인근 치킨집까지 이씨 뒤를 쫓으며 실랑이하다 쓰러뜨린 후 총기와 함께 가져온 망치로 이씨 머리를 때렸다  이 과정에서 오후 6시 20분께 강북구 번동 길 위에서 사람들이 싸우고 있다 총소리가 났다 는 등의 신고가 여러건 들어왔다  5분 후에 성씨의 전자발찌가 훼손됐다는 신고가 보호관찰소 시스템을 통해 들어왔다 성범죄자로 전자발찌를 차고 있던 성씨는 부엌칼로 직접 자신의 발찌를 끊었다  용의자 소지 사제총기 2정 서울 연합뉴스 임헌정 기자 서울 시내에서 폭행 용의자가 현장 조사를 벌이던 경찰관에게 사제총기를 발사해 경찰관이 숨졌다 19일 오후 6시28분 강북구 번동에서 둔기로 맞았다 는 폭행 피해 신고가 접수돼 현장에서 조사하던 강북경찰서 번동파출소 소속 김모 54 경위가 폭행 용의자 성모 45 씨가 쏜 사제총기에 맞고 쓰러진 뒤 병원에 옮겨졌으나 숨졌다 사진은 용의자가 소지한 사제총기  신고를 받고 번동파출소에서 김창호 54 경위 등 경찰들이 오후 6시 29분께 현장으로 출동했다 성씨는 그사이 부동산 앞에 놓아뒀던 가방을 챙겨 오패산 쪽으로 도망간 후였다  김 경위는 오패산 터널 입구 오른쪽의 급경사에서 성씨에게 접근하다가 오후 6시 33분께 풀숲에 숨은 성씨가 허공에 난사한 10여발의 총알 중 일부를 왼쪽 어깨 뒷부분에 맞고 쓰러졌다  김 경위는 구급차가 도착했을 때 이미 의식이 없었고 심폐소생술을 하며 병원으로 옮겨졌으나 총알이 폐를 훼손해 오후 7시 40분께 사망했다  김 경위는 외근용 조끼를 입고 있었으나 총알을 막기에는 역부족이었다  머리에 부상을 입은 이씨도 함께 병원으로 이송됐으나 생명에는 지장이 없는 것으로 알려졌다  성씨는 오패산 터널 밑쪽 숲에서 오후 6시 45분께 잡혔다  총격현장 수색하는 경찰들 서울 연합뉴스 이효석 기자 19일 오후 서울 강북구 오패산 터널 인근에서 경찰들이 폭행 용의자가 사제총기를 발사해 경찰관이 사망한 사건을 조사 하고 있다  총 때문에 쫓던 경관들과 민간인들이 몸을 숨겼는데 인근 신발가게 직원 이모씨가 다가가 성씨를 덮쳤고 이어 현장에 있던 다른 상인들과 경찰이 가세해 체포했다  성씨는 경찰에 붙잡힌 직후 나 자살하려고 한 거다 맞아 죽어도 괜찮다 고 말한 것으로 전해졌다  성씨 자신도 경찰이 발사한 공포탄 1발 실탄 3발 중 실탄 1발을 배에 맞았으나 방탄조끼를 입은 상태여서 부상하지는 않았다  경찰은 인근을 수색해 성씨가 만든 사제총 16정과 칼 7개를 압수했다 실제 폭발할지는 알 수 없는 요구르트병에 무언가를 채워두고 심지를 꽂은 사제 폭탄도 발견됐다  일부는 숲에서 발견됐고 일부는 성씨가 소지한 가방 안에 있었다\n",
            "테헤란 연합뉴스 강훈상 특파원 이용 승객수 기준 세계 최대 공항인 아랍에미리트 두바이국제공항은 19일 현지시간 이 공항을 이륙하는 모든 항공기의 탑승객은 삼성전자의 갤럭시노트7을 휴대하면 안 된다고 밝혔다  두바이국제공항은 여러 항공 관련 기구의 권고에 따라 안전성에 우려가 있는 스마트폰 갤럭시노트7을 휴대하고 비행기를 타면 안 된다 며 탑승 전 검색 중 발견되면 압수할 계획 이라고 발표했다  공항 측은 갤럭시노트7의 배터리가 폭발 우려가 제기된 만큼 이 제품을 갖고 공항 안으로 들어오지 말라고 이용객에 당부했다  이런 조치는 두바이국제공항 뿐 아니라 신공항인 두바이월드센터에도 적용된다  배터리 폭발문제로 회수된 갤럭시노트7 연합뉴스자료사진\n"
          ]
        }
      ]
    },
    {
      "cell_type": "markdown",
      "source": [
        "soynlp는 다른 형태소 분석기들과 다르게 학습 과정을 거쳐야 함.\n",
        "\n",
        "전체 코퍼스로부터 응집 확률과 브렌칭 엔트로피 단어 점수표를 만드는 과정.\n",
        "\n",
        "WordEtractor.extract()"
      ],
      "metadata": {
        "id": "jaMGWyE2qXyp"
      }
    },
    {
      "cell_type": "code",
      "source": [
        "word_extractor = WordExtractor()\n",
        "word_extractor.train(corpus)\n",
        "word_score_table = word_extractor.extract()"
      ],
      "metadata": {
        "colab": {
          "base_uri": "https://localhost:8080/"
        },
        "id": "jGKLd-MLpekE",
        "outputId": "ffbe6309-8e06-4120-b971-5a1277617f62"
      },
      "execution_count": 50,
      "outputs": [
        {
          "output_type": "stream",
          "name": "stdout",
          "text": [
            "training was done. used memory 1.488 Gb\n",
            "all cohesion probabilities was computed. # words = 223348\n",
            "all branching entropies was computed # words = 361598\n",
            "all accessor variety was computed # words = 361598\n"
          ]
        }
      ]
    },
    {
      "cell_type": "markdown",
      "source": [
        "# 3) soynlp의 응집 확률\n",
        "\n",
        "응집 확률이란 내부 문자열이 얼마나 응집하여 자주 등장하는지를 뜻함.\n",
        "\n",
        "문자열을 문자 단위로 분리해 내부 문자열을 만드는 과정에서 왼쪽부터 문자열을 하나씩 추가하면서 다음 문자가 나올 확률을 계산해 누적곱한 값.\n",
        "\n",
        "값이 높을수록 이 문자열 시퀀스는 하나의 단어로 등장할 확률이 높음.\n"
      ],
      "metadata": {
        "id": "QHWUVkmorPwO"
      }
    },
    {
      "cell_type": "markdown",
      "source": [
        "![image.png](data:image/png;base64,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)"
      ],
      "metadata": {
        "id": "roRp8w92vDfZ"
      }
    },
    {
      "cell_type": "markdown",
      "source": [
        "![image.png](data:image/png;base64,iVBORw0KGgoAAAANSUhEUgAAA2UAAADACAIAAAALLVzEAAAMP2lDQ1BJQ0MgUHJvZmlsZQAASImVVwdYU8kWnluSkJDQAghICb0JIjWAlBBaAOndRkgChBJjIKjYkUUF14KKBWzoqohip9kRO4ti74sFFWVdLNiVNymg677yvfm+ufPff87858y5c+/cAUD9OFcszkU1AMgTFUhiQwIYySmpDNJTQAEEQAXewI3LyxezoqMjACyD7d/Lu+sAkbVXHGRa/+z/r0WTL8jnAYBEQ5zOz+flQXwAALyaJ5YUAECU8eZTCsQyDCvQlsAAIV4gw5kKXC3D6Qq8R24TH8uGuA0AFSqXK8kEQO0S5BmFvEyoodYHsZOILxQBoM6A2DcvbxIf4jSIbaCNGGKZPjP9B53Mv2mmD2lyuZlDWDEXeVEJFOaLc7nT/s90/O+Slysd9GEFKzVLEhormzPM282cSeEyTIW4V5QeGQWxFsQfhHy5PcQoJUsamqCwRw15+WyYM6ALsROfGxgOsSHEwaLcyAgln54hDOZADFcIOlVYwImHWA/iBYL8oDilzUbJpFilL7QhQ8JmKfmzXIncr8zXfWlOAkup/zpLwFHqY2pFWfFJEFMgtigUJkZCrAaxY35OXLjSZnRRFjty0EYijZXFbwFxrEAUEqDQxwozJMGxSvuyvPzB+WIbs4ScSCXeV5AVH6rID9bG48rjh3PBLglErIRBHUF+csTgXPiCwCDF3LFnAlFCnFLng7ggIFYxFqeIc6OV9riZIDdExptB7JpfGKcciycWwAWp0MczxAXR8Yo48aJsbli0Ih58KYgAbBAIGEAKazqYBLKBsKO3sRfeKXqCARdIQCYQAAclMzgiSd4jgtc4UAT+hEgA8ofGBch7BaAQ8l+HWMXVAWTIewvlI3LAE4jzQDjIhfdS+SjRkLdE8Bgywn9458LKg/Hmwirr//f8IPudYUEmQslIBz0y1ActiUHEQGIoMZhoixvgvrg3HgGv/rA640zcc3Ae3+0JTwidhIeEa4Quwq2JwmLJT1GOAV1QP1iZi/Qfc4FbQU03PAD3gepQGdfFDYAD7gr9sHA/6NkNsmxl3LKsMH7S/tsMfngaSjuyExklDyP7k21+Hqlmp+Y2pCLL9Y/5UcSaPpRv9lDPz/7ZP2SfD9vwny2xBdh+7Ax2AjuHHcYaAQM7hjVh7dgRGR5aXY/lq2vQW6w8nhyoI/yHv8EnK8tkvlOdU4/TF0VfgWCq7BsN2JPE0yTCzKwCBgvuCAIGR8RzHMFwdnJ2AUC2vyg+X29i5PsGotv+nZv3BwA+xwYGBg5958KOAbDXA77+zd85GybcOlQBONvMk0oKFRwuuxDgV0Idvmn6wBiYAxs4H2fgDvcxfxAEwkAUiAcpYAKMPguucwmYAmaAuaAUlIOlYCVYCzaAzWA72AX2gUZwGJwAp8EFcAlcA3fg6ukGL0AfeAc+IwhCQmgIHdFHTBBLxB5xRpiILxKERCCxSAqShmQiIkSKzEDmIeVIBbIW2YTUInuRZuQEcg7pRG4hD5Ae5DXyCcVQKqqNGqFW6EiUibLQcDQeHY9mopPRIrQEXYyuRmvQnWgDegK9gF5Du9AXaD8GMFVMFzPFHDAmxsaisFQsA5Ngs7AyrBKrweqxFvicr2BdWC/2ESfidJyBO8AVHIon4Dx8Mj4LX4SvxbfjDXgbfgV/gPfh3wg0giHBnuBF4BCSCZmEKYRSQiVhK+Eg4RR8l7oJ74hEoi7RmugB38UUYjZxOnERcR1xN/E4sZP4iNhPIpH0SfYkH1IUiUsqIJWS1pB2ko6RLpO6SR9UVFVMVJxVglVSVUQqxSqVKjtUjqpcVnmq8pmsQbYke5GjyHzyNPIS8hZyC/kiuZv8maJJsab4UOIp2ZS5lNWUesopyl3KG1VVVTNVT9UYVaHqHNXVqntUz6o+UP1I1aLaUdnUcVQpdTF1G/U49Rb1DY1Gs6L501JpBbTFtFraSdp92gc1upqjGkeNrzZbrUqtQe2y2kt1srqlOkt9gnqReqX6fvWL6r0aZA0rDbYGV2OWRpVGs8YNjX5NuuYozSjNPM1Fmjs0z2k+0yJpWWkFafG1SrQ2a53UekTH6OZ0Np1Hn0ffQj9F79Ymaltrc7Sztcu1d2l3aPfpaOm46iTqTNWp0jmi06WL6VrpcnRzdZfo7tO9rvtpmNEw1jDBsIXD6oddHvZeb7iev55Ar0xvt941vU/6DP0g/Rz9ZfqN+vcMcAM7gxiDKQbrDU4Z9A7XHu49nDe8bPi+4bcNUUM7w1jD6YabDdsN+42MjUKMxEZrjE4a9RrrGvsbZxuvMD5q3GNCN/E1EZqsMDlm8pyhw2AxchmrGW2MPlND01BTqekm0w7Tz2bWZglmxWa7ze6ZU8yZ5hnmK8xbzfssTCzGWMywqLO4bUm2ZFpmWa6yPGP53sraKslqvlWj1TNrPWuOdZF1nfVdG5qNn81kmxqbq7ZEW6Ztju0620t2qJ2bXZZdld1Fe9Te3V5ov86+cwRhhOcI0YiaETccqA4sh0KHOocHjrqOEY7Fjo2OL0dajEwduWzkmZHfnNyccp22ON0ZpTUqbFTxqJZRr53tnHnOVc5XXWguwS6zXZpcXrnauwpc17vedKO7jXGb79bq9tXdw13iXu/e42HhkeZR7XGDqc2MZi5invUkeAZ4zvY87PnRy92rwGuf11/eDt453ju8n422Hi0YvWX0Ix8zH67PJp8uX4Zvmu9G3y4/Uz+uX43fQ39zf77/Vv+nLFtWNmsn62WAU4Ak4GDAe7YXeyb7eCAWGBJYFtgRpBWUELQ26H6wWXBmcF1wX4hbyPSQ46GE0PDQZaE3OEYcHqeW0xfmETYzrC2cGh4Xvjb8YYRdhCSiZQw6JmzM8jF3Iy0jRZGNUSCKE7U86l60dfTk6EMxxJjomKqYJ7GjYmfEnomjx02M2xH3Lj4gfkn8nQSbBGlCa6J64rjE2sT3SYFJFUldySOTZyZfSDFIEaY0pZJSE1O3pvaPDRq7cmz3OLdxpeOuj7ceP3X8uQkGE3InHJmoPpE7cX8aIS0pbUfaF24Ut4bbn85Jr07v47F5q3gv+P78FfwegY+gQvA0wyejIuNZpk/m8syeLL+syqxeIVu4VvgqOzR7Q/b7nKicbTkDuUm5u/NU8tLymkVaohxR2yTjSVMndYrtxaXirslek1dO7pOES7bmI/nj85sKtOGPfLvURvqL9EGhb2FV4YcpiVP2T9WcKpraPs1u2sJpT4uCi36bjk/nTW+dYTpj7owHM1kzN81CZqXPap1tPrtkdveckDnb51Lm5sz9vdipuKL47bykeS0lRiVzSh79EvJLXalaqaT0xnzv+RsW4AuECzoWuixcs/BbGb/sfLlTeWX5l0W8Red/HfXr6l8HFmcs7ljivmT9UuJS0dLry/yWba/QrCiqeLR8zPKGFYwVZSverpy48lyla+WGVZRV0lVdqyNWN62xWLN0zZe1WWuvVQVU7a42rF5Y/X4df93l9f7r6zcYbSjf8GmjcOPNTSGbGmqsaio3EzcXbn6yJXHLmd+Yv9VuNdhavvXrNtG2ru2x29tqPWprdxjuWFKH1knrenaO23lpV+CupnqH+k27dXeX7wF7pHue703be31f+L7W/cz99QcsD1QfpB8sa0AapjX0NWY1djWlNHU2hzW3tni3HDzkeGjbYdPDVUd0jiw5SjlacnTgWNGx/uPi470nMk88ap3Yeudk8smrbTFtHafCT509HXz65BnWmWNnfc4ePud1rvk883zjBfcLDe1u7Qd/d/v9YId7R8NFj4tNlzwvtXSO7jx62e/yiSuBV05f5Vy9cC3yWuf1hOs3b4y70XWTf/PZrdxbr24X3v58Z85dwt2yexr3Ku8b3q/5w/aP3V3uXUceBD5ofxj38M4j3qMXj/Mff+kueUJ7UvnU5GntM+dnh3uCey49H/u8+4X4xefe0j81/6x+afPywF/+f7X3Jfd1v5K8Gni96I3+m21vXd+29kf333+X9+7z+7IP+h+2f2R+PPMp6dPTz1O+kL6s/mr7teVb+Le7A3kDA2KuhCv/FcBgRTMyAHi9DQBaCgB0eD6jjFWc/+QFUZxZ5Qj8J6w4I8qLOwD18P89phf+3dwAYM8WePyC+urjAIimARDvCVAXl6E6eFaTnytlhQjPARtDvqbnpYN/UxRnzh/i/rkFMlVX8HP7L+ygfIwVX0c7AAAAOGVYSWZNTQAqAAAACAABh2kABAAAAAEAAAAaAAAAAAACoAIABAAAAAEAAANloAMABAAAAAEAAADAAAAAAOT00wwAAEAASURBVHgB7L09cNvIlvjbfrUBb8a7CelImJuYE2wJEwmOiBsJNyJu8jcUCZM8cTcRJjKUqTYhJxKdrOlo4EiY3ao1VLVVpvcfGI4ET70qwZE5yQqOTEdmbSLcm+idxjdAgAQ/TdkHZYuN/jh9+tcN4KC/cO/29pbggQSQABJAAkgACSABJIAECgj8PwX+6I0EkAASQAJIAAkgASSABCgBtBexHSABJIAEkAASQAJIAAlMI4D24jQ6GIYEkAASQAJIAAkgASSA9iK2ASSABJAAEkACSAAJIIFpBNBenEYHw5AAEkACSAAJIAEkgATQXsQ2gASQABJAAkgACSABJDCNANqL0+hgGBJAAkgACSABJIAEkADai9gGkAASQAJIAAkgASSABKYRQHtxGp2x1ZO6pjsligsxetZ4SoxNBTl6W9KdteU2HqjqYN5yjox2e406ra2wKBgJIAEkgASQABJIEtgCe9E1VZ5j7sEh6qOkbl/Y7VpdQSGqwld8RRxDEami9UbCQqxwbcVVeNWaZlQuURC7L/B8o07pMBzvHYEKZpKVo0u8KfQkZmpWVvde15oaozjQHQ+H41n24kgXU3VYF1Xe4EQ0GYu5YggSQAJIAAkggTtAYAvsxQrfNfvKLiFNga2vAJnd5+v32J69nCjX7im62FdY31ocD9q8zvVMy7nuseZPD/8oG4HxVOHUvjyQT9djMbLtgamdclCWVlc3vcNybk1l/NOf70em2chQlUrvVAzogdWWsAuzNtxyWPzUYHhGmRMyzQxlpH6/eqCgxbgK7CgDCSABJIAEkMAXIrAF9iKUfDQ035FdkWusgIJL3GrjSBGWkzUyTk+qisQGCtmaarVVr/uOkbrdfUKeq/3IImVFhflZXZdN5DrWBSG7fIOJ6DRYHtwXutfH6FraqSnJwkK2NrUt84+EQRjlu4ijKsiPrYPe1FH9ReRiGiSABJAAEkACSGBTBLbCXhzb5gWpCVxonS1V+AqrGGZfbvj9gguKcgbaRUvmmSD5yLHevTsRVN/oYVgBekN/N6xhKJ0R5Nab/iA6D/1X8ju0TZAjsAk6oA8VXa9WCXEtozeSpXDUnPrDcfIwtALvH4C1WXjUJeP29vayQzqX8EuPj+ct78SQphqgFwf3wxwenhSKpwEVXlRqT3Q0GKdSwkAkgASQABJAAltMYIa9CAOgP/zwAxgG3333nW1HHWqzCzQeGl2Zl5WeIvGy7rh+Ct9XbKuK2OAVfRh4D81nhLBjoy0pKnQMCsrASeTgJRKktiIL6RBnoAi81Jb5hti3qSjHkAVJ5JjgNJCRkymNyHN1XhkM7b4syEom15E9eJXs0Ksy7B4hTDWwQet1BmS/dcZBDmC5NfjdtwN7FHmszuHQvldymDSmx9YAbMC9jkyNxKGlfRImemYj88+z/2JtAjsyM42RYVqWEyjvOBcdnotTFLha5x99+9KzNuNIgR2Z6p1ssCJ5Nk/ricWhCwkgASSABJAAEtgCAuFDP/93dxd60oKDZdn8SBO+1+eParVH59c3tzdXHTC0yGPaeUV9yf7Z1Wcv/tXZLnnw+PIGTqiTmj+vvRDo6yJxb9f1i8MdCLr0gq6Dri9PwPUv+6T1yzW4P54/Ikcvb8Dj8MXHm9fHhNQicykv0//+9RAiUmEQE9Sk4i4fJ3OlOiQMIhohcdy8flyDlEcv/ZJ4IR9fPAqKmYi4Cufnl0egWfPp+1DYjVeknUNfb88cjIvr65LERCOERUl2I4bi/N84BFxh9FQUT8x14JWOFCdO5JVKfNWpgdQwdSoIT5AAEkACSAAJIIGtJ/APYIxMOd69g76t4Cjbv2j3pINfG0/fS0yFuKTaaB0rMks833rnSmFhDBUO2kf3+8+m3eXq3uTFTl/laYjrQj9Xkw60wuFo7b8+d49fKxw9dyzDPpIYGkCIbfRe7St9Blya8uueovxuarysVS31CakdB71x+Zn+x38dCv9aGXahj+6w768pdl3aPzmmguEYjWxCGkzdP8v+dYzez5/AzlQFX0kvvF5nYeEH9NFxE6mcQc8YZoWkzius1OYn0vlRvL7Xmjvoyhb1cMekLojGR42rQ98iHHRompscOoZ+xBMvnP5pnfcjd74DOhhPTEvlOBDXkuQCXZJpaT/iQeTRuYyceY46w5ET2oHJ5IWiHxJAAkgACSABJLDdBGbYizs7Ox8+fPCLkOxrLC6Ua+rdt9AfxjdonArb1gz4hT1zPF8RrCr/8KbgQTcdGQ/p5MXHfBBiWzqpKayXmtqE0PE4tvpgcZmOy8mDbrgImEp59SPX0MV22/xsNaqE6LtkbMhPyK4/UAuZ+qpkM/3Tv2hS3VSegSElBOYdzZW0ouXZnvXo65n5C5vsSAejoxdWX2QyQfTUzfFjBBjuzvEv5WVbA4gnqJomQglzDpd8yvrSOYlS1rPgHNY2R9MPL0IT88KzBKGPVuXyk3Hq7a2aH1TsOy4OwhAkgASQABJAAkhgmwnMmL+oaZpvJoLhCO4SJaHT6WDtim/wRfEnfB17AHaO0GiQoW2AI5yAB4bbp5rsz58DkxJ6Nw/Vnqoovb5haKpIzUL/YNv6i85hozp89tNfvxc1x/MdDbTnZFcSWO9sSqaQq5nYwIfmSvZh5qOXrviPo8uS3X4/oMaiO3aLI64qxFs4DmZt0Cm7KrGxHGr5BUe40CU8LzIW48ToQgJIAAkgASSABL4JAjP6F2GD6LLD0ElcXGosd+w4f6OhCV/H1N+QvTNFrDoaGI4tPjCIrEH3XU3qsWCY9etdb4C6Xo9sRDoc61aqldFAaXddWe9rpkqGff7709GIjnXSVc3QtSn6yfteH1tupsSxjXfQqRlYtbapvSP7Cs/YPcHkBgrHQPfmmNqDlUSpYE9s2ZRM3etYHA8U0VHMNkT0Dm8YvV6tJ+KHziXGo72F4+mtdEKp4W+daRFjwnSFbXLapJ9d4gzGIRemW/YXOiZNPtsBCT2bYPxPHi4MozeZRD1ORkEfJIAEkAASQAJIYGsJzLAX59ebFdS9k360dHg81NqiKQ0Udfekb49cb1LjUFPV4eG5qbBkPLDekN0zlvFyss3eJyIK7NAQK5xe58Sj2jOH2oKeHTYaqJLGajpva08s0lE9Y84dDYd7ao/aQSPLeEVHwhlLl6uCWWGrBZnCGDjkCmuOfWvP68Rrtrmq2ddhJiFIqtR3ie3boJ5eMHdy0JZOx6wMkxd71Gs4eNZQPJcfYTRywK4L5hQGaYKfJcajvb7X9FY6admEVMFGfUunBvplyQZvx/lo+IYwSp4xvR36oRZIAAkgASSABJDANAIrtxcJq+gvXVUS2m22AgYiK6qWRnsPjZdOG7auERpj2+WUgS16XYrOcED2lHDyYkM4bfX1XvsUbDFqXgi9wdN2W5YtoT42R4ysGDpNVT89l1Rd6/aMseUQXjfaLC1jnW8fN9VBt21x/R7dagZ2YszNlMAeNbDouu31X4bpDFVmRK3LQTrSYIXaT9bQlWHJDj3gAyp/efYWttA5gfmUwbF71vUD6TndU7vGK40wcOlf+EiNorvOGzo5UWvzlqAaveT6miiDaoPbJ/3hkPgTRiP/2Y7k1MUodjSH0feBpdLZTsooanmHM7TIvhx0IZdPhjGRABJAAkgACSCB7SBwD2arbYcmW6UFrM9h/kyM2y7ttyxxWN26ONIdz0otEX2lURxN+M6Qrw2JicXCeHT+Pt1TFrHEqfNc3gh3L84k19qEhDkWJlVGE68HMpMnGP2QABJAAkgACSCBbScwY73Ltqu/Lv0qvKTu/awN3FIZwELsHqN6u2eXir/aSIyoHFmZj8v4n20JV64kfle2iCWxUCYh/vZ2sjsSZpVaR22BWW2pURoSQAJIAAkgASSwMQJoLxagZtu9jp34RnRBNOpt91VL6cEek1/oqApqr37aNcZfKP+p2Y4H3dNqTxVx8uJUTBiIBJAAEkACSGCbCaC9WFQ7FU7VVautWtP7GGFDRsVSdNXbUbxI1rr9GUkzGl347uK6M5pXvqO3u4zeTw6VzysC4yMBJIAEkAASQAJfmgDOX5xeA+54DEuQ44UtE7FnRphIsTaP9aqykPSFEq0NEApGAkgACSABJIAEFiKA9uJC2DAREkACSAAJIAEkgAS+GQI4Hv3NVDUWFAkgASSABJAAEkACCxFAe3EhbFuXaGRq5mjrtEKFkAASQAJIAAkgga+BwOr36/4aqNy5Mti68t9/+3/H9t8nNb9xfvvtww0h/9ho/lMtHewF/WHSH2JhUBJVEY2Vs/UyhQ8Ciavb+T1ZDnQjASSABJAAEliMANqLi3HbrlTwOWz2/xj/IsK3b/BAAkgACSABJIAEkMCKCeB49IqBfglxjqkx4hfd0OdLlBrzRAJIAAkgASSABDZEAO3FDYFeYzZgLlYFFjfEXiNiFI0EkAASQAJI4JsmgPbina9+x9SrEsfc+XJgAZAAEkACSAAJIIEtJYD24pZWTGm1RpZBRDQXS/PCiEgACSABJIAEkMC8BNBenEZsbPWkrjntg4AuxOhZm/pyszNQ5LYsMA3ZcAK9R6buSjwzrRQYhgSQABJAAkgACSCBZQhsgb3omirPMffgEPVt2kIQvgwtKERVeP9rgGNba4tiW5F5pgFGpONTr3BtxVX4WV+ZXqaK4rSW3mWUvqb3uOd/7Q48I3VsDcY5vYvw3WZpoa9Jz7aQY3UWcQ01WRvOm3BzRvm6i1++5AuBKi8+D+nIaLcXajTls8WYSAAJIAEkcFcJ3G7FcXW2S0jz6ftVKHP1tFkju2dXy8m6uers7XYiIde/7JNHv1xTmTevH8M+hg8eX96EOYD2ydPQe9W/n18ekdrxy5vbj+ctQjqXIP/zi8NJatfnj3aOXnxMZP/55XGzubdD22jtQdM/HtTIzv7x+fvPcbyby87e3tlVVK44JOmC3FvnSenJwFnuyw55TBWffkAsr3hRLKrZboJ4FFDKsT3FL6WuF2lBUOUzyEMKLafWOr8uLwRjIgEkgASQwDdCgGxFOT0DaGkTzy/KzdVZq3n0y/sZVs+MclON9n37kMb0FCTk8AW1roKThEVDrclmHHuG7GWDb14f12pHL0EVsCAnqH188ah2mLIWg/wuH1NzMWGtgRkFhu9uJzB8MxbyLVgsCbswNuGg+An/OQuTMoMoyJhiQm6cWSx+WaN8K4pPiwOFC46o7ImihwVeHFQoYfZvDlJ4AYFav56dFmMgASSABJDAN0VgC8ajCRnb5gWpCRwbPkiX+a2wimH25YY/irygJGegXbRg5DlMXm/we6TWZBm6I7Y/n3G3EufACHLrTX8w90BrKH6eX0eXT92+1ReqZGwZlsynqLmWdmpKslCfEOkMLfATuEYUUmU5jpB3J6ZNvUbG6UlVkVLSoqizHFaXzifIO7o011UcrKgwP6sLj5duT/E5NbzDqIB/5cdIF/PqAfwmpnvkIK0K8mProDd1zu7KVUaBSAAJIAEksPUEZtiLpmn+8MMP8Kz57rvvbNuzK8oVaTw0ujIvKz1F4mXdcf1Uvq/YVuGDZ7yiDwPvofmMEHZstCVFVYSGoAycRC5eIkGCmYNCOgRWfwi81Jb5hti3qSjHkAUJZvMFp4GMnExpRJ6r88pgaPdlQVYyuY7swatdvsHEWrCKdTsyFWpNjYdg3ZK9lKEG9uTu24E9ihOsxeXCrLZT93TQZy0ZimwPLClrLhq9kSwFUy6TOoyH1htCWjxbjX0dhxpzzSr1ylrIXqyLg/uh7fHwJE436fJsoFQvGfSPeb2Qs2yik4dhDvcPAOuUYymjfBuKX2DJTZhx+QzKgqpLBtijyR7asBvXkOoZ0TlIK7yo1J7oaDBmUOEpEkACSOBbJxD2deT/7u7CvMLgYFk2P9KEL50GVXt0fn1zS8c4Ibk3CEp9yf7ZlT9hjs5YDCb9UScYYJ3XXog3XBeN1F2/ONyBoEsv6Do5fknHgFveGPDH80fk6OUNeMA4LAzWwqhrnD4n0//+9RAiUmEQE9Sk+nujlVEqqkPBmOvn11CiWlSMsOwwChwUM/RZ/a8/cTKoDRg0hGHpxOiyl99VpxYMmmez9wqYHrz2uAcAqP7p0Gnj0ZEO6WmMCSMlZTsmdIEosc6hIeOHJ5J4bcDLJKoSGocqXFAtiSxynVtSfNAtLlswBxX8EkUPtV8KVFoiiEphDLOgvzlI6TTZ4gTJxOhGAkgACSCBb4bAjO9Hv3v3LrANCCnbv2j3pINfG0/fS0wFhm6rjdaxIrPE8613rpSgg6teZ8jvP5t2l6sPzXcwi66v8rSfy3Whk87v8oJOL6391+fu8WvF+9idYxn2kcT4CtlG79W+0oczW1N+3VOU302Nl7WqpT6BRSHB0HZ+pv/xX4fCv1aGXejOOuz3PIGuS/snx75oMhrZhDSYbG/M2NI0awx9cvsy7GlDlY2Pep0lxHJGhMumgp67njGMY+a4KqzU5ifSTUSs8N3RbTf0hmXlqiz2wlPvdzS0PtW4elo1L8S2BvDLNRph/LHZbf80anaMvgfAGf5KGHG2Dn5yMNomO6sIYZhWgAB2+bngVCPMbIFfsHAmuibrTINc2A6Z6CebKX9big/j9g8JrPfhqMbQ33hf1AOStCv3wHtLySM7pYB5oAipM9wFXcMPNWqZJy3mY4GEHKTVOlODpuwQjilIhN5IAAkgASTwzRGYYS/u7Ox8+PDBp5Lsayzm5Jp69y0sdeY9y6TCtjVqNYBx4/mKbJhyRMdCYbmFP7xbexyOq9qWTmoK66WmNiF0PI6tPlhcpuNy8qCbtGle/cg1dLHdNj9bDbCR9F0yNuQnYHvK3oBsqEo20z/9iybVTeUZPJ2FwLyjuZJW9E09z3oMNY1+q5yswINekQ35j9//UTu7MhS2EoV6Djd96p0xAgx35/iX9gJtEnMlg2SuNdAlsZsWQqFyedaUQ21ysjPU2jIUFKC7lYZw+n4oUG5wFFjIgRHjRaF9ToGj6IcaKV1zJEl1x7no8LTiZx4wzHoSRWqd9yN3jmOKUZ4TO+G1NcUHi5o4CcViZ4EJHkeYBxSkgpxOTEvlOGgTLUkGuzH3yEMK1UhO4NWHMLlJ0BMJIAEkgAS+QQIz7EVN0xRFgV5GMBzBXQLQ0NI+RQZfFH/C17EHn6B7D/q7hn2wK6JlGGC4farJPJhlYMQ4Fhg5h2pPFcGqUSJhnoNt6y/cbs8wn/3012fGL9emzECKgfYczEWB9aJMyZQMbRO6McOvLtNcyX7OPoaeHPoH5r85VZatV8Bd5YQWeX7xU28ga1SztR6OLnG2Mup6RBI5gcqicJrwoE6XANScw59yuav0dG8GZk6MHAuZzklUc6LmeNGesmj2oddPRiN5huA0O4hOtZNyxM3wcifCR4bM/XXAvbD15OtEFG17ig8lvqRLg3zVprGJlKeOeUDRLszQAr8IbfEL2ndJB5kn+mz9fCaRjv0A/IsEkAASQAJIgBKYYS/yPF92GDrJk0uN5Y4d5280NOEL3zx+Q/bOFLHqaGA4RsswrEH3XU3qsbAIuF/vegPU9eTwqgsdY9XKaKC0u66s9zVTBXuT//505PWG0DUb0LUp+sn7nimSmylxbOMd7C3jd2MS29TekX2FZ+yeYHIDhYNxTzIew0OUmodw2N3GDyegZv4wLI3hDaPXq3XqzhxLjEfDluEwtv/pAQfD9r4NHMq2zJ4gOIF6oWfh79A2oDN3RQvQc3JJ2jNgr3SZ3OHqnISr9II+2Emzx8tgq4o/hxm+EJ2EfGrGO2qRjbiQdEyEBJAAEkAC3yaBGfbi/FBYQd076Tth98QYhkBFUxoo6u5J3x653qTGoaaqw8Nzutx4PIBlu7tnLOPlZJu9T0QU2KEhVji9zolHtWcOtQU9O2w0UCWN1XTe1p5YpKN61pI7Gg731B4H6eFLyq/oSDhj6XJVMCtstSBT2lv4Bnoug71lRnSwttnmqmZfh5mEIKlS3yW2b4N6ejU4uUZsVfW3qQFjF6Y+etauF0r/jEYO2eW97sfIL3AsPB4NRrPqsC3y9kK3hsEQfSCT9i6KyoS5WIfhToPauenD6z6NipsO88/oNLaUhex7g+1n8ll7A4xDsD5XdIBJ0yb97JQ9sHlohWaPQqO8LmrObTZ2dL5Vxc9FGqla7JgLVLGYbEgeUtcdk2Zmfm42HZ4jASSABJDAt0Vg5fYiYRX9patKQrvNVsBAZEXV0ugaF+OlA58+loXG2HY5ZWCL3sIXZzgge0o4eRHm1LX6eq992oCNeMBGFHqDp+22LFtCfWyOGFkxdJqqfnouqboGo9FjyyG8brRZWmt1vn3cVAfdtsX1e3QGI+zEmJspgflssOi67fVfhukMVWZErctRI6zBCrWfrKErM75JBitN7Nc9VeEalXp9NHK5zov3bRFMrPBwHeuixisJnzBkid8639WlquU+u3iumcN2vFaFdohyouXrlsygCh2cb+nMs5Qinj0c9+EmE0TurIUcBWyTY4pRPkXNO1D8lZrgU1BMBuUhHQ3fEIZefnggASSABJAAEggJfDMrwecqqLd1Tbzxy8y0l51a7fj1cp+UKciEbjpD181ex+GwCYr/pZnYK3DRTYb24s8qfqTfAWzCl//osbPX3H96NZHE9/AKDJsSpYOn7cQSxPTV8zIo/hNv55LaJgZE5Owkk1YhcUa3SpqL8vYVP70xYqJsE85FQEGamQfMqUjklYf0+pdm8tNGidjoRAJIAAkggW+WwHZ8D3AL8V+d7dFNHUtpRj/QB99dLhV3/kj0+Q2D596nCL3Uxebi7a23K2XStiybX66FXGSApI2OslnQeDlmUL6JE5uYkfg1GuX+R8GzLwirL356+8VkybNIlwEVEZvpyEFKXwASX8KcKQIjIAEkgASQwLdAAO3Folq+uezsZXawLogKpmW4o3hBjOW86Z7KJDZewX7M/T60nwnstlxrxj2Mc+Q8j4U8h9h01KwZlA6ddrZeo5zuXF3+BWGanisKWxxUeQXykMILR+0o7/Pj5cViTCSABJAAEvj6CMz4HmCyB+Qbc1c4VVettmpNLB9JgYAlzIql6Kq3o3gqZGUnLCfBiPIz/zPPxDG1argPUE4WVUHt1U+7xjgnbLoX2+51bLVvT4/1pULtvmopPdj4fV3Hdhd/HaXOQToedE+rsH8VTl5cB3CUiQSQABK4wwTQXpxSeYykm2pq6UhO5EYbNs5mcgJW58XS5dnE8AxGWJxdlbhp+TGSZjS6su7Mq0BJC3lesSuIvwGjHBbFl3tBWEFxtkFEHlJHb3cZ3f/gzzboiDogASSABJDA1hC4B12mW6MMKlJAwDWVP/z5yYOzq6FoC0oF9p9hCmJG3u54TKrVySXUUYQix8IJiwSm/f0dNNN+M8/WrFMy/w1mlcx20r0QqEkxRT555czzK0qP/kgACSABJPBNEcD+xbtQ3RVWOCLkd90aWAaZ9hmauDCVhYxFSL9wwjjvaS7Ybn1acH7YmnVKZrrBrJLZTroXAjUppsgnr5x5fkXp0R8JIAEkgAS+KQJoL96J6q6yPOyq8/ZUVsblzMU7USpUEgkgASSABJAAErgTBNBevBPVROBbN7CrzqdPDYmfNaHybhQItUQCSAAJIAEkgATuDAG0F+9IVTGsCLvqNNFcvCP1hWoiASSABJAAEviKCKz+e4BfEZytKgrdVWe3Enzyeqs0Q2WQABJAAkgACSCBr5sAro/+uusXS4cEkAASQAJIAAkggWUJ4Hj0sgQxPRJAAkgACSABJIAEvm4COB79ddTvyPy3/3z397/n7KV54/z224cbQv6x0fwn2PU7eXhBf5j0hzibDPKy+5//Zf6UUc9XdZOaYF53rnl4CjOCIuIysGTdoRsJIAEksGoCaC+umugXkWfrym+MqYnVL5I7ZooEkAASQAJIAAl81QRwPPprqF7HNliRR2Pxa6hLLAMSQAJIAAkgge0jgPbi9tXJ3Bo5psaIHJqLc4PDBEgACSABJIAEkEAZAmgvlqG03XHAXKwKbH27lUTtkAASQAJIAAkggTtLAO3FO1t1oeKOqVcljglP8RcJIAEkgASQABJAAqslgPbiNJ5jqyd1TXdKFBdi9KzxlBjrDhpZBsFvSq+bMspHAkgACSABJPAtE9gCe9E1VZ5j7sEh6qMtqgvX6goKURW+klHK7nGgquP5Vri24iq8ak0zKjPpFz91jLbc07U2L/TCDEem7ko8k5Hp6G0p0DATMuN0toU8Q8CM4KEma8MZcSaCN2eUr7v4E0Ur9FgIVKG0iYDNISXbw3SCQqHHmukX5psNyKumkdFuL3RtZ4XjORJAAkhgHgJbYC9W+K7ZV+jHkVczCc/u8/V7bM+eB8NkXNfuKbrYV9isteho6k9vE/ErnNqXB/JpaMAlglbttPX2s4HbkGXh1U+9gWdbj63BONu76OgSbwo9iYnyHw8UPrDJ6w3ePxr1e7BtnT5M9I0WWsiRIOoY6eLihv149DyZY0pwfGJ173Wt+HRZo3x7ih+XaZZrIVCzhMbhyyIldl/geWhDcDCc36Lgpa/ekHqm1zCDrDbQpOJCLeqC5pZp0aXoZ1rporlPS5dXTXVR5Q0ufGGdlhrDkAASQAKrJHC7DcfH8xYhu2dXq9Dl5uqs1Tz65f3NUsKoRvu/XE/IuKaawtE6T4Zd/7JPmjmxJ5Iv6XHz+fPnm1uq254P6/OLw+bT9ympH188qh2++Jjy804uH4PetceXUcjnl8ewQ/Zu59JHdXPV2dvtxHVw2YFSRnLgrOMnhewT/pG0cg4QE2tACxIIhdQJuXFmsdSrs90HjwNVY9/yrq0oPlUXChccUdkTRQ8LtDioUMLs32WR+hdD8lJ4/3TfuziCZrORJkXLWZppiD5VA5A606KT9OdqpbOhxzGoYP+Ic4eMo1YRxsypJrjuM7egMDL+IgEkgATWRGAL+hcJGdvmBakJHJu5my90WmEVw+zLjWy/4FzCnIF20ZJzhnmVHn9G7a70wQhy601/MPdAa1rK7LNK1R1qalt1n2oKhQW9i7bINRIJXUs7NSVZqCf8fKczpD12QiJ2leU4Qt6dmF5X7Mg4Pakq0mJ1AF0tBUeyn3BCp3k8WFFhflZ1Z540ibjbU3xODa9lFfCv/IDu34KqyPShEbIkUtexLuB9g28wUSEaLA/uC93vY9xckyrHNI7lvZ2AxSWvuAbmgE9IXTKClmBIk9drxDSvmqqC/Ng66E2dWh0LQBcSQAJIYAUEZtiLpmn+8MMP8Pz57rvvbNuzK8plOh4aXZmXlZ4i8bLuuH4q31dsq/D5Lh7GQgPvofkMHl5joy0pqiI0BGXgJHLxEglSW5GFdIgzUAReast8Q+zbVJRjyIIEo7PBaSAjJ1MakefqvDIY2n1ZkJVMriN78Cr1HPREjQy1z/XaeRsdwijv7tuBnRyJS5Rghc461+7qfeaf+fZgDOaiYcl80sJzLaM3kqWJKZdgWg6tN9AtyrPVWBvHoSZks0q9ci3ki4P7oe3x8CRON+nynsSpXrKwz2aWTXTyMMzh/gFYH1OOpYzybSh+gTExYcblMygLyrdCkv1UYQfZpFWyFFIytE1QVWATDXDktShS31iTWpDpSG8fkPN+bKYFLb3o7WbF8Ater4pyz6mmCi8qtSc6Goz5Fwv6IgEksAYCM+xFRVF8M9FxnB9//LGkAjCBrsHrzOlA6/J1583zg74NKanv9/2KYhj9bs/QRfNA9Cf92dYAgseM0NV73d6p/OrJX3RqyNADLDv2+y5p63q/p/VlJxGitf/iSJre1/TTyj/3TdfR2oaoaQr34eJ0QDOkR16m//ffT/2Ib578he9WQc1e71RM5Tr8lTD1ui8i+DsenHaZ0zZXSfmGJ3WmQS5sJzxdy++wz92rKwO3Ak/jT9bQce2BJaXMRTK0tE/JLsRYD88m3+VZJvayLf0TqT1qCw2YlJhrIcfjZIkRPxAQPF0zlk6d4S4cx5cPhkNL4tME45wTrnj0LR6eo8HBEzr5CF3GKN+G4keWXFR8r/CTZlwUnnTMAQqSMUzLckZ+ese56PBcUlbkXgapMzTfEXKYHBWA/m6w+fc6Mn1h2UiTWoQp2Jj309YinV/iDaEXvd2sGH74ehXVg599Ue4kr5oarEiezfMKH2WGDiSABJDAIgRm2Ivv3sEjITjK9i/aPeng18bpqcRQ06raaB2fyyzxfOudrhJ0cNXrDPn9ZzoU6j13djt91fugnevCU87v8oIgrf3X5+5xV/H69BzLsI/CwS/b6L3aF+mIsa0pv+4x1d/NAS8LVct4QmpS8BDLz/Q//gs6RSpDGAMnh31/WYjruqDrOCjpaARqNZikteOap6fVrq9iECv1U6+zhAzDJ3QqyBn0Zhz91BKBVOLkSUM4PRZcR+/1h8fnerthGbqQNhdHQ+tTrVGvJlP5bt8m5xqNMGhsdts/jZodo++ti3FyLOQw6uRv8HTNWjqxkQKrti+4FMBJIdN9gid06hG6uFG+LcWHjqWHxJ8GSodErYeRyZ1vgk9n5IXmgYKxzth2t8yTFsMUSFoc6di7gJpcI2xt0DLb7ec7h+e66r1UbapJzcWU9kfeP+Aub7Ntt4DPDO+F4VObVZeCaZ63l9zB/ejNKOdNCapz4nW0WmdqxArfz2boicFIAAkggaUJ/MN0CTs7Ox8+fPDj7O7uTo/shbqm3n1Lmk95zzKpsG3NAH/YM8fzFcGq8g9v5AqWW8BAKZ28+Dg0fKDTi9QU1ktNbULorhhb/Z4xNB2XkwddMWHFvfqRa+hiu21+tuhTS98lY0N+Ais4vP4NyNRXJZvpn/5Fk+qm8gx6FQTOF0dzJa3oGyme9RhqCr+udaqS08HsLzRTqzN7wCpkRch6LnTOCD2NSmrL8Mc1NUMWeylBFCoXD7LFYX5f0M5Qa8tQUIDuVsD6fD8Ugqd9joVMo1Ej5oA6vKNzGboKfqmR0jVHklT3urRoxc884Ol4EkVqnfcjd47DM8ppt1lQazlR8r22pvhgURMnV0cwwaebMPOAghwgpxPTUjnO6+mVE1dNKvuFkRKvx7bmDrqyRSW6Y1IXROOjxtUrXg4ba1JlmXrdihfUwivVMFOYVg4fLpVUBokT0DD1lkSD8qqJijihb6hMIjE6kQASQAJrIxDOvc//ff36tW8mguF4dRWvnc2PTX2vOmAE1oL37ijahO/1L00o0uGLzzDQCQmowztgLWC0hhdW+gZxIjkJx837F53D5t4OJROuTfaGNKM1vlMyvaX5gFUbLC32zuLl0J6YeBnvLVWk9qAZHH6WO3vN5tMEEJgwtq4Vizd5S71vXj/eSajogylS4vPLI6A0ZQF6tsQJzhNOiBv0L0ZBXnJaEZNHJipoOKF1JCZyJGffRZ7gKCrfxxeHOzCynrcqnCbfnuIHZQgwRWxykC4MijIqOLJXJWWzIFL/AoqvWyoqfWysSUG2iTJPY5pWcNpZKfoQKUs0oUi2DrJRvW0OwkhRYI5MT08qOLkQHTznATytrBiGBJAAEihFYEb/ImysVnYYOrz10d/0UOTYcf6W8YVv2L2BPWEUsepog0/xMgxr0H1Xk3qso8v9etfrz6snh1dd6BirVkYDpd11ZZi6aKpk2Oe/Px15r9l0zQYYgaKfvC8VZkoc23gHdqnfjUlsU3tH9hWesXuCyQ0UDkZ/yHjsEuJ3ldRF/VakwryDjn+dtLq6ITGBD/x4w+j1al43DoxHG8M4Zo6rwkrtorl+MAGTs5VRl8ukgx5RUTjNeBadDm3oUlnVAvScTOgsMinwBzxdZkZfWY6I5b0qFeLmS9mq4tO5a2q+nivxTcinPWqOOtlbVTqfYqQjb/JiSwhml5SWWDriXE0qUeYSGXgXcCIeGGsTHXqJ4HmcCUVmwk+WcJ48MC4SQAJI4IsQmGEvzq8TK6h7J31nHKQcwxCoaEoDRd096dsjl05qpHvCqMPDcxP2hBkPYNnu7hnLePFts/eJiAI7NMQKp9c58aj2zKG2YJ0GjwaqpLGaztvaE4t0VM+Yc0fD4Z7a42i4ZbyiI+GMpctVwayw1YJMg8XCh8HeMt6zrwnrns2+DpYbSKrUd4nt26A049ThDaSnfOjJaOTAziLBUFw6dInxaNjtGOaCfnrA2d3ksgKQb5k9QXB8czbOrg7DnQa1c9OHt7AFViY00t6JMzo/KmkhB0HwZDX57MMUnnPzD+gl8ko54anaJv3sSCw8dmmFZo9Co7wuas5tNnZ0vlXFz0UaqVrsmAtUsZhsyIJIvR2w0lvpZCVvsEnNwZRacXT6YqJ9Qep74vTZAOuAny8zSzE4z6smF6YANJlqQQr0RgJIAAmsmMDK7UXCKvpLV5WEdputgIHIiqql0V4I46XThq1rhMbYdjkF9g30uiac4YDsKeHkRZhT1+rrvfZpAzbiARtR6A2ettuybAn1sTliZMXQaar66bmk6hqssh5bDuF1o81SLHW+fdxUB922xfV7PNhSsBNjbqZ0iQ2s4mwH8xH9dIYqM6LW9abqN1ih9pM1dGWwbpMHfDpG0Zw34HUBW/n0lZ7p50zoVnQ1Xik2yJJSyrqhk1V12BZ5e6Fbw2BKZ5CW9i6KSlo5CKpCB+dbOqUppUjQF5TaSierwzQLORv3i51PMcqn6HQHir9SE3wKismgxZDCVjoGyEptpTMh+ws3qVymlnYAMxiN1MsIp1527vnTbifKsHGPgjelvGoaDd8Qht4l8UACSAAJbIRAqVHrby4SzA6slZloF4KBSZi149d58wzDGAv83ny8/nhLv+QAa37CmZa+GJhvefQyLzf6oZlE3I8vj2HS5QO6rIgQmHG5n5xxmdLIK/CEzKLZVImkU6Yuerl6f6LpWXSmWWr+Ys7MvYTwtPPm9TGZi/L2Fd+bahfTSJcvdbYIKDrJbdYRze/zcpsb6e3VU2hR/hReb07v8ctg5nFKe3qyqSZVniko5SFKVwD1SlPxoiWbaZlWOi/8MjJDpnnVRGeAx1Ouw5j4iwSQABJYFwGyLsF3Xe7V2R6ZsJ8KCgW381rwgb6CGEt4+wZZaq47mIvRAqGMZGowpuJmwgtPcy3komdg9vFaKHUiACQmH8SpSf8pUyf9TPfkrMUoDzTcUPEDgyVVUv8ki3QZUBPUCz3WidQ3GFO1DXqsvknNK9O/oBJVkNvUUs10IkmYOidpIetMwDwyc6qJJkdzMcMUT5EAElgnAbQXi+jeXMLnlEt90hpMy73OZVE3S5H80v7xUvIgyRRz0VsLXIvWfZfOg0acx0KeS3AyctYMSoZNd6/VKIesN1L86UVMhi4OKillunvdSLeN6XQaydBN0E/mN9WdV03wXlg7KtoPYKo0DEQCSAAJLEZgxn7d4Xv0N/hb4VRdtdqq5U4tPCxJUSwFtiiGeZXrORhWhL1/ng9CRWBtNysWZlcV1F79tGuM51aGbfc6tup9imfutOtPYPdVS+nBxu/rOra7+Oso9dqRkm+P6RrqKaeaxoPuabWnijh5cQ28USQSQAIFBNBeLABDvRlJN9XU0pGcyI32QE/urJMTZUkvlpNgBuIz+i0cOBxTqwrslCcFI2lGowsf7faiz/GnpIU8h8RVRV2/UQ6abm/xV4UxKWcjSL8xpkm+K3LnVRN8R6fL6P53mVaUDYpBAkgACcwkcA+6JWdGwghflgB8HYf588/VztVQZR1NUCqwAQ0zQyV3PIbl0hMrqGekguCFE84WTWP4O2iWixvFWrNOUT6efgtySwpZhXshUOUz3iDSdTep8oUuH3PN9EsrkldNeX6lBWJEJIAEkMCCBNBeXBDcRpO5pvKHPz95cHY1FO1y5uJG1cPMkAASQAJIAAkgga+aAI5H34XqrbDCESG/69bAMojIMXdBZ9QRCSABJIAEkAAS+FoIoL14J2qyyvItQt6eysoYzcU7UWOoJBJAAkgACSCBr4gA2ot3ozLh24hNQj59akj8rAU4d6NAqCUSQAJIAAkgASRwZwigvXhHqsrfVaeJ5uIdqS9UEwkgASSABJDAV0Rg9d+P/orgbFVR6K46uxUOexe3qlZQGSSABJAAEkAC3wIBXB/9LdQylhEJIAEkgASQABJAAosTwP7FxdltU8qR+W//+e7vf8/ZS/PG+e23DzeE/GOj+U+w7XfmuHH+53+ZP036QzQv4R8KUoHM/CAv4YplTtFkHdmtQyYWARsStKvkMaVJLBYEwtdxOcN3CwRFxHGNZN2hGwl8kwTQXvwqqt3Wld8YUxPX9lHCr4ISFgIJIAEkgASQABJYiACud1kI25Yl8j4pzaOxuGXVguogASSABJAAEvhKCKC9+BVUJHxSmhE5NBe/gqrEIiABJIAEkAAS2EYCaC9uY63MpxOYi1WBrc+XCGMjASSABJAAEkACSKAkAbQXS4La3miOqVcl/Ebg9lYQaoYEkAASQAJI4K4TQHvxrtfgCD8pfderEPVHAkgACSABJLDlBNBenFZBY6sndU13ShQXYvSs8ZQYqw9yNOFe1wrkjkzdlXgmk4ujtyXdyXiWOZ1d4jJSiuMMNVkbFgfnh2wO8rqLn1++PN+FQOUJyvfbHFKyPUzzUeT5rpl+Xpa5flhNuVjm99yWCp1D85HRbmfu4RtsDnMoilG/HQJbYC+6pspzzD04RH20ReRdqysoRFX4iqeUmzYbg9MK11ZchVetdOgaizHSlR9fRfLH1mAsZgajHV3iTaEnMXGsgcIHjOsN3j8a9Xuwr5o+TNi6mRJHydOOkS4uXlHj0fNkjmnJ0ZnVjQ1i8FwW8nhrih+VcKZjIVAzpUYRlkVK7L7A89CG4GA4v0XBRVxvSD0zeRFvoElFZVrYAc0t06JL0c+00oWzn5IQqykBZ7KaEoEznKUqdKk72wwFSgRnylcXVd7gxKTJuHRzKKEFRkECUwjcbsVxdbZLSPPp+1Uoc/W0WSO7Z1fLybq56uztdiIhH89bpPZg/+jx2dnZ8WHzwc6j8+soA9D+wePLm+h8jY7PL48etVqEdC69TD6/OMxS+/jiUe3wxcdJHS4fQzOoPfYT0uDPL49ho+7dTqB5psS3lx3SOo/kwFmQJ6BI+E/mM9UHxMQaUKiBUEiUkBtnFgtbFvJWFJ8WBwoXHFHZE0UPC7w4qFDC7N9lkV5D/RFoJNdRVu+f7ns+QbPZSJOimZdmGqJP1QCkzrToJP25WmlEooSDCvaPOHfIOGoVoQisJh/JZDXRe0amRqPTmCnlmKzQ9dzZglyC/KNKzL+0Iy19R2H54P6eur5oJss2ByoDDySwEIEt6F+ES2Y0NN+RXXElH0d2iVttHClCI3NNznc6Mk5PqorEJlN9+v3Vs59/6unjhqLbeqL7jhUV5mdVd5KR1+J2zdM+11W5UDj0Ltppaq6lnZqSLNTDKNGvM7TALSQYV1kOJL07MW0aKa/EUeJZDng1LjiigfNZImaFLwl5e4rPqeGVGlfkrMLPEQ6dJAVVkelDI2RJpK5jXcD7Bt9gIvUaLA/uC93vY9xckyrHNI7lvZ3Ak1iOLqWoCEs55oBPSF0ygpZgSJPXa6wHVlNhNcUIw2vK/wXzkGOmMY3pznDNdWeLG9i0SzuONbMZVgX5sXXQS02JWrI5zCgvBiOBKQRm2Iumaf7www/w/Pnuu+9s27MrpghbNGhsmxekJnAp62xRYRVWMcy+3PBHkReU4gy0i5acmRbod4w5lqaKbDUlmBHk1pv+YJjyXPmJa/d69dOEnTq2DEvmk9Rcy+iNZCkYQk9qMB5ab6AviE9q7jjUhGxWaWFyS3xxcD+0PR6eJKVl3d4tMPUqHXYGTLtxUiknD8Mc7h+A9THlWAryNhS/wJiYMOPyGZQF5T9CAX+yi8M7mbRKlkJKhrYJqgpsogGOvBZF6htrUgsyHentA3Lej820oKUXvd2sGH6BEVKUO1ZTeElMqSbaEooAhsnj3xXf2dbWDCu8qNSe6CmDcbnmEDNAFxKYl8AMe1FRFN9MdBznxx9/LC99PDS6Mi8rPUXiZd1x/ZS+r9hW4XukPMydC7yH5jPo7BgbbUlRoWNQUAZOIicvkSC1FVlIhzgDReCltsw3xL5NRTmGLEgwmy84DWTkZEoj8lydVwZDuy8LspLJdWQPXqX6TRLq5DphVuDu24E9yg1cledoVOErZr+nmYSYmmaBlpaUMhfJ0NI+JbsQ46w9xrs8y8RetqV/IrVHbdoVm1/ixJgOGCDxEdxtM5ZOneEuHMePBYZDS+LrcZIiV2TVZMaWgid08gmwDORtKH5kyUUsvMJPmnFReNIxByhIxjAtywmao+NcdHguKStyL4PUoYMC5DD5lgf93WDz73Vk+sKykSa1CFN4uN9PW4t0UN0bQi96u1kx/PD1KqoHP/ui3AlWU0BqRjWFPC3zpMUw4Vne74rvbGtshg1WJM/SXTXLNIc8GOiHBEoSmGEvvnsHj4TgKN+/CAsuGrzOnA60Ll933jw/6Nsgg/p+368ohtHv9gxdNA/EU2+ZiG0NIHjMCF291+2dyq+e/EW3gkzBsmO/75K2roOd1JedRIjW/osjaXpf008r/9w3XUdrG6KmKdyHi9MBzZAeeZn+338/9SO+efIXvlsFNXu9UzGV6/BXwtSz1o51KoNBq1L7ND2pH/KpMw1yYTs0y7UdsDxFAUM7lP+3/8/QhbS5OBpan2qNOu0vzBw+Y64RpR6b3fZPo2bH6Hsdlk5uiTNCotPgbpu1dGIjBVZtXyw3IBQ8oVOP0MUhb0vxoWPpIQlnkH48tx5GJne+CR4RL3bkgaLtMbLdpz48F0c6HsKgAGlyjbC1ubAov/185/BcVzkwF8mmmtRcTGlH0P0D7vI223aLAU8LWRg+tVl1KZwdfMkd3I/ejHLelJa4vXyT1QT2+IL1u/idbV3NsFpnasQK38P9xrj4VTutMWMYEphF4B+mR9jZ2fnw4YMfZ3d3d3rkINTuSQe/Np6+l5gKcUm10TpWZJZ4vvXOlRIMiNbrDPn9Z9PucnVv8mKnr3ofQHbdUThECo8crf3X5+7xa8X72J1jGfaRZ91ATrbRe7Wv9Blwacqve4ryu6nxsla11Cekdhx0euRn+h//dSj8a2XYhcfdYd9fRux6y53HQQlGIzA3G6n5LxUohyj2PEVcQWH+fN9+8VkTw2clqddZAlf1iHBZKxNGenvGMJCc/1NhpXaZvjiaGozGPvwjBJaVn8piLyWRDgdy8SBbHOb3Be0MtbasU9+xW2kIp++HQvC0zykxjUaNmAPq8I7OZegq+KVGStccSVLd69IyCqKlvOHpeBJ5tM6hYMXHFMjFiWjI1hQfLGri5OoKD6rpj7h5QEEOkNOJaakc5/X0yhOtMlBiYaTE67GtuYOubFFZ7pjUBdH4qHF1aixC9+LkRUS9V9+kyjL1uhUvqIVXqmFSZaNj5fDhUomEZxygYeotiQZjNWUgwalfn2n/i8TNBEKKL6o71AxpUzmhYwVMVNbFm0MkAh1IYBEC6XnC2bPXr1/7ZiIYjldX0WrhbLTE+c3rx7DoNrtod9L3qgPRanBvhBW/yWW7l+BPvekBK8GgSHuHHViTfNRqHXZevP8cZuWH0SXLZwlfup4MVvz6ik7J9Pbm9TGIDt4m6fI50CZa6OmtuouX8YZZRr/+qry91HJuOl4bCYhirsRxk7fyGgq3M6FikRIe42lrxmeVOFmO1DRFP8AHktv8IsR+TNBwQuuk8ChW0ATSYUXl+/jicAdG1vNWhVMB21N8UIaWITgiNjlIFwaVkB/mE/7mMV0QaXBtHr6ILsh0Tfkz+cvUNU2XU/7yTao806yKxeel6EOkLNF54CdLGMnJkelpSQXn3V5mtPyvvJqKKzAbAvxm33e2rhl6pfDaSUb5ouaQLTaeI4GVEpgxHg0bq8EwNOQI8xfZ5MT28BE08Utn0MHaFbaRCpnwdezBJ5grD+OjQxte96M5d3ROXU32Z1tBzwiMhh+qPVVRen3DgHUm0eAXYdv6i85hozp89tNfvxc1x8tuNNCek11JYL2zKZn6c/Wb4VeXvZl8+9l9DBMlsPt8/R7XsxNexBmPk6drcsOAOnPq9eCkMwCVxaCc6YC8M4/xqhYU5WTgT9/xGybcyiI7CHymd5rlyFrYq0K7s3OPrSp+YnXkWtgk5NMnTWSJQF1MdFvl0kp4FiP1djQgLSEYLUikWZFzriaVKHMJptnVJtFI8PKqJxSZCT9ZwrlrJqXqN15N2fq8N8e6lxTHnJNkJc28syVq/8s2w5yCoBcSWAGBGePRC+aQnro2dpy/UUEJX/jm8Ruyd6aIVUcDwzFatmsNuu9qUo91dLlf73oD1PXkdDwXBlKrldFAaXddGaYumioZ9vnvT0dedz1d4wtdm6KfvC8VZkoc23gHexEGVq1tau/IvsIzdk8wuYHCwWREMh6D9VHxAYxH9ptPtaZ/AmNvMPhGalJypr83jF6v1sMoid8lxqNht2MY2//0gINhe98GDuVaZk8QnEC90BOmObWIQfVOH545DCsToFQFB50QkyqxHw/uxCafNTPgFmoUiJnfGwaV2qSfvbvCjZfLkVUIuQ4vDLc5CXyvrSp+LtJC1eOAuUDFyWa5FkTq7WiQ3konm9MGm9QcTL1BTJi+mGhf1NwQp88GWAf8fJlZisE5VhPJrybwfWjRtUrJOy+Neg9elKZY4RBl5Xe2XJn5FTpPM6RPmyZTTQoqbA7JSOhGAisnsHJ7kRXUvZO+AwaVd4xhypxoSgNF3T3p2yPXm9Q41FR1eHhuKiwZD2Cbl90zlvFi22bvE4Fus6EhVji9zolHtWcOtQW9u8FooEoaq+m8rT2xSEf1rCV3NBzuqT1qXsCXlF+Bucgzli5XBbPCVgsyJf7uKqEB5fWVNNtc1ezrMJMQJFXqu8T2bVBPryovHe8SAaZhwuFaev9N7dF5+OEXL8Zo5MDjM5i65flEf+gyFSE6m8MBRrPqsC3y9kK3hkqqx5b2LoqKByApsAoG61s61aWR9A36glJb6STDqTtb4mz4VpxPgTxFvztQ/JWa4FNQTAYthtQfFEhvpTMh+ws3qVymlnYAMxiN1MsIp1527vnTbifKsHGPgjclrCaSV00jvXsCdmF2xjanwlKy+97s3Y1XYDbD5ZvhaPiGMErSHoa5wYVPm2z+eI4EVknAH0Rc6d/rl51HdF7h4+PDQ5hdeOVPcbp+ebz/oHkIExGbMBEx8IT5NTvQz+jPN7y9vbl62tpp7j9qHb+49lQCj8O9/cPHZ4+P6PTFINXN+/PjVgu+tfL46NGjo6ev4fXSOz6+PG7utg4PD5+G4vMzhVwfwK4fl+HcKy/dPkj8JZgf6c18PHqZmjd4/eJ4f2+v2dzbgwmVL69TYd50yNrx67RnoNXCPzcfrz/eejMySXquJJ2VlNEuyOT6l/1kXFqwZvMBzM2EY2evuf80JJ1VKq/E3ly75HhmNhE992bXzGqQsZDsPCJInhy9zssh8qNzTueCvH3FL4XUK/AioCDNzCNNe26kt/D1JLgGdrx8ag+azeOX4VUU1VPg2FSTKs8UFPMQxc2Rqkq90lQ8v+SMsTKtdF74ZWQGJBe4vXwb1RTcfdL1WVTJyQqllZ5NFcIOf+e8s3nZzpIZyi7ZDGn061+aZP+X6zAl/Z3/qk2mRjcSWJgAWTjlV53Qe9albjDTiwvrZeayZKZLS4X6t63UXHcwF4sWGlCDMRU3JWvKSW6Ji56B2cfrFLmZIJCYwlp4U865864RMtyCYZlWSjNQfPXFLy9zGVAZ5lNO14l0+5j6ICaaXG5TSzWGiSShWZ6TdArtVNA8MrGaAHgR6xyQk1Gzl9OXvLTLN0OISUuXMRfhvrRVG/9cAAAviElEQVS2p02qieIJEsgQQHsxAyQ8vTrbI/l9eGGM+Bfe92pxJ2nsvxoXfcGEZT8von6cKeaitxa4ll2dXk6PeUpcTmJOrOx9OydKgdd6IdPF+OUrvEDFVXovDqq8FutGum1My5PZBP3S2mA1lUZVGHGrKrRQy8kAeP+vHaX3fVh7c5jUAn2QgE9gxvro8D362/tl272OrXobjc8qvN1XLaXnT26cFXeBcIYVYVuh5wNvb3NID2t1WNHbkDJPWFVQ4aOBXSOcQJoXJ99vjhLnC1ir75ohw/eFylf4Wgu6OeFrR/oNMl1D7WE1rQHq3RA5HnRPqz1VTE5eXH9zuBtsUMsvQQDtxSLqFU7VVauthmZaQTxYwqxYCnzSIrWArSDyYt4sJ8EMxGem7SV3TK0a7gOUK4+RNKPRhY8w5oZO8SxZ4ikS1hW0Aciw5Kdcha+rjBuWuxGk3xjTNVQhVtMaoN4RkfC9pC6j+9/fClTeTHO4I3xQzc0TuAfdjJvP9e7k6MImi9XqxELkuAAzI8RRF3bBp1yYP/9c7VwNVdbRBKUCG9AwM6QtrNfCCWcoFAT7OyKVixvFWrNOUT7g2GBWyWwn3QuBmhRT5LPJcm4yr6Lyzum/Zvqltdkkuk3mVRrAqiJuS4XOUZ6c+sjxmkMgRkUCSxJAe3FJgBtJ7prKH/785MHZ1VC0y5mLG1ELM0ECSAAJIAEkgAS+CQI4Hn0XqrnCCkeE/K5bA8sgUz5DcxfKgjoiASSABJAAEkACd40A2ot3osaqLN8i5O2prIzRXLwTNYZKIgEkgASQABL4igigvXg3KhO+dQO76nz61JD41Ldb7ob2qCUSQAJIAAkgASRwlwmgvXhHas/fVaeJ5uIdqS9UEwkgASSABJDAV0Rg5d+P/orYbFdR6K46uxUOexe3q1pQGySABJAAEkAC3wABXB/9DVQyFhEJIAEkgASQABJAAksQwP7FJeBtUdKR+W//+e7vf8/ZS/PG+e23DzeE/GOj+U+w7XfmuHH+53+ZP036QzQv4R8KUoHMVQZ52aEmmcqBKkAmKSZT2iQ2oYKrGJtQqgl9Be3EKw8jKCIONmWrFs/XSwDtxfXy3ZB0W1d+Y0xNXN9HZjZUEMwGCSABJIAEkAAS2D4CuN5l++pkfo28T0rzaCzOTw5TIAEkgASQABJAArMJoL04m9HWx4BPSjPiGj9gvfUAUEEkgASQABJAAkhgnQTQXlwn3c3IBnOxKrD1zWSGuSABJIAEkAASQALfHAG0F+98lTumXpU45s6XAwuABJAAEkACSAAJbCkBtBe3tGJKqzXCT0qXZoURkQASQAJIAAkggUUIoL04jdrY6kld050SxYUYPWs8JcYKg9zRcDim2rgjexjkOTJ1V+KZTC6O3pZ0J+NZ5nR2ictIKY4z1GRtWBycH7I5yOsufn758nwXApUnKN9vc0jJ9jDNR5Hnu2b6eVnm+mE15WKZ33NbKnQOzUdGu73QPXyOPIKoCz8u5s9qm1PcwUZSHmdOc1rg7rIF9qJrqjzH3IND1Efly7/2mK7VFRSiKnwlzGps9dsiLyuKzMt92zMjK1xbcRVetaYZlWH6ZX/Hpvr9H/9wr94Qu6OKvxp6bA3GYmYw2tEl3hR6EhPlNx4ofMC43uD9o1G/B1t46aHdSeNOljiSkHCMdHHxihqPnidzTIhNOq3uva4VeywLeXuKH5dplmshULOExuHLIiV2X+B5aENwMJzfouAirjeknpm8iDfQpOJCLeqC5pZp0aXoZ1rporlPS4fVlKAzWU2JwBnOUhW61J1thgIlgjPlq4sqb3Di4iZjyUt08nGRo+t2oclRcEGv1DV8BxtJ+WLnNKdF7i63W3Fcne0S0nz6fhXKXD1t1sju2dVysm6uOnu7nYSQ6/NHtdqj8+vb25urM8jhQZwDaP/g8eXNchmWSP3xvNU6e/n69eurj0Hszy8Os9Q+vnhUO3wRRkhIvXwMjav2+DLy+vzyGLb43e0EmmdLfNkhrfNIDpx1/KRUi9g/klbOAWJiDUBSKBRSJ+TGmcVSl4W8FcWnxYHCBUcANFX0sMCLgwolzP5dFuk11B+BRnIdZfX+6b7nEzSbjTQpmnlppiH6VA1A6kyLTtKfq5VGJEo4qGD/iHOHjKNWEYrAavKRTFYTvWdkajQ6jZlSjskKpSeJ0Bh54g4Usp/vF0QFR1SJOTLjWOnYabW8nOH+nrq+5lMHYs+8RDOPi7QOcBYUJKcY8+kSF3pFaEpXPdUzzh2QRwr4AfEpxIofTnByRxpJeRJ5zWm+u8sW9C9CDY6G5juyK67k48gucauNI0VohBfjQr8j4/SkqkhsmHikKwe/Nk5Pw067ygOO8Xv4IAYrKszPqu6Ekdf2W2UIqbIs0Ti+b0Mu0Ltop6m5lnZqSrJQn9DBGdIeOyHBuMpyHCHvTkwqimRLPCFgmge8phUcyX7CaRJmhi0JeXuKz6nhnVYF/Cs/oCegoCoyfWhLt1vXsS7gfYNvMFEhGiwP7gvd72PcXJMqxzSO5Zno8DyQV1wDc8AnpC4ZQUswpMnrNWK67O3la66mGGF4Tfm/8LDnmGlMY7ozXHPd2eIGNu3SjmPNbIZVQX5sHfSmTomaVoBZdV/8uJgmNQj7smjKVz3tQ2Sijo/bS/Jw4k5YorTTotwVEnnNab7n6gx70TTNH374AZ4/3333nW17dsU0bguGjW3zgtQEjl0wfSpZhVUMsy83KinfOU+cgXbRkuNpgbbepRqynhEKOZjOUBOZSCgjyK03/cEw8liPo86fam2uWm1w7Js+WHljy7BkPknNtYzeSJbiIfRIkfHQegN9QTxbjbyI41ATslmlXtkSe7EuDu6HtsfDkzjdpMu7BabeQcPXs2k3Tirn5GGYw/0DsD6mHEtB3obiFxgTJW9eZUH591HAH7030/dPejJplSyFlAxtE6pLgPeX6Bh5LYrUN9akFmQ60tsH5Lwfm2lBSy96u1kx/ILnS1HuWE1hA5tSTbQlFAEMk8e/K76zra0ZVnhRqT3RFzUYZ1yiuY+Lu4ImrszpVR/ck+Lo8ELrOMnTIvfXRoKQvOY0191lhr2oKIpvJjqO8+OPPxaBnfQfD40uzPJTeorEy7rj+jF8X7GtwqcveZg7F3gPzWfQ2TE22pKiQsegoAychEQvkSC1FVlIhzgDReCltsw3RH82oWPIggSz+YLTQEZOpjQiz9V5ZTC0+7IAMxLTuY7swatkv4nX/0kYx2hP6O5nArMCd98O7FFC7dU7AdAfG+oAOlBBdrVade2BJaXMRTK0tE/JLsRYCY/xLs8ysZdt6Z9I7VGbdsVmS+zHSnfIxymDCylj6dQZLroQ4SJtSXw9TlLkiqyazNhS8IROPgGWgbwNxY8suYiFV/hJMy4KTzrmAAXJGKZlOUFzdJyLDs8lZUXuZZA6dFCAHCbf8qC/G2z+vY5MX1g20qQWYQqPl/tpa5EOqnsdEEVvNyuGH75eRfXgZ1+UO8FqCkjNqKaQp2WetBgmPMv7XfGdbY3NsMGK5NmCXTWzLtHcx8XdQZNXsZNVD3XzUdKjjo97D8nlbeGVlhL5tZGghctpTvPcXWbYi+/ewSMhOMr3L8IM2gavM6cDrcvXnTfPD7zBU+r7fb+iGEa/2zN00TwQT71lIrY1gCzGjNDVe93eqfzqyV90K8gULDv2+y5p63q/p/VlJxGitf/iSJre1/TTyj/3TdfR2oaoaQr34eJ0YIfpczL9v/9+6kd88+QvfLcKavZ6p2Iq1+GvhKnH1g48cUHeW4tIGtXdkOyD76XU4pw60yAXthPkup6fqqCey67ZV9R+5WlPqluGLqTNxdHQ+lRr1BNdiKEmPmOuAaahf4zNbvunUbNj9L0hdidT4jBa/m9wIWUtndhIgVXbF8sNCAVP6NSFvTjkbSk+dCzR25V/fDy34pGRfBM8H3/KNw8UjHXGtvvkHTSRfnGk4yEMCpAm1whbmwurLNvPdw7PdZUDc5FsqknNxZR2Rdw/4C5zOlsTVEo7F4ZPbVZdCgfJLrmD+9GbUc6bElTnoreXb7KawB7P3ptKVunid7Z1NcNqnakRq1yHWKaQs+q++HGREeSdbh+aPC1zq94358NpjP4FlunsyJNV5HeHSZC85jTH3eUfipj4/js7Ox8+fPDdu7u70yMHoXZPgql+T99LTAV6wqqN1rEis8TzrXeulGBAtF5nyO8/m3aXq3uTFzt91fsAsuuOwiFSeORo7b8+d49fK97H7hzLsI886wZyso3eq32lz4BLU37dU5TfTY2XtaqlPiG146DTIz/T//ivQ+FfK0MYYSaHfX8Zseu6IHMclGA0AnOzMTH/pSaJ/jeaG6wAA6mnui0pbJCkXgcX7dHhYiszCHIGPWMYuPN/KqzULtMXV2lI3b4EMhT4D8vKDVnspSTSrncuHmSLw/wXzZ2h1pZ16jt2Kw3h9P1QCJ72BSWmRsxBJKVzGTnzHdRI6ZojSap7XVpGfqy0L1y8J5FP67wfuXMcUyDnxE54bU3xwaImTkKx2An3oOmPuHlAgVjI6cS0VI7zenrliVYZ5LwwUuL12NbcQVe2qCx3TOqCaHzUuHrFk72xJlWWqdeteEEtvFINMwDk/6wcPlwqqQwSJ6Bh6i2JBmE1JQAFTr8+0/4XiZsJhBRfVKu/s62tGdKmckLHCph0WWefzbxEcx8XdwBN+aqnVnz8fPGm5RReeBNAvyoSYelymtM8d5f0POHsGazF9c1EMByvrhKrhbMRo/Ob149h0W120e6k71UHotXg3vj55VFy2e4l+FNvesDSHSjl3mHn7Oz4qNU67Lx4/znMyA+rPdg/Okv40gVAsOLXV3RKprc3r49BdPCiQF88QJtooae34CheKQWrzH5perGvg9xhdljqHLypVyQgVHI1vzd5K6+hcDtJFb2sipTwGE9bMz5R4imap6Yp+vG85BTJ5BEh9mOChhNaT+YFsYImkA4rKt/HF4c7MLKetyqcCtie4oMytAzBEbHJQbowqIT8MJ/wN4/pgkiDa/PwRXRBpmvKn8lfpq5pupzyl29S5ZlmVSw+L0UfImWJzgM/WcJITo5MT0sqOO/2MqPlf+XVVFyB2RDgN/u+s3XN0CuF105ylPe36djrXOU9HmhK/xE55RItalRZeHC+nWhyFC32ohzD68xjGtwWQz/v1pzDOSPxrpPwip4pZvmGMGM8GjZWg2FoIAbzF9nkxPbwETTxS6dERCtDotAJX8cefIK58jA+OrThdT+ac0fn1NVkf7YV9IzAaPih2lMVpdc3DE0Vo8Evwrb1F53DRnX47Ke/fi9qjpfVaKA9J7uSwHpnUzL15+o3w68uezP59rP7GEbaw3CQLzH28V1+T0rWd6XnMIrPnHo9OGmxoLIYlDMdkHfmMV7VgqKcDML+fnppQduL7CA4nd5pliNrYa8K7c7OPbaq+N7cNQpqTWwS8pN3SJrfRLdVLq2EZzFSf0ZvS0gun0okXN45V5NKlLlEe4M+h9QRjQQvr3VCkZnwkyWcu2ZSqn7j1ZStz3tzrHtJccw5SVbSzDtbovY31QxrhTc9f9MRsr5LdBvQLFr1ke7UUlr6iKTBPfZLNZJFScxZ+Bn24pzSwujpqWtjx/kbDUn4wjeP35C9M0WsOkMwHKNlu9ag+64G9p6jy6pJvD2p68npeK73eZPRQBF5Zcipmmk57582yXAE3fX+Gl/SbIt+ct94yM2UOLbxjtQ4f70zsU3tHdmHr6TYPaEHthkdzydjLysqFpYVscIRgVzG/qk/ct2SEmPP3jB6vVoPIyR+YTx6xtH3tx9JpAmcsNsxjO1/Miw7G2aZPUHwpoklQ+ow3DlK6B2EeeZwbJMnUwTuiRL7/tAIJx+mcHWUuBvmZJLnBSMLORNJ4Mab9wQthFyHF4ZbJ7liPZnXVhU/F2lS2wL3XKAKZOR4L4jU29EgvZVOVvgGm9QcTAHjvXgGKTWi6f4a2e26s2VZB/x8mdmcg3OspoJqoo/J5GYpUY3m3LiSbHObzJJ3tlyZyUxj9zzN0IWpHs1487ZICN2mYzQy/cnCkW/kKHWJ5j0ucouxhWjmqXp6sZm8kftUiYhNOL5GEiSnORXeXSaIkBnzFycTzPJhBXXvpO+EltUYpsyJpjRQ1N2Tvj1yvUmNQ01Vh4fnJsz+Gw9gm5fdM5bx5Npm7xOBbrOhIVY4vc6JR7VnDrUFPTtsNFAljdV03taeWKSjVmga+o28PbXHgRO+pPwKRsJ5xtLlqmBW2GpBpsTfXeUw2IvQ6ytpwkY1Zl+HmYQgqVLfJTbNl4ETelT5dmfvWV832yxfgV0IBrAIVBUZL8z7Mxo58PgMpm7F3tQFX1FRhLRXuTNqNDtsi7y90K2hEti2flLauygqHoCkrCoYrG/pVJdG0jfoC0ptpZMMp+6JEmcjbMP5FMhT1LsDxad34yklWGPQYkj9QYH0VjoTSn7hJpXL1NIOYAajQe8W0cGpl517/rTbyO+LOeBNKaVcoAhWE8mrppHePYHhxOyMbU6FpWT3vdm7X6wiw4yXb4aj4RvCKN4TMBRa5tcbVJl+ieY/LsoIX0mcpdCsqOoLrreVlK+8kE2SyGlO89xdvBey1f65ftl5ROcVPj4+PITZhVf+FKfrl8f7D5qHMBGxCRMRA0+YY7ED/Yz+fEP65ZSnrZ3m/qPW8YtrTyfwONzbP3x89viITl8MUt28Pz9utY6o76NHR09fh8sMP748bu62Dg8Pn4bi8zOFXB+AwXcZzr3y0u2DxF+C+ZHezMejl+mJIZ8vzx492HnQ3NvbO3wapfXR0emQtePX6QTLUr35eP3x1puRSfbSn76BmSlZ7fzMrn/ZT8alBWs2H8DcTDh29pr7T0PSWd1yS0w71+PZHdkk/rk3HWLWlRELAYmpuROQPDl6nZ9H4Ds35O0rvjdeEdOYUtxFQEGamUea9txIb+HrSc3m3o6XT+1Bs3n8MryKsoXZVJMqzxQ09BClK4B6pal40ZLNtEwrnRd+GZkhUqwmv+ay1RTswZWuz6JKTlboGu5sXrZZTcIKzP6WbIY0GZ07v//LdVbClPPyl2jmceHLBN1mFWPOm/5a0Pg6ZDXNAUtLVe5ig8R3sZHMRSKnOc1zdyFT2t03HOQ961JtZzoMWC+zcnMxyNFvDam57mAuFs1ipneAVNzpesehuSX2rr4cE2Tivh3LmeHKXpJ+6XKyyN4IQO4aIcP6J1imla3w1Rc/eJbllDeLdBlQM+ogEbxOpNvH1C/4RJPLbWqpxjCRJKzAnKQJulOd88jEagLgRaxzQE5GzV5OX/LSLt8MISYt3Xzm4tRWlwnMe1zcGTQ+nPBSDH4nq54WOaeNROniFHe2keQWMC5XotLzmtM8dxe0FxMwk86rsz2S34eXjOW7wUCvxZ2kk+HL+fiLsxMG4hRz0VsLXMuuTi+X/zwlLicxJ1b2ksyJUuC1Xsh0NWH5Ci9QcZXei4Mqr8W6kW4b0/JkNkG/tDZYTaVRFUbcqgot1HIyAAy62lHRvg+T0ef2ga0jFnxczJ3V9ie4q42kPNmc5jTf3WU9610i2/3uOth2r2Or3kbjswph91VL6cEek+s5GFaEbYWeD7y9zSELWKvDit6GlHn5wabevfpp1wgnkObFyfebo8T5Atbqu2bI8H2h8hW+1oJuTvjakX6DTNdQe1hNa4B6N0SOB93Tak8V5568WLp4iz8uSmeBEbeFQF5zmvPugvZiUWVWOFVXrbYammkF8WAJs2Ip8EmLakGE5b1ZToIZiM/gg9H0cEytGu4DlCubkTSj0YWPMOaGTvEsWeIpEtYVtAHIsOSnXIWvq4wblrsRpN8Y0zVUIVbTGqDeEZHwvaQuo/vf31qfygs/LtanEkpeB4Gc5jT/3eUe9GWuQ7mvRaY7HsOnmicWIsfFmxkhjrqwCz7lwvz552rnaqiyjiYolb4hMTOkLazXwglnKBQEw45IlWk8c6WsWadknhvMKpntpHshUJNiinw2Wc5N5lVU3jn910y/tDabRLfJvEoDWFXEbanQOcqzyfrYZF5zINhw1DvYSMoTyqniHK8Z8tBenAFoK4JdU/nDn588OLsainY5c3Er1EYlkAASQAJIAAkgga+CAI5H34Vq9PcL/123BpZBij9DcxeKgjoiASSABJAAEkACd44A2ot3osqqLN8i5O2prIzRXLwTNYZKIgEkgASQABL4igigvXg3KhO+ddMk5NOnhsSnvt1yN7RHLZEAEkACSAAJIIG7TADtxTtSe/6uOk00F+9IfaGaSAAJIAEkgAS+IgIr/370V8Rmu4pCd9XZrQSfvN4u1VAbJIAEkAASQAJI4KsmgOujv+rqxcIhASSABJAAEkACSGBpAti/uDTCrRAwMv/tP9/9/e85e2neOL/99uGGkH9sNP8Jtv3OHDfO//wv86dJf4jmJfxDQSqQOXeQJxOzy9TAgpwR5gpb5pSmjpxXyBlhzgvTu1kwgiLirHUPBf75sgTQXvyy/FeUu60rvzGmJq7vIzMrUhTFIAEkgASQABJAAnePAK53uXt1Nqmx90lpHo3FSTLogwSQABJAAkgACSxPAO3F5Rl+cQnwSWlGXOMHrL94AVEBJIAEkAASQAJI4EsSQHvxS9JfTd5gLlYFtr4aYSgFCSABJIAEkAASQAIZAmgvZoDcvVPH1KsSx9w9xVFjJIAEkAASQAJI4G4QQHvxbtRTsZYj/KR0MRwMQQJIAAkgASSABFZAAO3FaRDHVk/qmu6UKC7E6FnjKTFWGOSOhsMx1cYd2cMgz5GpuxLPZHJx9LakOxnPMqezS1xGSnGcoSZrw+Lg/JDNQV538fPLl+e7EKg8Qfl+m0Oan/9X4bvwVfZVlD4qxHigqoMN3QKjTDflGBnt9kJ30vkVxOY0J7OvuuGVZ5FzL8/xKi9vWswtsBddU+U55h4coj6apuuGw1yrKyhEVfjKlIwrXFtxFV61phmVU9LPFTQ21e//+Id79YbYHVX81dBjazAWM4PRji7xptCTmEj4eKDwAeN6g/ePRv0e7Oulh3YnjVuqxGSki4tX1Hj0PJljpGHaYXXvda3Ya1nI21P8uEyzXAuBmiU0Dl8WaSxp5a5M5a9c/gyBJRsLmbzK8gR/2cLApZq6kPI0XMgvdQ9wx/AaO8teTKVYKM+lEkE9LHbTqosqb3DiwiYjNqcS9VaicQRRUjFLNTzy1V+COffyHK8S1VAiyhbYixW+a/aVXUKaq1m0Yff5+j22Z5co/ZQort1TdLGvsL616Gg8tWjTh3cHqnBqXx7IpxuxGEnr7OVrvd9VBcbTfWwaTuaT0iNDVSq9U7GeKFxV6JlmTwKfmqyZ/jEcfe439IPv+W6geabE9DpL3GLXcdXBxZ94nKVuBQnlqXM5yNtVfCAZHJFNPK3otPjlQdHY5Y7lkBbnQXUtPKISE9q8skcitFj+ukNKNRaSucrWUUFeQWOa8bU4eSnGsUKkcewsrxzuYaIJ/im5xSKTWYD4RMRJVZNx53LHekdqgnqJvDxpcazCQoW5pgoXxvZ/U1IZqd+vHigLWozYnELe/m0sAp1iHMdZ2EWrM2oZy3VqpHWI20ms8mS7jmOFJYxjp+Xl3vrCRHEJgkQpuUUic+7lOV5ZNRY53wJ7EdQeDc13ZFdcyceRXeJWG0eK0FgER5RmZJyeVBWJDTzGQ+vN/tFZdHQOm2Svowq+UcaKCvOzuuANJcqyhKPKEFJlWaJxfJ/aw9C7aKepuZZ2akpyoFhSpDOkPXZCgnGV5ThC3p2YnmmdKXEy6Wz35G268AKYLSw/xpKQt6f4nHobHCrgX/mRusGEteD9TtxtlkSar3pdMsLy3V52CGmdf4zObxMljjH4wTRueJw89BSeuHmG4ev+ndVYiq+yEprNUUGExDQNyb/Z5OUQxwKWFGRHLYyd5R5UzsfzVothksJBz/tO1FZvP0r6/RVXyFx3jVjvRCNK6uu541i3t1AkaH1y0UWWghY3UcqPY1Ksq4L82DroTZ2YNKFJwgObE8CYozmF7WLihpVgupTzK7wEc+7lOV5LUaOJZ9iL0BX1ww8/wM37u+++s+0lu+wKlR3b5gWpCVxonRVGLBNQYRXD7MsNv1+wTIqcOM5Au2jJ8bRAuOIP210lONocGVaeamq05SEjyK03/cEwR9Iqver8qdbmqtUGx77pg5U3tgxL5pPUXMvojWQpZwidWrzw8ObZaqyR41ATslmlXtkSe7EuDu6HFsfDkzjdpMu7TdNHTmQcwF3XO5l2c6dyAtMAsrl/cDEpOOGzFORtKH7BXarkXbEsKP8xCPg7l7Ep4J1MWhxLIU1UTY7TK+xD6/yco20ox9AIHwp5DSxQfVbbycl2JV6zGkv+VbbiCsryCTjlkEyV2eo+POlcJsj5auU2Msgi198X6DgT16PljFKZ5Z+s+K6x4GUz0tsH5Lwf282BWnkAaRZ5/mH5Kryo1J7oCxqM2Jwox7LNCeoCbhv0HXP+N5Rv+RLMuZfneIUtetHfGfYiGEi+meg4zo8//lg+l/HQ6Mq8rPQUiZd1x/VT+r5iW4XvYfIwdy7wHprPCGHHRltSVOgYFJSBk8jJSyRIbUUW0iHOQBF4qS3zDbFvU1GOIQsSzOYLTgMZOZnSiDxX55XB0O7Lgqxkch3Zg1e7fIOJtGDbZk8ILC2YS6raSr/diEKhG6DB774d2GXupolUczoB0B8b6gA6UCFhtVp17YElpcxFMrS0T8kuxDgHj/EuzzKxl23pn0jtUZt2xU6U2IsWm39er0WUNLj1Zh42dYa7cBw/0sixWhJfj1IUOiKrxusOiKMFl37yLr4M5G0ofmTJRaX0Cj9pxkXhScccoCAZw7SihzvcqTs8l5QVuZdBGglJOcKne5v04ZZvSJLXQ8Wbvrnz/7d39cBt41gYmdlC16mTtrK61VZWZ11lbWVtFW3HVFZnXWVttXSnuUZKZaWKtlqmCveuiDxzM1HmiiiVuZWVKkplpopSRV10Ve4B/BEAPpDUny0p4Iwt4gF4eO/DA/iIP4oWM1fJ82xDLwepfKGQDQcSjEXRyuba0IGt+YUrk1hBwStYyMhrjCFGIZ27AQdQ8hZhqJG9NiQZGWybu5JG1UCAa+IN9NLK+942PiZx8URZc6+xTLMBK/xe9BbDge5YAEEBZ3ghDbRSrYqlGvl9yQETbU4UwZTmRA3RHx3PG2b7orPInoZvugkifTlColWxwpXgL759+zZknn58EZaCFyt2oTWwOpW8++bZIzZ5Sqk/9jLNfr/X6fbt2vBRzVv0N3IGUMi0UO3Y3U63VX/15Gfb8YsFz670Y4c0bLvXtXp1l4uxGj+7hmX3LLuV+UdvOHOtRr9mWc3yh6vWYBTkRwr9779aXsI3T36udLIgZhfW+wmljv8khTzv7WSy2QxjOXNajaHR4jaTMHK+UCRXI9cvdTM/2ar5vD6DtZ5mL/O0a+Sdvl0V3cXJ2PmUK+a5IcRAEg/jchFcQ++aDjuNXyfH7X6PqeJGNA4SYr/+E0F+fMyfgcjjB+MTQ/ObvtC7Lw/ytqhPH+hkPu7n/D10oHAXPAagIAoDCl5g5r47/gD0sy8PaVC+9BvM8om2wZwf5j/yjUrKOg/iOs3jN3uXZCzqVobKhSuTooKo0wNOmudLf72Ggdrw7QnxQel4JBuYEZoMKhFCpNUWzehXm+f/xozPIQwR0vK9xkLNhr6xfP+ofA0vK6mMTZIUdEYyZvOFHHGCt2EpS3xQm1OATxpzgpfbubsOD5QrOF6YLohOmn0KykB/v40miPTlCAkFKDXxu/iUBwcHHz588NIcHsKelBTXqGs8+rP49J1RyMBIWLb48LxZLxFGzbdvmv6EaD5fIO8fD0edcp4tXmz3TPYB5NlsEkyRwoCh1fjl2ez8dZPN/LpOf3QWOGqjfvfVSbNXIGRkNf88ajbfD61K3co65hOSO/entvFC//2f0+o/M+MOTLec9rxtxLPZDDSb+tpNJuBuFsU1LH6Ua7ceF+q3odvlk0k+X4JXU5iuKUf6KHfQ7Y+DdOhvpmQ00ozFZYpGp2cAiyb8wbbyfr3WFRjCqB4pY72kSzEmB2OrUbdpjuksU6y23o2rxSxjoNCYPiIehSW0r8Nb/IY+AzvDiWHk2ZBWH08lUuHJdxFSHj7vhffITQzISGqOtDXqQwdIXE6w+S08TJHH1DyeTtynBgqyQUkXQ8csl9lIbz1ilT7npSHlJONu2QAXF0Zuoe8OHBNBJZaURiJ57pSUZCxE0coEbRIsGRRKriBoTirFORAhCUOdeWOqavb5YNXDt3BI5nFm43PQP/oX5d1P4B2kJWT9vUbaZuOJDSp8Teh7JP2Y7Fdc+wKC1CBpZVzQ6fjCXNFUd9qcymztIrfaaDFzKsCrjEFZNBLx/rabINKXI6REEOMT+G+vip/Xr197biI4jjc3N4pUPPnL699y4PA9fccTv0apN21IloOm/fnlGdz8Fgy6XAOdkul1c0k91KPT9uXl+dnDh6ftF+8+B2y9uNwPsAuFo35+cUrIYdsTNKZQEOgcWLM+lnKkpULo1uPO3qdDiTwa+884yrp58XSVeciAy7KG2y9fECYgykFERJUQDGNyeKmsQKXGSMmQNsTNj/YGIFBDk5KChBGpo2Xwq+/4WJV+H1+cHsDM+otgLIbPA/fboz4IQ3XwrxAbBNKlgeL4B+UEv36zEtBRQSokWjoA3LFCl+a3hoxfbi6Pc7BZ7QZrVcA/0VhYDaZt6ggAi1QQ37BCIBGea8BFyQKKCw2Vkz2k0YUkyXAgJs4rF5io3DJCqbCSEZ5h+nXfMGGRrkub04JIJ5gTxZm39MDM/LoWqpwFbpPKhwJDhn5azpgkw4skFZZJhXwQnklirBKfgFnAmqoltUSEFKRe6jdhPhqO6oNpaOAM6xdLsDE3+aIr6GDvSkkcgYtQ3dHgE+zWhfnR8QjeBcM1d3RNXa7urbaC93gYFDs1u2az2e31+5ZZ84fDQIxSw37RPi1mx7//+suPNctlkk0G1jNyaFQ9QWMKhVKH3AE+bCXfiXyOIWPJ/5s5A1AOVg7yxA3fwyx+oeVECwGRa76e0UiZwjBe14YimTmEg0lIaoK8bUMwftAM4bU0KUOHs9Frq9QPpmY3hQ3HX+h7obxgXA8Faa1EGA1gCxZhlxS889MrnHjnyglSsQT8v3DelUu81tuc0la8/miDbYUu5AquxAriG1Zy7cl4YpgzGOWEePUgiAeyU8FXvnjlEnuNoOR0zQYGUoVLaVByQnRrVqKm2pwEtFcxJ27R4sTuXMRs9E+sFXUCzpi+7SaohkgRk+AvKnIlkcWV01PX/R/NwVFhUcIbcnTZrGXdMTiO4bZdZ9B5mwN/z7Xr5pCwM6nz/HK8Gfu8yWTQrFWa47JpDR333dNjMp7ARIG3x5ccN2peds95QAsl7qj/luTKvlc7GlpvyQl8JWXUrXbBN6Oz/mTKiqJsw2vMnFx0oppNo+ez2JwNzEcnXL0hEz8sJ7yBA7Rhbv9T3xmFJP/Ggf031XJGIudhunMSlZu5w3OfXMpEgwqNoTeN9rTQza/PCYQnF/JUg/aMPR2VIOfhheGra9UKiGqwYIHu69kW9VFIUbFF4kJAiVnjQkpI4zLFx1FnhD+IhTlHdK9jxGfkHYbAhRIGYOMLWi4Wzk8YTiZDM9J4PHbJxgKNBWtlm6ggnCeuNxgWt9qRwskwj7Tf9NUD5VBrJeiCPlwIRkVNfMVeA+WJy0AVnC8SZnZF9+1Euxng+aBTkOYk2BafCGiw/Gc2JceF6EiBNqe0rT2tOZVNZrjeDivsMYBXO1Dx5qJ4mCi5iBE4TzFNEAKDus8miPTlCCkQdrnftfuLpap5RMbu1BdnOraMcmuUq5qH8OY+YT7cbGyZ5vj0ud0sEXbWQLhtdzTsfiIwbDbu9zLlYr5cO8sR1/MFgd9kYFYbfZdMHOuJA/tRmLdEv5F3ZFbLNN7pvyLH4PY5djcLzhSIghfqlRp6EOz0x+NaOTu07BJb+ZjJH3LlBshOJ2MY78SvycQlh0VPJCkFfEUl4VIsXqROs1uCF/n3tjMWmdLRxVr01JwsOKx/Rc68YPrNfXKRkx/CNUaT3h8xBuQYoXZA/RUfpjHKJ0UpIZ3AO8F8nEAMzWDV8YMHpeCgd7EMx4KNqR/lfh40vG5f2aoXI5GFOiSVLIglxamZxMWkMRa8lcVxXW8c9gCkYzGwZlJYu5w3es/pIlah9PVUz/0ZLK8MKgUoeCUcKAQ5ymbU+Njo1XXkzRe8lShowGIyfiNtgeQlUd1rc1IhI9ClioQgc/MjlSNkus/AVjZBpC9HSKvBtnZ/kZSa9sv6yKg2YBq5XjcHWdOBgR84FPFldUSPrmnUqp2JMRhZRgFEh+FFchSeIQh7MB4ejLuNlts04QMlcDb+4GmmA1y6ZqNWt2ZGH2ZnSb7aem5kHasDVKNuF+0+OJ5w5SuN8+PpoNPoZXst6kypCoVSh7CCqcE22AT5+mbdLsGZitQLLZaquVdOcNwP5U0v+ooJSy2j75gQ5TpXuYo0Cc8yrfAvX+nAp1zqsCLzL2soOIwwIFpG3EXYXFQ+IcNxmBYGYunH/5p05fpVy6hU2UZ1TCRcYyylRKNv88IFU5D+Tso5GXlfl9ikCS4M8n6pnwwRHTDhL7qn0J8ODsniMEscpDC/f5DNzPxi5VAObQeQuFxpQ/2LxcDjFk5Vu0h3wlK8npmMULIglhQXz0iOTW8sciuTOanDi1eQmpcYk68YD68eNYTDR+gJhJGTlDZcPaJUytAGew1QEIxe7HHooZSy8VHEoHGICemIKrSa6PFTcAAvOREOr1Xq5kVoc5IBTwDsjqL3twkifTlCWhVm5sjrfxICbGNLdHXz59vrm4/YOnnYL5M7f43FSIwXD3pLhYRlrLDX5/RFuPNHYHn7x4m85FWIVwZQjelqWewKFiEruSkjgKMAq3IhVLi0eM5qgyB7G7IEyaDc9aufnucqQM0hS7rbFKRR5NKbDORFKj9JkzuNx1rZIpacVtgFecqoKzGXE3I7/0TRognD7mDOHKQUuidVpnkOsZA0ocV4RnBTGVQkYXBepSQTTXfyx61EXVdQm5PSAGWIma0FSwhYgKsUpDY9c1VVv8wdCS/IU7ZTpc3LCZUIRBMiTZAKjvTlCAlRcRESWSTxt5T25vKInL1M5wHCZuvckXrz8Yqw3f5xDBbCOYgx7iLb3pnDd3AnibGIxkm8lPFg/bJXpkwrRmwWZLoZP32Fi5JtJLQ8UOnF2TSk6SXZtZSwiXrJVrZrmqaQV35sp8iyY0nAocudqU5fWIMu2pyWAnH/DS89LEhfjpDS81OkXP98dOj97vZNqdFtj0zl/C2v3KhnOs0unDG5matQqh0S8mzg+FODsFenBIstFYXBod7dfKvTp1Pni10LaLwY47Wk3jDIdMN96gpfi0L3z2TjkN6/ipuSYPlWtimJNN+NIQBLnFrZLl0gtalLm9OmkP1W+CJ9OUJaHQ3tL6owzJRN23QaZuCmKdLBFuam07Tn35JWpFuBXCobcDrk7/DBaHq5QytbLcX0XQXD6hc7ddtlyRf4l1LjBTiuK+kdgEzI9qq/Lhh5PncCKV/gnt0v3cr2DIe9V8e1G52C7X0Fa3PKanPaHLZ7zxnpyxHSWmB4AOOOa2G0p0xm0ykcuMh2YuMaJibAsy1EhU+5FH56nG3fjM2Sa1WbmV6fbRaKY7K0XEtnjJNmHgcnImXi8Jyn5O42LBNXErnDovhio/dLARVlo6JsjZ4qAXeCrlGk1bTXKNylcndZ1k60rwQhNV4MIAQGhJSAZbpo7S+mw+l+U82Gzb/99OSHy5txbZTOXbxfeXXpGgGNgEZAI6AR0AjsEwJ6PnoXahOOkjxjxzAOnD5J/AzNLmikZdQIaAQ0AhoBjYBGYHcQ0P7iTtRVtlSBc7v/atWbU+0u7kSNaSE1AhoBjYBGQCOwRwhof3E3KhO+dQOn6nz6VDQqxd2QWEupEdAIaAQ0AhoBjcC+IKD9xR2pSe9UHfjaoXYXd6TGtJgaAY2ARkAjoBHYGwS+2xtN9l0ReqrOIXxVe9/11PppBDQCGgGNgEZAI7BtCOj90dtWI1oejYBGQCOgEdAIaAQ0AtuFgJ6P3q760NJoBDQCGgGNgEZAI6AR2DYEtL+4bTWi5dEIaAQ0AhoBjYBGQCOwXQj8H521ViEMt1l7AAAAAElFTkSuQmCC)"
      ],
      "metadata": {
        "id": "-sXRmCMOvKWI"
      }
    },
    {
      "cell_type": "code",
      "source": [
        "#\"반포한\"의 응집확률\n",
        "word_score_table[\"반포한\"].cohesion_forward"
      ],
      "metadata": {
        "colab": {
          "base_uri": "https://localhost:8080/"
        },
        "id": "EaerU0W2rIKV",
        "outputId": "d9ad5340-b434-448e-fab1-46bcf211677b"
      },
      "execution_count": 52,
      "outputs": [
        {
          "output_type": "execute_result",
          "data": {
            "text/plain": [
              "0.08838002913645132"
            ]
          },
          "metadata": {},
          "execution_count": 52
        }
      ]
    },
    {
      "cell_type": "code",
      "source": [
        "#\"반포한강\"의 응집확률\n",
        "word_score_table[\"반포한강\"].cohesion_forward"
      ],
      "metadata": {
        "colab": {
          "base_uri": "https://localhost:8080/"
        },
        "id": "Koj7_RA7vebG",
        "outputId": "7bb49954-f42b-4d9f-a9e3-7b825b829667"
      },
      "execution_count": 53,
      "outputs": [
        {
          "output_type": "execute_result",
          "data": {
            "text/plain": [
              "0.19841268168224552"
            ]
          },
          "metadata": {},
          "execution_count": 53
        }
      ]
    },
    {
      "cell_type": "code",
      "source": [
        "word_score_table[\"반포한강공\"].cohesion_forward"
      ],
      "metadata": {
        "colab": {
          "base_uri": "https://localhost:8080/"
        },
        "id": "WE6dxoaivrsH",
        "outputId": "b0885e14-3491-47b8-ea76-508c2fe4a0d6"
      },
      "execution_count": 54,
      "outputs": [
        {
          "output_type": "execute_result",
          "data": {
            "text/plain": [
              "0.2972877884078849"
            ]
          },
          "metadata": {},
          "execution_count": 54
        }
      ]
    },
    {
      "cell_type": "code",
      "source": [
        "word_score_table[\"반포한강공원\"].cohesion_forward"
      ],
      "metadata": {
        "colab": {
          "base_uri": "https://localhost:8080/"
        },
        "id": "ltSFQuaQvxkM",
        "outputId": "dc15df98-cbe6-4d94-cc31-ab12b60e92e0"
      },
      "execution_count": 55,
      "outputs": [
        {
          "output_type": "execute_result",
          "data": {
            "text/plain": [
              "0.37891487632839754"
            ]
          },
          "metadata": {},
          "execution_count": 55
        }
      ]
    },
    {
      "cell_type": "code",
      "source": [
        "word_score_table[\"반포한강공원에\"].cohesion_forward"
      ],
      "metadata": {
        "colab": {
          "base_uri": "https://localhost:8080/"
        },
        "id": "sejd4Kt4vzqM",
        "outputId": "b698d984-a036-487a-97c6-5d587afa9f15"
      },
      "execution_count": 56,
      "outputs": [
        {
          "output_type": "execute_result",
          "data": {
            "text/plain": [
              "0.33492963377557666"
            ]
          },
          "metadata": {},
          "execution_count": 56
        }
      ]
    },
    {
      "cell_type": "markdown",
      "source": [
        "\"반포한강공원\"까지 응집 확률이 올라가다가 \"반포한강공원에\"에서 떨어짐.\n",
        "\n",
        "\"반포한강공원\"이 한 단어임을 판단 가능."
      ],
      "metadata": {
        "id": "-Wit3fXov20Q"
      }
    },
    {
      "cell_type": "markdown",
      "source": [
        "# 4) sotnlp의 브랜칭 엔트로피\n",
        "\n",
        "주어진 문자열에서 다음 문자열이 등장할지 판단하는 척도.\n",
        "\n",
        "다음 문자를 판단하는 데 헷갈리는 척도.\n",
        "\n",
        "완성된 단어와 가까워질수록 값이 줄어든다."
      ],
      "metadata": {
        "id": "pKMrH5CzwkpU"
      }
    },
    {
      "cell_type": "code",
      "source": [
        "word_score_table[\"디스\"].right_branching_entropy"
      ],
      "metadata": {
        "colab": {
          "base_uri": "https://localhost:8080/"
        },
        "id": "h8yR3NCIv1kk",
        "outputId": "d408bbe4-ce30-4bc8-ce59-6a9862207230"
      },
      "execution_count": 57,
      "outputs": [
        {
          "output_type": "execute_result",
          "data": {
            "text/plain": [
              "1.6371694761537934"
            ]
          },
          "metadata": {},
          "execution_count": 57
        }
      ]
    },
    {
      "cell_type": "code",
      "source": [
        "word_score_table[\"디스플\"].right_branching_entropy"
      ],
      "metadata": {
        "colab": {
          "base_uri": "https://localhost:8080/"
        },
        "id": "hpNQ2A4rxJi2",
        "outputId": "3d8098fb-9bd6-4536-d565-db3534b78e13"
      },
      "execution_count": 58,
      "outputs": [
        {
          "output_type": "execute_result",
          "data": {
            "text/plain": [
              "-0.0"
            ]
          },
          "metadata": {},
          "execution_count": 58
        }
      ]
    },
    {
      "cell_type": "code",
      "source": [
        "word_score_table[\"디스플레\"].right_branching_entropy"
      ],
      "metadata": {
        "colab": {
          "base_uri": "https://localhost:8080/"
        },
        "id": "CnKEE2OrxODT",
        "outputId": "bf6baf88-83dd-4ee0-e213-28d3e57a3667"
      },
      "execution_count": 59,
      "outputs": [
        {
          "output_type": "execute_result",
          "data": {
            "text/plain": [
              "-0.0"
            ]
          },
          "metadata": {},
          "execution_count": 59
        }
      ]
    },
    {
      "cell_type": "code",
      "source": [
        "word_score_table[\"디스플레이\"].right_branching_entropy"
      ],
      "metadata": {
        "colab": {
          "base_uri": "https://localhost:8080/"
        },
        "id": "qriMDLGvxScE",
        "outputId": "5f1965fd-6714-4763-c4e2-66fa75e9a40f"
      },
      "execution_count": 60,
      "outputs": [
        {
          "output_type": "execute_result",
          "data": {
            "text/plain": [
              "3.1400392861792916"
            ]
          },
          "metadata": {},
          "execution_count": 60
        }
      ]
    },
    {
      "cell_type": "markdown",
      "source": [
        "\"디스플\" 이후 어떤 단어가 들어갈지 명백하기 때문에 0값으로 줄어들음.\n",
        "\n",
        "\"디스플레이\" 이후에는 조사나 다른 단어가 등장할 다양한 경우가 있기 때문에 값이 커짐."
      ],
      "metadata": {
        "id": "1LxwdNgixYSz"
      }
    },
    {
      "cell_type": "markdown",
      "source": [
        "#5) soynlp의 L tokenizer\n",
        "\n",
        "L 토큰 + R 토큰 형식의 한국어\n",
        "\n",
        "공부 + 하는\n",
        "\n",
        "공원 + 에\n",
        "\n",
        "L + R로 나누되 분리 기준을 점수가 가장 높은 L 토큰을 찾아내는 원리"
      ],
      "metadata": {
        "id": "PHB63Lg2xxjy"
      }
    },
    {
      "cell_type": "code",
      "source": [
        "from soynlp.tokenizer import LTokenizer\n",
        "scores = {word:score.cohesion_forward for word, score in word_score_table.items()}\n",
        "l_tokenizer = LTokenizer(scores=scores)\n",
        "l_tokenizer.tokenize(\"국제사회와 우리의 노력들로 범죄를 척결하자\", flatten=False)"
      ],
      "metadata": {
        "colab": {
          "base_uri": "https://localhost:8080/"
        },
        "id": "QssB2wpnxXxt",
        "outputId": "02e6fd95-fec1-4195-bca4-a97c62060991"
      },
      "execution_count": 67,
      "outputs": [
        {
          "output_type": "execute_result",
          "data": {
            "text/plain": [
              "[('국제사회', '와'), ('우리', '의'), ('노력', '들로'), ('범죄', '를'), ('척결', '하자')]"
            ]
          },
          "metadata": {},
          "execution_count": 67
        }
      ]
    },
    {
      "cell_type": "markdown",
      "source": [
        "#6) 최대 점수 토크나이저\n",
        "\n",
        "띄어쓰기가 되지 않은 문장에서 점수가 높은 글자 시퀀스를 순차적을 찾아내는 토크나이저"
      ],
      "metadata": {
        "id": "fOddiMsq2LBd"
      }
    },
    {
      "cell_type": "code",
      "source": [
        "from soynlp.tokenizer import MaxScoreTokenizer\n",
        "\n",
        "maxscore_tokenizer = MaxScoreTokenizer(scores=scores)\n",
        "maxscore_tokenizer.tokenize(\"국제사회와우리의노력들로범죄를척결하자\")"
      ],
      "metadata": {
        "colab": {
          "base_uri": "https://localhost:8080/"
        },
        "id": "SNDJpDsIxTS2",
        "outputId": "738d7f59-2651-4e14-cefb-da97df103d36"
      },
      "execution_count": 69,
      "outputs": [
        {
          "output_type": "execute_result",
          "data": {
            "text/plain": [
              "['국제사회', '와', '우리', '의', '노력', '들로', '범죄', '를', '척결', '하자']"
            ]
          },
          "metadata": {},
          "execution_count": 69
        }
      ]
    },
    {
      "cell_type": "markdown",
      "source": [
        "#4. soynlp를 이용한 반복되는 문자 정제\n",
        "\n",
        "ㅋㅋㅋ와 같은 문자를 하나로 정규화함"
      ],
      "metadata": {
        "id": "Z3eVT7El3OlQ"
      }
    },
    {
      "cell_type": "code",
      "source": [
        "from soynlp.normalizer import *"
      ],
      "metadata": {
        "id": "3fui9dwN2lE1"
      },
      "execution_count": 70,
      "outputs": []
    },
    {
      "cell_type": "code",
      "source": [
        "print(emoticon_normalize('앜ㅋㅋㅋㅋ이영화존잼쓰ㅠㅠㅠㅠㅠ', num_repeats=2)) #num_repeats: 몇번 이상 반복되면 축약할 것인지\n",
        "print(emoticon_normalize('앜ㅋㅋㅋㅋㅋㅋㅋㅋ이영화존잼쓰ㅠㅠㅠㅠㅠㅠㅠㅠ', num_repeats=2))\n",
        "print(emoticon_normalize('앜ㅋㅋㅋㅋㅋㅋㅋㅋㅋㅋ이영화존잼쓰ㅠㅠㅠㅠㅠㅠㅠㅠㅠㅠㅠ', num_repeats=2))"
      ],
      "metadata": {
        "colab": {
          "base_uri": "https://localhost:8080/"
        },
        "id": "x2NKrY9D3gog",
        "outputId": "98a15d36-9370-43ac-b8e1-feea83036cae"
      },
      "execution_count": 75,
      "outputs": [
        {
          "output_type": "stream",
          "name": "stdout",
          "text": [
            "아ㅋㅋ영화존잼쓰ㅠㅠ\n",
            "아ㅋㅋ영화존잼쓰ㅠㅠ\n",
            "아ㅋㅋ영화존잼쓰ㅠㅠ\n"
          ]
        }
      ]
    },
    {
      "cell_type": "code",
      "source": [
        "print(emoticon_normalize('와하하하하', num_repeats=2))\n",
        "print(emoticon_normalize('와하하하하하하하', num_repeats=2))\n",
        "print(emoticon_normalize('와하하하하하하하하하하', num_repeats=2))"
      ],
      "metadata": {
        "colab": {
          "base_uri": "https://localhost:8080/"
        },
        "id": "S6SjOeHz3ut-",
        "outputId": "e87f5cc2-393e-4c0f-a3c4-1b7aeeb35b0e"
      },
      "execution_count": 78,
      "outputs": [
        {
          "output_type": "stream",
          "name": "stdout",
          "text": [
            "와하하\n",
            "와하하\n",
            "와하하\n"
          ]
        }
      ]
    },
    {
      "cell_type": "markdown",
      "source": [
        "#5. Customize konlpy\n",
        "\n",
        "사용자 사전 추가"
      ],
      "metadata": {
        "id": "38r1p6FT4enQ"
      }
    },
    {
      "cell_type": "code",
      "source": [
        "!pip install customized_konlpy"
      ],
      "metadata": {
        "colab": {
          "base_uri": "https://localhost:8080/"
        },
        "id": "UUj2xrc04Vwr",
        "outputId": "e6a031a5-6568-4f5d-99f2-e9d3ba2ceb20"
      },
      "execution_count": 80,
      "outputs": [
        {
          "output_type": "stream",
          "name": "stdout",
          "text": [
            "Collecting customized_konlpy\n",
            "  Downloading customized_konlpy-0.0.64-py3-none-any.whl (881 kB)\n",
            "\u001b[2K     \u001b[90m━━━━━━━━━━━━━━━━━━━━━━━━━━━━━━━━━━━━━━━━\u001b[0m \u001b[32m881.5/881.5 kB\u001b[0m \u001b[31m6.6 MB/s\u001b[0m eta \u001b[36m0:00:00\u001b[0m\n",
            "\u001b[?25hRequirement already satisfied: Jpype1>=0.6.1 in /usr/local/lib/python3.10/dist-packages (from customized_konlpy) (1.5.0)\n",
            "Requirement already satisfied: konlpy>=0.4.4 in /usr/local/lib/python3.10/dist-packages (from customized_konlpy) (0.6.0)\n",
            "Requirement already satisfied: packaging in /usr/local/lib/python3.10/dist-packages (from Jpype1>=0.6.1->customized_konlpy) (24.0)\n",
            "Requirement already satisfied: lxml>=4.1.0 in /usr/local/lib/python3.10/dist-packages (from konlpy>=0.4.4->customized_konlpy) (4.9.4)\n",
            "Requirement already satisfied: numpy>=1.6 in /usr/local/lib/python3.10/dist-packages (from konlpy>=0.4.4->customized_konlpy) (1.25.2)\n",
            "Installing collected packages: customized_konlpy\n",
            "Successfully installed customized_konlpy-0.0.64\n"
          ]
        }
      ]
    },
    {
      "cell_type": "code",
      "source": [
        "#형태소 분석기 Twitter 사용\n",
        "from konlpy.tag import Twitter\n",
        "twitter = Twitter()\n",
        "twitter.morphs(\"은경이는 사무실로 갔습니다\")"
      ],
      "metadata": {
        "colab": {
          "base_uri": "https://localhost:8080/"
        },
        "id": "wtLiaC7l48ol",
        "outputId": "6d501aa6-31c3-46db-aa8f-4845380561f8"
      },
      "execution_count": 88,
      "outputs": [
        {
          "output_type": "stream",
          "name": "stderr",
          "text": [
            "/usr/local/lib/python3.10/dist-packages/konlpy/tag/_okt.py:17: UserWarning: \"Twitter\" has changed to \"Okt\" since KoNLPy v0.4.5.\n",
            "  warn('\"Twitter\" has changed to \"Okt\" since KoNLPy v0.4.5.')\n"
          ]
        },
        {
          "output_type": "execute_result",
          "data": {
            "text/plain": [
              "['은경', '이', '는', '사무실', '로', '갔습니다']"
            ]
          },
          "metadata": {},
          "execution_count": 88
        }
      ]
    },
    {
      "cell_type": "code",
      "source": [
        "twitter.add_dictionary('은경이', 'Noun')\n",
        "#twitter 최신 버전에서 지원하지 않는듯 + 은경이 제대로 인식"
      ],
      "metadata": {
        "colab": {
          "base_uri": "https://localhost:8080/",
          "height": 144
        },
        "id": "Wf7BBicZ5sLN",
        "outputId": "268bb212-2257-4edf-ebb5-bf9935d57b86"
      },
      "execution_count": 90,
      "outputs": [
        {
          "output_type": "error",
          "ename": "AttributeError",
          "evalue": "'Okt' object has no attribute 'add_dictionary'",
          "traceback": [
            "\u001b[0;31m---------------------------------------------------------------------------\u001b[0m",
            "\u001b[0;31mAttributeError\u001b[0m                            Traceback (most recent call last)",
            "\u001b[0;32m<ipython-input-90-d8e42e1bb6e4>\u001b[0m in \u001b[0;36m<cell line: 1>\u001b[0;34m()\u001b[0m\n\u001b[0;32m----> 1\u001b[0;31m \u001b[0mtwitter\u001b[0m\u001b[0;34m.\u001b[0m\u001b[0madd_dictionary\u001b[0m\u001b[0;34m(\u001b[0m\u001b[0;34m'은경이'\u001b[0m\u001b[0;34m,\u001b[0m \u001b[0;34m'Noun'\u001b[0m\u001b[0;34m)\u001b[0m \u001b[0;31m#twitter 최신 버전에서 지원하지 않는듯 + 은경이 제대로 인식\u001b[0m\u001b[0;34m\u001b[0m\u001b[0;34m\u001b[0m\u001b[0m\n\u001b[0m",
            "\u001b[0;31mAttributeError\u001b[0m: 'Okt' object has no attribute 'add_dictionary'"
          ]
        }
      ]
    },
    {
      "cell_type": "code",
      "source": [],
      "metadata": {
        "id": "3nGtFmlx5fcD"
      },
      "execution_count": null,
      "outputs": []
    }
  ]
}